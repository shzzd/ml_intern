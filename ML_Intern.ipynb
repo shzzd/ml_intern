{
  "nbformat": 4,
  "nbformat_minor": 0,
  "metadata": {
    "colab": {
      "name": "ML_Intern.ipynb",
      "provenance": [],
      "collapsed_sections": [
        "2r-Kh0YWsGGX",
        "hdkXlYu6sXix",
        "ezOxrpcTmNGI",
        "czjhh_m8mRTZ",
        "hHvOX5Nw5Ly4",
        "s8sur6LTUBOf",
        "uy7p3TtCcgKR",
        "EXuXm3568ahG"
      ]
    },
    "kernelspec": {
      "name": "python3",
      "display_name": "Python 3"
    },
    "language_info": {
      "name": "python"
    }
  },
  "cells": [
    {
      "cell_type": "markdown",
      "source": [
        "#Import Library"
      ],
      "metadata": {
        "id": "2r-Kh0YWsGGX"
      }
    },
    {
      "cell_type": "code",
      "execution_count": null,
      "metadata": {
        "id": "ZaxakbEea8pS"
      },
      "outputs": [],
      "source": [
        "import numpy as np\n",
        "import pandas as pd\n",
        "import seaborn as sns\n",
        "from scipy import stats\n",
        "import matplotlib.pyplot as plt\n",
        "\n",
        "from imblearn.over_sampling import SMOTE\n",
        "\n",
        "from sklearn.preprocessing import LabelEncoder\n",
        "from sklearn.preprocessing import MinMaxScaler\n",
        "from sklearn.model_selection import train_test_split\n",
        "from sklearn.model_selection import KFold, cross_val_score\n",
        "\n",
        "from sklearn.metrics import accuracy_score\n",
        "from sklearn.metrics import classification_report\n",
        "from sklearn.metrics import plot_confusion_matrix\n",
        "from sklearn.metrics import roc_curve, roc_auc_score\n",
        "\n",
        "from sklearn.neighbors import KNeighborsClassifier\n",
        "from sklearn.linear_model import LogisticRegression\n",
        "from sklearn.ensemble import RandomForestClassifier\n",
        "from sklearn.neural_network import MLPClassifier\n",
        "from sklearn.svm import SVC\n",
        "\n",
        "from sklearn.model_selection import GridSearchCV\n",
        "\n",
        "from sklearn.model_selection import learning_curve\n",
        "from sklearn.model_selection import ShuffleSplit"
      ]
    },
    {
      "cell_type": "markdown",
      "source": [
        "# Read Dataset"
      ],
      "metadata": {
        "id": "hdkXlYu6sXix"
      }
    },
    {
      "cell_type": "code",
      "source": [
        "df = pd.read_csv('drive/MyDrive/Dataset/Demo_Data_Loan.csv')\n",
        "df.head()"
      ],
      "metadata": {
        "colab": {
          "base_uri": "https://localhost:8080/",
          "height": 305
        },
        "id": "K3f4BZNabSSy",
        "outputId": "d821940c-a627-4ecb-9ceb-c030743227e0"
      },
      "execution_count": null,
      "outputs": [
        {
          "output_type": "execute_result",
          "data": {
            "text/plain": [
              "    Loan_ID Gender Married Dependents     Education Self_Employed  \\\n",
              "0  LP001015   Male     Yes          0      Graduate            No   \n",
              "1  LP001022   Male     Yes          1      Graduate            No   \n",
              "2  LP001031   Male     Yes          2      Graduate            No   \n",
              "3  LP001035   Male     Yes          2      Graduate            No   \n",
              "4  LP001051   Male      No          0  Not Graduate            No   \n",
              "\n",
              "   ApplicantIncome  CoapplicantIncome  LoanAmount  Loan_Amount_Term  \\\n",
              "0             5720                  0       110.0             360.0   \n",
              "1             3076               1500       126.0             360.0   \n",
              "2             5000               1800       208.0             360.0   \n",
              "3             2340               2546       100.0             360.0   \n",
              "4             3276                  0        78.0             360.0   \n",
              "\n",
              "   Credit_History Property_Area  Loan Approved  \n",
              "0             1.0         Urban              0  \n",
              "1             1.0         Urban              0  \n",
              "2             1.0         Urban              0  \n",
              "3             NaN         Urban              0  \n",
              "4             1.0         Urban              0  "
            ],
            "text/html": [
              "\n",
              "  <div id=\"df-89a13940-9208-4a6c-9288-c02efb02cf19\">\n",
              "    <div class=\"colab-df-container\">\n",
              "      <div>\n",
              "<style scoped>\n",
              "    .dataframe tbody tr th:only-of-type {\n",
              "        vertical-align: middle;\n",
              "    }\n",
              "\n",
              "    .dataframe tbody tr th {\n",
              "        vertical-align: top;\n",
              "    }\n",
              "\n",
              "    .dataframe thead th {\n",
              "        text-align: right;\n",
              "    }\n",
              "</style>\n",
              "<table border=\"1\" class=\"dataframe\">\n",
              "  <thead>\n",
              "    <tr style=\"text-align: right;\">\n",
              "      <th></th>\n",
              "      <th>Loan_ID</th>\n",
              "      <th>Gender</th>\n",
              "      <th>Married</th>\n",
              "      <th>Dependents</th>\n",
              "      <th>Education</th>\n",
              "      <th>Self_Employed</th>\n",
              "      <th>ApplicantIncome</th>\n",
              "      <th>CoapplicantIncome</th>\n",
              "      <th>LoanAmount</th>\n",
              "      <th>Loan_Amount_Term</th>\n",
              "      <th>Credit_History</th>\n",
              "      <th>Property_Area</th>\n",
              "      <th>Loan Approved</th>\n",
              "    </tr>\n",
              "  </thead>\n",
              "  <tbody>\n",
              "    <tr>\n",
              "      <th>0</th>\n",
              "      <td>LP001015</td>\n",
              "      <td>Male</td>\n",
              "      <td>Yes</td>\n",
              "      <td>0</td>\n",
              "      <td>Graduate</td>\n",
              "      <td>No</td>\n",
              "      <td>5720</td>\n",
              "      <td>0</td>\n",
              "      <td>110.0</td>\n",
              "      <td>360.0</td>\n",
              "      <td>1.0</td>\n",
              "      <td>Urban</td>\n",
              "      <td>0</td>\n",
              "    </tr>\n",
              "    <tr>\n",
              "      <th>1</th>\n",
              "      <td>LP001022</td>\n",
              "      <td>Male</td>\n",
              "      <td>Yes</td>\n",
              "      <td>1</td>\n",
              "      <td>Graduate</td>\n",
              "      <td>No</td>\n",
              "      <td>3076</td>\n",
              "      <td>1500</td>\n",
              "      <td>126.0</td>\n",
              "      <td>360.0</td>\n",
              "      <td>1.0</td>\n",
              "      <td>Urban</td>\n",
              "      <td>0</td>\n",
              "    </tr>\n",
              "    <tr>\n",
              "      <th>2</th>\n",
              "      <td>LP001031</td>\n",
              "      <td>Male</td>\n",
              "      <td>Yes</td>\n",
              "      <td>2</td>\n",
              "      <td>Graduate</td>\n",
              "      <td>No</td>\n",
              "      <td>5000</td>\n",
              "      <td>1800</td>\n",
              "      <td>208.0</td>\n",
              "      <td>360.0</td>\n",
              "      <td>1.0</td>\n",
              "      <td>Urban</td>\n",
              "      <td>0</td>\n",
              "    </tr>\n",
              "    <tr>\n",
              "      <th>3</th>\n",
              "      <td>LP001035</td>\n",
              "      <td>Male</td>\n",
              "      <td>Yes</td>\n",
              "      <td>2</td>\n",
              "      <td>Graduate</td>\n",
              "      <td>No</td>\n",
              "      <td>2340</td>\n",
              "      <td>2546</td>\n",
              "      <td>100.0</td>\n",
              "      <td>360.0</td>\n",
              "      <td>NaN</td>\n",
              "      <td>Urban</td>\n",
              "      <td>0</td>\n",
              "    </tr>\n",
              "    <tr>\n",
              "      <th>4</th>\n",
              "      <td>LP001051</td>\n",
              "      <td>Male</td>\n",
              "      <td>No</td>\n",
              "      <td>0</td>\n",
              "      <td>Not Graduate</td>\n",
              "      <td>No</td>\n",
              "      <td>3276</td>\n",
              "      <td>0</td>\n",
              "      <td>78.0</td>\n",
              "      <td>360.0</td>\n",
              "      <td>1.0</td>\n",
              "      <td>Urban</td>\n",
              "      <td>0</td>\n",
              "    </tr>\n",
              "  </tbody>\n",
              "</table>\n",
              "</div>\n",
              "      <button class=\"colab-df-convert\" onclick=\"convertToInteractive('df-89a13940-9208-4a6c-9288-c02efb02cf19')\"\n",
              "              title=\"Convert this dataframe to an interactive table.\"\n",
              "              style=\"display:none;\">\n",
              "        \n",
              "  <svg xmlns=\"http://www.w3.org/2000/svg\" height=\"24px\"viewBox=\"0 0 24 24\"\n",
              "       width=\"24px\">\n",
              "    <path d=\"M0 0h24v24H0V0z\" fill=\"none\"/>\n",
              "    <path d=\"M18.56 5.44l.94 2.06.94-2.06 2.06-.94-2.06-.94-.94-2.06-.94 2.06-2.06.94zm-11 1L8.5 8.5l.94-2.06 2.06-.94-2.06-.94L8.5 2.5l-.94 2.06-2.06.94zm10 10l.94 2.06.94-2.06 2.06-.94-2.06-.94-.94-2.06-.94 2.06-2.06.94z\"/><path d=\"M17.41 7.96l-1.37-1.37c-.4-.4-.92-.59-1.43-.59-.52 0-1.04.2-1.43.59L10.3 9.45l-7.72 7.72c-.78.78-.78 2.05 0 2.83L4 21.41c.39.39.9.59 1.41.59.51 0 1.02-.2 1.41-.59l7.78-7.78 2.81-2.81c.8-.78.8-2.07 0-2.86zM5.41 20L4 18.59l7.72-7.72 1.47 1.35L5.41 20z\"/>\n",
              "  </svg>\n",
              "      </button>\n",
              "      \n",
              "  <style>\n",
              "    .colab-df-container {\n",
              "      display:flex;\n",
              "      flex-wrap:wrap;\n",
              "      gap: 12px;\n",
              "    }\n",
              "\n",
              "    .colab-df-convert {\n",
              "      background-color: #E8F0FE;\n",
              "      border: none;\n",
              "      border-radius: 50%;\n",
              "      cursor: pointer;\n",
              "      display: none;\n",
              "      fill: #1967D2;\n",
              "      height: 32px;\n",
              "      padding: 0 0 0 0;\n",
              "      width: 32px;\n",
              "    }\n",
              "\n",
              "    .colab-df-convert:hover {\n",
              "      background-color: #E2EBFA;\n",
              "      box-shadow: 0px 1px 2px rgba(60, 64, 67, 0.3), 0px 1px 3px 1px rgba(60, 64, 67, 0.15);\n",
              "      fill: #174EA6;\n",
              "    }\n",
              "\n",
              "    [theme=dark] .colab-df-convert {\n",
              "      background-color: #3B4455;\n",
              "      fill: #D2E3FC;\n",
              "    }\n",
              "\n",
              "    [theme=dark] .colab-df-convert:hover {\n",
              "      background-color: #434B5C;\n",
              "      box-shadow: 0px 1px 3px 1px rgba(0, 0, 0, 0.15);\n",
              "      filter: drop-shadow(0px 1px 2px rgba(0, 0, 0, 0.3));\n",
              "      fill: #FFFFFF;\n",
              "    }\n",
              "  </style>\n",
              "\n",
              "      <script>\n",
              "        const buttonEl =\n",
              "          document.querySelector('#df-89a13940-9208-4a6c-9288-c02efb02cf19 button.colab-df-convert');\n",
              "        buttonEl.style.display =\n",
              "          google.colab.kernel.accessAllowed ? 'block' : 'none';\n",
              "\n",
              "        async function convertToInteractive(key) {\n",
              "          const element = document.querySelector('#df-89a13940-9208-4a6c-9288-c02efb02cf19');\n",
              "          const dataTable =\n",
              "            await google.colab.kernel.invokeFunction('convertToInteractive',\n",
              "                                                     [key], {});\n",
              "          if (!dataTable) return;\n",
              "\n",
              "          const docLinkHtml = 'Like what you see? Visit the ' +\n",
              "            '<a target=\"_blank\" href=https://colab.research.google.com/notebooks/data_table.ipynb>data table notebook</a>'\n",
              "            + ' to learn more about interactive tables.';\n",
              "          element.innerHTML = '';\n",
              "          dataTable['output_type'] = 'display_data';\n",
              "          await google.colab.output.renderOutput(dataTable, element);\n",
              "          const docLink = document.createElement('div');\n",
              "          docLink.innerHTML = docLinkHtml;\n",
              "          element.appendChild(docLink);\n",
              "        }\n",
              "      </script>\n",
              "    </div>\n",
              "  </div>\n",
              "  "
            ]
          },
          "metadata": {},
          "execution_count": 179
        }
      ]
    },
    {
      "cell_type": "markdown",
      "source": [
        "Lets just rename the target column as 'target' first"
      ],
      "metadata": {
        "id": "M8HWLVOdscdB"
      }
    },
    {
      "cell_type": "code",
      "source": [
        "df.rename(columns = {'Loan Approved':'target'}, inplace = True)"
      ],
      "metadata": {
        "id": "c_n8lYv_rjbs"
      },
      "execution_count": null,
      "outputs": []
    },
    {
      "cell_type": "code",
      "source": [
        "df.target.value_counts()"
      ],
      "metadata": {
        "colab": {
          "base_uri": "https://localhost:8080/"
        },
        "id": "emYCUbNSxko_",
        "outputId": "58f62338-f6ff-47e0-a42d-77bb892ad70e"
      },
      "execution_count": null,
      "outputs": [
        {
          "output_type": "execute_result",
          "data": {
            "text/plain": [
              "0    341\n",
              "1     26\n",
              "Name: target, dtype: int64"
            ]
          },
          "metadata": {},
          "execution_count": 47
        }
      ]
    },
    {
      "cell_type": "markdown",
      "source": [
        "Lets assume here,\n",
        "\n",
        "0 means loan not approved\n",
        "\n",
        "1 means loan approved"
      ],
      "metadata": {
        "id": "cB_eRoDXx58t"
      }
    },
    {
      "cell_type": "markdown",
      "source": [
        "# EDA"
      ],
      "metadata": {
        "id": "ezOxrpcTmNGI"
      }
    },
    {
      "cell_type": "markdown",
      "source": [
        "Lets check if all IDs are unique or not"
      ],
      "metadata": {
        "id": "qn4jUrXSauyu"
      }
    },
    {
      "cell_type": "code",
      "source": [
        "if df.Loan_ID.value_counts().max() == df.Loan_ID.value_counts().min():\n",
        "  print('All are unique')"
      ],
      "metadata": {
        "colab": {
          "base_uri": "https://localhost:8080/"
        },
        "id": "eLdqE_iWaz3c",
        "outputId": "4d6d4062-5a06-432d-9747-780ee9e73383"
      },
      "execution_count": null,
      "outputs": [
        {
          "output_type": "stream",
          "name": "stdout",
          "text": [
            "All are unique\n"
          ]
        }
      ]
    },
    {
      "cell_type": "code",
      "source": [
        "df.shape"
      ],
      "metadata": {
        "colab": {
          "base_uri": "https://localhost:8080/"
        },
        "id": "O-6_vkaab_mf",
        "outputId": "aa4e609f-04eb-4230-ecd1-45723e5b48fc"
      },
      "execution_count": null,
      "outputs": [
        {
          "output_type": "execute_result",
          "data": {
            "text/plain": [
              "(367, 13)"
            ]
          },
          "metadata": {},
          "execution_count": 13
        }
      ]
    },
    {
      "cell_type": "markdown",
      "source": [
        "The dataset has 367 rows and 13 columns"
      ],
      "metadata": {
        "id": "Xnp7nOuftD_h"
      }
    },
    {
      "cell_type": "code",
      "source": [
        "df.info()"
      ],
      "metadata": {
        "colab": {
          "base_uri": "https://localhost:8080/"
        },
        "id": "bZYFi-QJcF7t",
        "outputId": "28a2f05e-5862-4a33-fec4-a9f1b9b5d7cd"
      },
      "execution_count": null,
      "outputs": [
        {
          "output_type": "stream",
          "name": "stdout",
          "text": [
            "<class 'pandas.core.frame.DataFrame'>\n",
            "RangeIndex: 367 entries, 0 to 366\n",
            "Data columns (total 13 columns):\n",
            " #   Column             Non-Null Count  Dtype  \n",
            "---  ------             --------------  -----  \n",
            " 0   Loan_ID            367 non-null    object \n",
            " 1   Gender             356 non-null    object \n",
            " 2   Married            367 non-null    object \n",
            " 3   Dependents         357 non-null    object \n",
            " 4   Education          367 non-null    object \n",
            " 5   Self_Employed      344 non-null    object \n",
            " 6   ApplicantIncome    367 non-null    int64  \n",
            " 7   CoapplicantIncome  367 non-null    int64  \n",
            " 8   LoanAmount         362 non-null    float64\n",
            " 9   Loan_Amount_Term   361 non-null    float64\n",
            " 10  Credit_History     338 non-null    float64\n",
            " 11  Property_Area      367 non-null    object \n",
            " 12  target             367 non-null    int64  \n",
            "dtypes: float64(3), int64(3), object(7)\n",
            "memory usage: 37.4+ KB\n"
          ]
        }
      ]
    },
    {
      "cell_type": "markdown",
      "source": [
        "It has 6 columns with numerical value and 7 column with categorical value"
      ],
      "metadata": {
        "id": "5X8Xp0H8tUUz"
      }
    },
    {
      "cell_type": "code",
      "source": [
        "df.isnull().sum()"
      ],
      "metadata": {
        "colab": {
          "base_uri": "https://localhost:8080/"
        },
        "id": "h7FtsZwscG4o",
        "outputId": "c3e1658c-aa60-4a82-91bf-25e8649c6b3f"
      },
      "execution_count": null,
      "outputs": [
        {
          "output_type": "execute_result",
          "data": {
            "text/plain": [
              "Loan_ID               0\n",
              "Gender               11\n",
              "Married               0\n",
              "Dependents           10\n",
              "Education             0\n",
              "Self_Employed        23\n",
              "ApplicantIncome       0\n",
              "CoapplicantIncome     0\n",
              "LoanAmount            5\n",
              "Loan_Amount_Term      6\n",
              "Credit_History       29\n",
              "Property_Area         0\n",
              "loan_approved         0\n",
              "dtype: int64"
            ]
          },
          "metadata": {},
          "execution_count": 7
        }
      ]
    },
    {
      "cell_type": "markdown",
      "source": [
        "Four features 'Gender', 'Dependents', 'self_Employed', 'Credit_History' has some null values that we are going to drop later based on analysis."
      ],
      "metadata": {
        "id": "SYkx-OhYuY7k"
      }
    },
    {
      "cell_type": "code",
      "source": [
        "df[df.isnull().any(axis=1)].shape"
      ],
      "metadata": {
        "colab": {
          "base_uri": "https://localhost:8080/"
        },
        "id": "T4yYfETYb_7E",
        "outputId": "cec61abb-1056-49d0-b435-a98d28147ecf"
      },
      "execution_count": null,
      "outputs": [
        {
          "output_type": "execute_result",
          "data": {
            "text/plain": [
              "(78, 13)"
            ]
          },
          "metadata": {},
          "execution_count": 333
        }
      ]
    },
    {
      "cell_type": "markdown",
      "source": [
        "null values found in 78 rows"
      ],
      "metadata": {
        "id": "iCMGTyQiTB0p"
      }
    },
    {
      "cell_type": "code",
      "source": [
        "pd.crosstab(df.target, df.target).plot.barh()\n",
        "plt.show()"
      ],
      "metadata": {
        "colab": {
          "base_uri": "https://localhost:8080/",
          "height": 265
        },
        "id": "kvWC97vjzVHE",
        "outputId": "1f478400-e77f-4365-db93-e386337949f1"
      },
      "execution_count": null,
      "outputs": [
        {
          "output_type": "display_data",
          "data": {
            "text/plain": [
              "<Figure size 432x288 with 1 Axes>"
            ],
            "image/png": "[encoded data removed]"
          },
          "metadata": {
            "needs_background": "light"
          }
        }
      ]
    },
    {
      "cell_type": "markdown",
      "source": [
        "We can see here the dataset is highly imbalanced."
      ],
      "metadata": {
        "id": "IKhOiIaAzi8b"
      }
    },
    {
      "cell_type": "markdown",
      "source": [
        "we can assume who has no dependency has high chance to get the loan, as dependency increases the peole get less chance to get loan"
      ],
      "metadata": {
        "id": "jhr2k2zE7dN3"
      }
    },
    {
      "cell_type": "code",
      "source": [
        "for i in df:\n",
        "  if i != 'Loan_ID' and df[i].dtype in ['bool', object]:\n",
        "    print('\\n')\n",
        "    pd.crosstab(df[i], df.target).plot.barh()\n",
        "    plt.show()"
      ],
      "metadata": {
        "id": "j8_zPLEos77b",
        "colab": {
          "base_uri": "https://localhost:8080/",
          "height": 1000
        },
        "outputId": "d8ce18e0-4763-4a8d-d524-4369e30ed660"
      },
      "execution_count": null,
      "outputs": [
        {
          "output_type": "stream",
          "name": "stdout",
          "text": [
            "\n",
            "\n"
          ]
        },
        {
          "output_type": "display_data",
          "data": {
            "text/plain": [
              "<Figure size 432x288 with 1 Axes>"
            ],
            "image/png": "[encoded data removed]"
          },
          "metadata": {
            "needs_background": "light"
          }
        },
        {
          "output_type": "stream",
          "name": "stdout",
          "text": [
            "\n",
            "\n"
          ]
        },
        {
          "output_type": "display_data",
          "data": {
            "text/plain": [
              "<Figure size 432x288 with 1 Axes>"
            ],
            "image/png": "[encoded data removed]"
          },
          "metadata": {
            "needs_background": "light"
          }
        },
        {
          "output_type": "stream",
          "name": "stdout",
          "text": [
            "\n",
            "\n"
          ]
        },
        {
          "output_type": "display_data",
          "data": {
            "text/plain": [
              "<Figure size 432x288 with 1 Axes>"
            ],
            "image/png": "[encoded data removed]"
          },
          "metadata": {
            "needs_background": "light"
          }
        },
        {
          "output_type": "stream",
          "name": "stdout",
          "text": [
            "\n",
            "\n"
          ]
        },
        {
          "output_type": "display_data",
          "data": {
            "text/plain": [
              "<Figure size 432x288 with 1 Axes>"
            ],
            "image/png": "[encoded data removed]"
          },
          "metadata": {
            "needs_background": "light"
          }
        },
        {
          "output_type": "stream",
          "name": "stdout",
          "text": [
            "\n",
            "\n"
          ]
        },
        {
          "output_type": "display_data",
          "data": {
            "text/plain": [
              "<Figure size 432x288 with 1 Axes>"
            ],
            "image/png": "[encoded data removed]"
          },
          "metadata": {
            "needs_background": "light"
          }
        },
        {
          "output_type": "stream",
          "name": "stdout",
          "text": [
            "\n",
            "\n"
          ]
        },
        {
          "output_type": "display_data",
          "data": {
            "text/plain": [
              "<Figure size 432x288 with 1 Axes>"
            ],
            "image/png": "[encoded data removed]"
          },
          "metadata": {
            "needs_background": "light"
          }
        }
      ]
    },
    {
      "cell_type": "markdown",
      "source": [
        "we take the feature with categorical value and can see every feature is highly imbalanced"
      ],
      "metadata": {
        "id": "aewUeuyj2SLf"
      }
    },
    {
      "cell_type": "code",
      "source": [
        "colors = np.array(['red', 'blue'])"
      ],
      "metadata": {
        "id": "H6KxCmW_VsDz"
      },
      "execution_count": null,
      "outputs": []
    },
    {
      "cell_type": "code",
      "source": [
        "df_sort = df.sort_values('ApplicantIncome')\n",
        "df_sort.head()\n",
        "plt.scatter(df_sort.ApplicantIncome/100, df_sort.LoanAmount, color = colors[df_sort.target])\n",
        "plt.xlabel('Applicant Income')\n",
        "plt.ylabel('Loan amount')\n",
        "plt.show()"
      ],
      "metadata": {
        "colab": {
          "base_uri": "https://localhost:8080/",
          "height": 279
        },
        "id": "UWE59eZa9fg_",
        "outputId": "66578447-716d-4571-c2f6-a5393f2d0f02"
      },
      "execution_count": null,
      "outputs": [
        {
          "output_type": "display_data",
          "data": {
            "text/plain": [
              "<Figure size 432x288 with 1 Axes>"
            ],
            "image/png": "[encoded data removed]"
          },
          "metadata": {
            "needs_background": "light"
          }
        }
      ]
    },
    {
      "cell_type": "markdown",
      "source": [
        "Sort applicant income and devide with 100, so that the value range make similar with loan amount.\n",
        "\n",
        "here we can observe,\n",
        "\n",
        "As applicant income increases, loan amount also increases accordingly."
      ],
      "metadata": {
        "id": "0a6sRps1g0-M"
      }
    },
    {
      "cell_type": "markdown",
      "source": [
        "##### distplot"
      ],
      "metadata": {
        "id": "Kvh6PGDc3-EX"
      }
    },
    {
      "cell_type": "code",
      "source": [
        "df.shape"
      ],
      "metadata": {
        "colab": {
          "base_uri": "https://localhost:8080/"
        },
        "id": "e4kX9jNO5Gp4",
        "outputId": "dca76999-3caa-4b9b-b158-4a8098e9fa0d"
      },
      "execution_count": null,
      "outputs": [
        {
          "output_type": "execute_result",
          "data": {
            "text/plain": [
              "(289, 12)"
            ]
          },
          "metadata": {},
          "execution_count": 177
        }
      ]
    },
    {
      "cell_type": "code",
      "source": [
        "for i in df:\n",
        "  if i != 'Loan_ID' and df[i].dtype not in ['bool', object]:\n",
        "    print('\\n')\n",
        "    sns.distplot(df[i])\n",
        "    plt.xlabel(f'{i}, std: {round(df[i].std(), 2)}')\n",
        "    plt.show()"
      ],
      "metadata": {
        "colab": {
          "base_uri": "https://localhost:8080/",
          "height": 1000
        },
        "id": "0qHD50IZ4AUh",
        "outputId": "ab5b6086-d1bf-4b2c-f8f5-2e91d1487d90"
      },
      "execution_count": 193,
      "outputs": [
        {
          "output_type": "stream",
          "name": "stdout",
          "text": [
            "\n",
            "\n"
          ]
        },
        {
          "output_type": "stream",
          "name": "stderr",
          "text": [
            "/usr/local/lib/python3.7/dist-packages/seaborn/distributions.py:2619: FutureWarning: `distplot` is a deprecated function and will be removed in a future version. Please adapt your code to use either `displot` (a figure-level function with similar flexibility) or `histplot` (an axes-level function for histograms).\n",
            "  warnings.warn(msg, FutureWarning)\n"
          ]
        },
        {
          "output_type": "display_data",
          "data": {
            "text/plain": [
              "<Figure size 720x360 with 1 Axes>"
            ],
            "image/png": "[encoded data removed]"
          },
          "metadata": {}
        },
        {
          "output_type": "stream",
          "name": "stdout",
          "text": [
            "\n",
            "\n"
          ]
        },
        {
          "output_type": "stream",
          "name": "stderr",
          "text": [
            "/usr/local/lib/python3.7/dist-packages/seaborn/distributions.py:2619: FutureWarning: `distplot` is a deprecated function and will be removed in a future version. Please adapt your code to use either `displot` (a figure-level function with similar flexibility) or `histplot` (an axes-level function for histograms).\n",
            "  warnings.warn(msg, FutureWarning)\n"
          ]
        },
        {
          "output_type": "display_data",
          "data": {
            "text/plain": [
              "<Figure size 720x360 with 1 Axes>"
            ],
            "image/png": "[encoded data removed]"
          },
          "metadata": {}
        },
        {
          "output_type": "stream",
          "name": "stdout",
          "text": [
            "\n",
            "\n"
          ]
        },
        {
          "output_type": "stream",
          "name": "stderr",
          "text": [
            "/usr/local/lib/python3.7/dist-packages/seaborn/distributions.py:2619: FutureWarning: `distplot` is a deprecated function and will be removed in a future version. Please adapt your code to use either `displot` (a figure-level function with similar flexibility) or `histplot` (an axes-level function for histograms).\n",
            "  warnings.warn(msg, FutureWarning)\n"
          ]
        },
        {
          "output_type": "display_data",
          "data": {
            "text/plain": [
              "<Figure size 720x360 with 1 Axes>"
            ],
            "image/png": "[encoded data removed]"
          },
          "metadata": {}
        },
        {
          "output_type": "stream",
          "name": "stdout",
          "text": [
            "\n",
            "\n"
          ]
        },
        {
          "output_type": "stream",
          "name": "stderr",
          "text": [
            "/usr/local/lib/python3.7/dist-packages/seaborn/distributions.py:2619: FutureWarning: `distplot` is a deprecated function and will be removed in a future version. Please adapt your code to use either `displot` (a figure-level function with similar flexibility) or `histplot` (an axes-level function for histograms).\n",
            "  warnings.warn(msg, FutureWarning)\n"
          ]
        },
        {
          "output_type": "display_data",
          "data": {
            "text/plain": [
              "<Figure size 720x360 with 1 Axes>"
            ],
            "image/png": "[encoded data removed]"
          },
          "metadata": {}
        },
        {
          "output_type": "stream",
          "name": "stdout",
          "text": [
            "\n",
            "\n"
          ]
        },
        {
          "output_type": "stream",
          "name": "stderr",
          "text": [
            "/usr/local/lib/python3.7/dist-packages/seaborn/distributions.py:2619: FutureWarning: `distplot` is a deprecated function and will be removed in a future version. Please adapt your code to use either `displot` (a figure-level function with similar flexibility) or `histplot` (an axes-level function for histograms).\n",
            "  warnings.warn(msg, FutureWarning)\n"
          ]
        },
        {
          "output_type": "display_data",
          "data": {
            "text/plain": [
              "<Figure size 720x360 with 1 Axes>"
            ],
            "image/png": "[encoded data removed]"
          },
          "metadata": {}
        },
        {
          "output_type": "stream",
          "name": "stdout",
          "text": [
            "\n",
            "\n"
          ]
        },
        {
          "output_type": "stream",
          "name": "stderr",
          "text": [
            "/usr/local/lib/python3.7/dist-packages/seaborn/distributions.py:2619: FutureWarning: `distplot` is a deprecated function and will be removed in a future version. Please adapt your code to use either `displot` (a figure-level function with similar flexibility) or `histplot` (an axes-level function for histograms).\n",
            "  warnings.warn(msg, FutureWarning)\n"
          ]
        },
        {
          "output_type": "display_data",
          "data": {
            "text/plain": [
              "<Figure size 720x360 with 1 Axes>"
            ],
            "image/png": "[encoded data removed]"
          },
          "metadata": {}
        }
      ]
    },
    {
      "cell_type": "markdown",
      "source": [
        "## Correlation using heatmap"
      ],
      "metadata": {
        "id": "s8sur6LTUBOf"
      }
    },
    {
      "cell_type": "code",
      "source": [
        "plt.figure(figsize=(10, 5))\n",
        "sns.heatmap(df.iloc[:, 1:].corr(), annot=True)\n",
        "plt.show()"
      ],
      "metadata": {
        "colab": {
          "base_uri": "https://localhost:8080/",
          "height": 411
        },
        "id": "NBE_Ne4SQYH5",
        "outputId": "fdb2e9cf-4821-463b-e44d-5297f7d34a0a"
      },
      "execution_count": null,
      "outputs": [
        {
          "output_type": "display_data",
          "data": {
            "text/plain": [
              "<Figure size 720x360 with 2 Axes>"
            ],
            "image/png": "[encoded data removed]"
          },
          "metadata": {
            "needs_background": "light"
          }
        }
      ]
    },
    {
      "cell_type": "markdown",
      "source": [
        "We can observe a high correlation compare to others,\n",
        "\n",
        "Applicant income has positive correlation with Loan amount."
      ],
      "metadata": {
        "id": "WXRJIy7aX9I4"
      }
    },
    {
      "cell_type": "markdown",
      "source": [
        "# Data preprocessing"
      ],
      "metadata": {
        "id": "X1GNbpCaaaks"
      }
    },
    {
      "cell_type": "markdown",
      "source": [
        "## Drop Loan_ID"
      ],
      "metadata": {
        "id": "uy7p3TtCcgKR"
      }
    },
    {
      "cell_type": "code",
      "source": [
        "df.drop('Loan_ID', axis=1, inplace=True)"
      ],
      "metadata": {
        "id": "HQYIs-2Kbxj1"
      },
      "execution_count": null,
      "outputs": []
    },
    {
      "cell_type": "code",
      "source": [
        "df.head(2)"
      ],
      "metadata": {
        "id": "2oItVGBRcI6l",
        "outputId": "0e42837d-603c-4308-8198-6249e04c191a",
        "colab": {
          "base_uri": "https://localhost:8080/"
        }
      },
      "execution_count": null,
      "outputs": [
        {
          "output_type": "execute_result",
          "data": {
            "text/plain": [
              "  Gender Married Dependents Education Self_Employed  ApplicantIncome  \\\n",
              "0   Male     Yes          0  Graduate            No             5720   \n",
              "1   Male     Yes          1  Graduate            No             3076   \n",
              "\n",
              "   CoapplicantIncome  LoanAmount  Loan_Amount_Term  Credit_History  \\\n",
              "0                  0       110.0             360.0             1.0   \n",
              "1               1500       126.0             360.0             1.0   \n",
              "\n",
              "  Property_Area  target  \n",
              "0         Urban       0  \n",
              "1         Urban       0  "
            ],
            "text/html": [
              "\n",
              "  <div id=\"df-cefd93a7-6ce5-431e-90bb-aa5bec2f5ffa\">\n",
              "    <div class=\"colab-df-container\">\n",
              "      <div>\n",
              "<style scoped>\n",
              "    .dataframe tbody tr th:only-of-type {\n",
              "        vertical-align: middle;\n",
              "    }\n",
              "\n",
              "    .dataframe tbody tr th {\n",
              "        vertical-align: top;\n",
              "    }\n",
              "\n",
              "    .dataframe thead th {\n",
              "        text-align: right;\n",
              "    }\n",
              "</style>\n",
              "<table border=\"1\" class=\"dataframe\">\n",
              "  <thead>\n",
              "    <tr style=\"text-align: right;\">\n",
              "      <th></th>\n",
              "      <th>Gender</th>\n",
              "      <th>Married</th>\n",
              "      <th>Dependents</th>\n",
              "      <th>Education</th>\n",
              "      <th>Self_Employed</th>\n",
              "      <th>ApplicantIncome</th>\n",
              "      <th>CoapplicantIncome</th>\n",
              "      <th>LoanAmount</th>\n",
              "      <th>Loan_Amount_Term</th>\n",
              "      <th>Credit_History</th>\n",
              "      <th>Property_Area</th>\n",
              "      <th>target</th>\n",
              "    </tr>\n",
              "  </thead>\n",
              "  <tbody>\n",
              "    <tr>\n",
              "      <th>0</th>\n",
              "      <td>Male</td>\n",
              "      <td>Yes</td>\n",
              "      <td>0</td>\n",
              "      <td>Graduate</td>\n",
              "      <td>No</td>\n",
              "      <td>5720</td>\n",
              "      <td>0</td>\n",
              "      <td>110.0</td>\n",
              "      <td>360.0</td>\n",
              "      <td>1.0</td>\n",
              "      <td>Urban</td>\n",
              "      <td>0</td>\n",
              "    </tr>\n",
              "    <tr>\n",
              "      <th>1</th>\n",
              "      <td>Male</td>\n",
              "      <td>Yes</td>\n",
              "      <td>1</td>\n",
              "      <td>Graduate</td>\n",
              "      <td>No</td>\n",
              "      <td>3076</td>\n",
              "      <td>1500</td>\n",
              "      <td>126.0</td>\n",
              "      <td>360.0</td>\n",
              "      <td>1.0</td>\n",
              "      <td>Urban</td>\n",
              "      <td>0</td>\n",
              "    </tr>\n",
              "  </tbody>\n",
              "</table>\n",
              "</div>\n",
              "      <button class=\"colab-df-convert\" onclick=\"convertToInteractive('df-cefd93a7-6ce5-431e-90bb-aa5bec2f5ffa')\"\n",
              "              title=\"Convert this dataframe to an interactive table.\"\n",
              "              style=\"display:none;\">\n",
              "        \n",
              "  <svg xmlns=\"http://www.w3.org/2000/svg\" height=\"24px\"viewBox=\"0 0 24 24\"\n",
              "       width=\"24px\">\n",
              "    <path d=\"M0 0h24v24H0V0z\" fill=\"none\"/>\n",
              "    <path d=\"M18.56 5.44l.94 2.06.94-2.06 2.06-.94-2.06-.94-.94-2.06-.94 2.06-2.06.94zm-11 1L8.5 8.5l.94-2.06 2.06-.94-2.06-.94L8.5 2.5l-.94 2.06-2.06.94zm10 10l.94 2.06.94-2.06 2.06-.94-2.06-.94-.94-2.06-.94 2.06-2.06.94z\"/><path d=\"M17.41 7.96l-1.37-1.37c-.4-.4-.92-.59-1.43-.59-.52 0-1.04.2-1.43.59L10.3 9.45l-7.72 7.72c-.78.78-.78 2.05 0 2.83L4 21.41c.39.39.9.59 1.41.59.51 0 1.02-.2 1.41-.59l7.78-7.78 2.81-2.81c.8-.78.8-2.07 0-2.86zM5.41 20L4 18.59l7.72-7.72 1.47 1.35L5.41 20z\"/>\n",
              "  </svg>\n",
              "      </button>\n",
              "      \n",
              "  <style>\n",
              "    .colab-df-container {\n",
              "      display:flex;\n",
              "      flex-wrap:wrap;\n",
              "      gap: 12px;\n",
              "    }\n",
              "\n",
              "    .colab-df-convert {\n",
              "      background-color: #E8F0FE;\n",
              "      border: none;\n",
              "      border-radius: 50%;\n",
              "      cursor: pointer;\n",
              "      display: none;\n",
              "      fill: #1967D2;\n",
              "      height: 32px;\n",
              "      padding: 0 0 0 0;\n",
              "      width: 32px;\n",
              "    }\n",
              "\n",
              "    .colab-df-convert:hover {\n",
              "      background-color: #E2EBFA;\n",
              "      box-shadow: 0px 1px 2px rgba(60, 64, 67, 0.3), 0px 1px 3px 1px rgba(60, 64, 67, 0.15);\n",
              "      fill: #174EA6;\n",
              "    }\n",
              "\n",
              "    [theme=dark] .colab-df-convert {\n",
              "      background-color: #3B4455;\n",
              "      fill: #D2E3FC;\n",
              "    }\n",
              "\n",
              "    [theme=dark] .colab-df-convert:hover {\n",
              "      background-color: #434B5C;\n",
              "      box-shadow: 0px 1px 3px 1px rgba(0, 0, 0, 0.15);\n",
              "      filter: drop-shadow(0px 1px 2px rgba(0, 0, 0, 0.3));\n",
              "      fill: #FFFFFF;\n",
              "    }\n",
              "  </style>\n",
              "\n",
              "      <script>\n",
              "        const buttonEl =\n",
              "          document.querySelector('#df-cefd93a7-6ce5-431e-90bb-aa5bec2f5ffa button.colab-df-convert');\n",
              "        buttonEl.style.display =\n",
              "          google.colab.kernel.accessAllowed ? 'block' : 'none';\n",
              "\n",
              "        async function convertToInteractive(key) {\n",
              "          const element = document.querySelector('#df-cefd93a7-6ce5-431e-90bb-aa5bec2f5ffa');\n",
              "          const dataTable =\n",
              "            await google.colab.kernel.invokeFunction('convertToInteractive',\n",
              "                                                     [key], {});\n",
              "          if (!dataTable) return;\n",
              "\n",
              "          const docLinkHtml = 'Like what you see? Visit the ' +\n",
              "            '<a target=\"_blank\" href=https://colab.research.google.com/notebooks/data_table.ipynb>data table notebook</a>'\n",
              "            + ' to learn more about interactive tables.';\n",
              "          element.innerHTML = '';\n",
              "          dataTable['output_type'] = 'display_data';\n",
              "          await google.colab.output.renderOutput(dataTable, element);\n",
              "          const docLink = document.createElement('div');\n",
              "          docLink.innerHTML = docLinkHtml;\n",
              "          element.appendChild(docLink);\n",
              "        }\n",
              "      </script>\n",
              "    </div>\n",
              "  </div>\n",
              "  "
            ]
          },
          "metadata": {},
          "execution_count": 49
        }
      ]
    },
    {
      "cell_type": "markdown",
      "source": [
        "## Drop null values"
      ],
      "metadata": {
        "id": "w1TsBfaSzpYu"
      }
    },
    {
      "cell_type": "code",
      "source": [
        "for i in range(0, len(df.columns)):\n",
        "  if df.isnull().sum()[i] != 0:\n",
        "    print(df.isnull().sum()[i:i+1])"
      ],
      "metadata": {
        "colab": {
          "base_uri": "https://localhost:8080/"
        },
        "id": "JyHKTj3Se9-n",
        "outputId": "1ef77f54-a1a5-4904-9780-f16eb6d49a41"
      },
      "execution_count": null,
      "outputs": [
        {
          "output_type": "stream",
          "name": "stdout",
          "text": [
            "Gender    11\n",
            "dtype: int64\n",
            "Dependents    10\n",
            "dtype: int64\n",
            "Self_Employed    23\n",
            "dtype: int64\n",
            "LoanAmount    5\n",
            "dtype: int64\n",
            "Loan_Amount_Term    6\n",
            "dtype: int64\n",
            "Credit_History    29\n",
            "dtype: int64\n"
          ]
        }
      ]
    },
    {
      "cell_type": "markdown",
      "source": [
        "**Check all rows with null values**"
      ],
      "metadata": {
        "id": "xJJn0hyyzxvG"
      }
    },
    {
      "cell_type": "code",
      "source": [
        "df[df.isnull().any(axis=1)]"
      ],
      "metadata": {
        "colab": {
          "base_uri": "https://localhost:8080/"
        },
        "id": "yJL2DI65qjzC",
        "outputId": "b43fd8c7-284b-4a30-f2db-90ea2b40db1b"
      },
      "execution_count": null,
      "outputs": [
        {
          "output_type": "execute_result",
          "data": {
            "text/plain": [
              "     Gender Married Dependents     Education Self_Employed  ApplicantIncome  \\\n",
              "3      Male     Yes          2      Graduate            No             2340   \n",
              "8      Male     Yes          2      Graduate           NaN            13633   \n",
              "11     Male     Yes          1      Graduate           NaN             2185   \n",
              "12     Male      No         3+      Graduate            No             4166   \n",
              "13     Male     Yes          2      Graduate           NaN            12173   \n",
              "..      ...     ...        ...           ...           ...              ...   \n",
              "336  Female      No          0  Not Graduate            No             3015   \n",
              "351    Male      No          0      Graduate            No             2283   \n",
              "358    Male     Yes          2  Not Graduate            No             3132   \n",
              "360  Female     Yes          0      Graduate            No             8550   \n",
              "364    Male      No          0      Graduate            No             3250   \n",
              "\n",
              "     CoapplicantIncome  LoanAmount  Loan_Amount_Term  Credit_History  \\\n",
              "3                 2546       100.0             360.0             NaN   \n",
              "8                    0       280.0             240.0             1.0   \n",
              "11                1516       162.0             360.0             1.0   \n",
              "12                   0        40.0             180.0             NaN   \n",
              "13                   0       166.0             360.0             0.0   \n",
              "..                 ...         ...               ...             ...   \n",
              "336               2000       145.0             360.0             NaN   \n",
              "351              15000       106.0             360.0             NaN   \n",
              "358                  0        76.0             360.0             NaN   \n",
              "360               4255        96.0             360.0             NaN   \n",
              "364               1993       126.0             360.0             NaN   \n",
              "\n",
              "    Property_Area  target  \n",
              "3           Urban       0  \n",
              "8           Urban       0  \n",
              "11      Semiurban       0  \n",
              "12          Urban       0  \n",
              "13      Semiurban       0  \n",
              "..            ...     ...  \n",
              "336         Urban       0  \n",
              "351         Rural       0  \n",
              "358         Rural       0  \n",
              "360         Urban       0  \n",
              "364     Semiurban       0  \n",
              "\n",
              "[78 rows x 12 columns]"
            ],
            "text/html": [
              "\n",
              "  <div id=\"df-cc83b09e-e3b5-4693-bc1a-5c4a74b7107d\">\n",
              "    <div class=\"colab-df-container\">\n",
              "      <div>\n",
              "<style scoped>\n",
              "    .dataframe tbody tr th:only-of-type {\n",
              "        vertical-align: middle;\n",
              "    }\n",
              "\n",
              "    .dataframe tbody tr th {\n",
              "        vertical-align: top;\n",
              "    }\n",
              "\n",
              "    .dataframe thead th {\n",
              "        text-align: right;\n",
              "    }\n",
              "</style>\n",
              "<table border=\"1\" class=\"dataframe\">\n",
              "  <thead>\n",
              "    <tr style=\"text-align: right;\">\n",
              "      <th></th>\n",
              "      <th>Gender</th>\n",
              "      <th>Married</th>\n",
              "      <th>Dependents</th>\n",
              "      <th>Education</th>\n",
              "      <th>Self_Employed</th>\n",
              "      <th>ApplicantIncome</th>\n",
              "      <th>CoapplicantIncome</th>\n",
              "      <th>LoanAmount</th>\n",
              "      <th>Loan_Amount_Term</th>\n",
              "      <th>Credit_History</th>\n",
              "      <th>Property_Area</th>\n",
              "      <th>target</th>\n",
              "    </tr>\n",
              "  </thead>\n",
              "  <tbody>\n",
              "    <tr>\n",
              "      <th>3</th>\n",
              "      <td>Male</td>\n",
              "      <td>Yes</td>\n",
              "      <td>2</td>\n",
              "      <td>Graduate</td>\n",
              "      <td>No</td>\n",
              "      <td>2340</td>\n",
              "      <td>2546</td>\n",
              "      <td>100.0</td>\n",
              "      <td>360.0</td>\n",
              "      <td>NaN</td>\n",
              "      <td>Urban</td>\n",
              "      <td>0</td>\n",
              "    </tr>\n",
              "    <tr>\n",
              "      <th>8</th>\n",
              "      <td>Male</td>\n",
              "      <td>Yes</td>\n",
              "      <td>2</td>\n",
              "      <td>Graduate</td>\n",
              "      <td>NaN</td>\n",
              "      <td>13633</td>\n",
              "      <td>0</td>\n",
              "      <td>280.0</td>\n",
              "      <td>240.0</td>\n",
              "      <td>1.0</td>\n",
              "      <td>Urban</td>\n",
              "      <td>0</td>\n",
              "    </tr>\n",
              "    <tr>\n",
              "      <th>11</th>\n",
              "      <td>Male</td>\n",
              "      <td>Yes</td>\n",
              "      <td>1</td>\n",
              "      <td>Graduate</td>\n",
              "      <td>NaN</td>\n",
              "      <td>2185</td>\n",
              "      <td>1516</td>\n",
              "      <td>162.0</td>\n",
              "      <td>360.0</td>\n",
              "      <td>1.0</td>\n",
              "      <td>Semiurban</td>\n",
              "      <td>0</td>\n",
              "    </tr>\n",
              "    <tr>\n",
              "      <th>12</th>\n",
              "      <td>Male</td>\n",
              "      <td>No</td>\n",
              "      <td>3+</td>\n",
              "      <td>Graduate</td>\n",
              "      <td>No</td>\n",
              "      <td>4166</td>\n",
              "      <td>0</td>\n",
              "      <td>40.0</td>\n",
              "      <td>180.0</td>\n",
              "      <td>NaN</td>\n",
              "      <td>Urban</td>\n",
              "      <td>0</td>\n",
              "    </tr>\n",
              "    <tr>\n",
              "      <th>13</th>\n",
              "      <td>Male</td>\n",
              "      <td>Yes</td>\n",
              "      <td>2</td>\n",
              "      <td>Graduate</td>\n",
              "      <td>NaN</td>\n",
              "      <td>12173</td>\n",
              "      <td>0</td>\n",
              "      <td>166.0</td>\n",
              "      <td>360.0</td>\n",
              "      <td>0.0</td>\n",
              "      <td>Semiurban</td>\n",
              "      <td>0</td>\n",
              "    </tr>\n",
              "    <tr>\n",
              "      <th>...</th>\n",
              "      <td>...</td>\n",
              "      <td>...</td>\n",
              "      <td>...</td>\n",
              "      <td>...</td>\n",
              "      <td>...</td>\n",
              "      <td>...</td>\n",
              "      <td>...</td>\n",
              "      <td>...</td>\n",
              "      <td>...</td>\n",
              "      <td>...</td>\n",
              "      <td>...</td>\n",
              "      <td>...</td>\n",
              "    </tr>\n",
              "    <tr>\n",
              "      <th>336</th>\n",
              "      <td>Female</td>\n",
              "      <td>No</td>\n",
              "      <td>0</td>\n",
              "      <td>Not Graduate</td>\n",
              "      <td>No</td>\n",
              "      <td>3015</td>\n",
              "      <td>2000</td>\n",
              "      <td>145.0</td>\n",
              "      <td>360.0</td>\n",
              "      <td>NaN</td>\n",
              "      <td>Urban</td>\n",
              "      <td>0</td>\n",
              "    </tr>\n",
              "    <tr>\n",
              "      <th>351</th>\n",
              "      <td>Male</td>\n",
              "      <td>No</td>\n",
              "      <td>0</td>\n",
              "      <td>Graduate</td>\n",
              "      <td>No</td>\n",
              "      <td>2283</td>\n",
              "      <td>15000</td>\n",
              "      <td>106.0</td>\n",
              "      <td>360.0</td>\n",
              "      <td>NaN</td>\n",
              "      <td>Rural</td>\n",
              "      <td>0</td>\n",
              "    </tr>\n",
              "    <tr>\n",
              "      <th>358</th>\n",
              "      <td>Male</td>\n",
              "      <td>Yes</td>\n",
              "      <td>2</td>\n",
              "      <td>Not Graduate</td>\n",
              "      <td>No</td>\n",
              "      <td>3132</td>\n",
              "      <td>0</td>\n",
              "      <td>76.0</td>\n",
              "      <td>360.0</td>\n",
              "      <td>NaN</td>\n",
              "      <td>Rural</td>\n",
              "      <td>0</td>\n",
              "    </tr>\n",
              "    <tr>\n",
              "      <th>360</th>\n",
              "      <td>Female</td>\n",
              "      <td>Yes</td>\n",
              "      <td>0</td>\n",
              "      <td>Graduate</td>\n",
              "      <td>No</td>\n",
              "      <td>8550</td>\n",
              "      <td>4255</td>\n",
              "      <td>96.0</td>\n",
              "      <td>360.0</td>\n",
              "      <td>NaN</td>\n",
              "      <td>Urban</td>\n",
              "      <td>0</td>\n",
              "    </tr>\n",
              "    <tr>\n",
              "      <th>364</th>\n",
              "      <td>Male</td>\n",
              "      <td>No</td>\n",
              "      <td>0</td>\n",
              "      <td>Graduate</td>\n",
              "      <td>No</td>\n",
              "      <td>3250</td>\n",
              "      <td>1993</td>\n",
              "      <td>126.0</td>\n",
              "      <td>360.0</td>\n",
              "      <td>NaN</td>\n",
              "      <td>Semiurban</td>\n",
              "      <td>0</td>\n",
              "    </tr>\n",
              "  </tbody>\n",
              "</table>\n",
              "<p>78 rows × 12 columns</p>\n",
              "</div>\n",
              "      <button class=\"colab-df-convert\" onclick=\"convertToInteractive('df-cc83b09e-e3b5-4693-bc1a-5c4a74b7107d')\"\n",
              "              title=\"Convert this dataframe to an interactive table.\"\n",
              "              style=\"display:none;\">\n",
              "        \n",
              "  <svg xmlns=\"http://www.w3.org/2000/svg\" height=\"24px\"viewBox=\"0 0 24 24\"\n",
              "       width=\"24px\">\n",
              "    <path d=\"M0 0h24v24H0V0z\" fill=\"none\"/>\n",
              "    <path d=\"M18.56 5.44l.94 2.06.94-2.06 2.06-.94-2.06-.94-.94-2.06-.94 2.06-2.06.94zm-11 1L8.5 8.5l.94-2.06 2.06-.94-2.06-.94L8.5 2.5l-.94 2.06-2.06.94zm10 10l.94 2.06.94-2.06 2.06-.94-2.06-.94-.94-2.06-.94 2.06-2.06.94z\"/><path d=\"M17.41 7.96l-1.37-1.37c-.4-.4-.92-.59-1.43-.59-.52 0-1.04.2-1.43.59L10.3 9.45l-7.72 7.72c-.78.78-.78 2.05 0 2.83L4 21.41c.39.39.9.59 1.41.59.51 0 1.02-.2 1.41-.59l7.78-7.78 2.81-2.81c.8-.78.8-2.07 0-2.86zM5.41 20L4 18.59l7.72-7.72 1.47 1.35L5.41 20z\"/>\n",
              "  </svg>\n",
              "      </button>\n",
              "      \n",
              "  <style>\n",
              "    .colab-df-container {\n",
              "      display:flex;\n",
              "      flex-wrap:wrap;\n",
              "      gap: 12px;\n",
              "    }\n",
              "\n",
              "    .colab-df-convert {\n",
              "      background-color: #E8F0FE;\n",
              "      border: none;\n",
              "      border-radius: 50%;\n",
              "      cursor: pointer;\n",
              "      display: none;\n",
              "      fill: #1967D2;\n",
              "      height: 32px;\n",
              "      padding: 0 0 0 0;\n",
              "      width: 32px;\n",
              "    }\n",
              "\n",
              "    .colab-df-convert:hover {\n",
              "      background-color: #E2EBFA;\n",
              "      box-shadow: 0px 1px 2px rgba(60, 64, 67, 0.3), 0px 1px 3px 1px rgba(60, 64, 67, 0.15);\n",
              "      fill: #174EA6;\n",
              "    }\n",
              "\n",
              "    [theme=dark] .colab-df-convert {\n",
              "      background-color: #3B4455;\n",
              "      fill: #D2E3FC;\n",
              "    }\n",
              "\n",
              "    [theme=dark] .colab-df-convert:hover {\n",
              "      background-color: #434B5C;\n",
              "      box-shadow: 0px 1px 3px 1px rgba(0, 0, 0, 0.15);\n",
              "      filter: drop-shadow(0px 1px 2px rgba(0, 0, 0, 0.3));\n",
              "      fill: #FFFFFF;\n",
              "    }\n",
              "  </style>\n",
              "\n",
              "      <script>\n",
              "        const buttonEl =\n",
              "          document.querySelector('#df-cc83b09e-e3b5-4693-bc1a-5c4a74b7107d button.colab-df-convert');\n",
              "        buttonEl.style.display =\n",
              "          google.colab.kernel.accessAllowed ? 'block' : 'none';\n",
              "\n",
              "        async function convertToInteractive(key) {\n",
              "          const element = document.querySelector('#df-cc83b09e-e3b5-4693-bc1a-5c4a74b7107d');\n",
              "          const dataTable =\n",
              "            await google.colab.kernel.invokeFunction('convertToInteractive',\n",
              "                                                     [key], {});\n",
              "          if (!dataTable) return;\n",
              "\n",
              "          const docLinkHtml = 'Like what you see? Visit the ' +\n",
              "            '<a target=\"_blank\" href=https://colab.research.google.com/notebooks/data_table.ipynb>data table notebook</a>'\n",
              "            + ' to learn more about interactive tables.';\n",
              "          element.innerHTML = '';\n",
              "          dataTable['output_type'] = 'display_data';\n",
              "          await google.colab.output.renderOutput(dataTable, element);\n",
              "          const docLink = document.createElement('div');\n",
              "          docLink.innerHTML = docLinkHtml;\n",
              "          element.appendChild(docLink);\n",
              "        }\n",
              "      </script>\n",
              "    </div>\n",
              "  </div>\n",
              "  "
            ]
          },
          "metadata": {},
          "execution_count": 51
        }
      ]
    },
    {
      "cell_type": "code",
      "source": [
        "df[df.isnull().any(axis=1)].shape"
      ],
      "metadata": {
        "colab": {
          "base_uri": "https://localhost:8080/"
        },
        "id": "adEbe5NZ2Nm3",
        "outputId": "2a13bfd4-99aa-49b0-b830-abd19b34f412"
      },
      "execution_count": null,
      "outputs": [
        {
          "output_type": "execute_result",
          "data": {
            "text/plain": [
              "(78, 12)"
            ]
          },
          "metadata": {},
          "execution_count": 52
        }
      ]
    },
    {
      "cell_type": "markdown",
      "source": [
        "78 rows found where have null value in some column"
      ],
      "metadata": {
        "id": "sw7XKkkbpyK-"
      }
    },
    {
      "cell_type": "code",
      "source": [
        "df[df.isnull().any(axis=1)].target.value_counts()"
      ],
      "metadata": {
        "colab": {
          "base_uri": "https://localhost:8080/"
        },
        "id": "tNc94xIhpllL",
        "outputId": "e12f8ae3-3a38-4c46-e43f-4326b71ac2f0"
      },
      "execution_count": null,
      "outputs": [
        {
          "output_type": "execute_result",
          "data": {
            "text/plain": [
              "0    75\n",
              "1     3\n",
              "Name: target, dtype: int64"
            ]
          },
          "metadata": {},
          "execution_count": 53
        }
      ]
    },
    {
      "cell_type": "markdown",
      "source": [
        "most of the null value rows target value is 0"
      ],
      "metadata": {
        "id": "NhT3Ck1ip_KS"
      }
    },
    {
      "cell_type": "code",
      "source": [
        "df.drop(df[df.isnull().any(axis=1)].index.to_list(), axis = 0, inplace= True)"
      ],
      "metadata": {
        "id": "lHA4n0LRBpxp"
      },
      "execution_count": null,
      "outputs": []
    },
    {
      "cell_type": "markdown",
      "source": [
        "Drop all rows with null values"
      ],
      "metadata": {
        "id": "6HP8q53nITv_"
      }
    },
    {
      "cell_type": "markdown",
      "source": [
        "## Label Encoding"
      ],
      "metadata": {
        "id": "EXuXm3568ahG"
      }
    },
    {
      "cell_type": "code",
      "source": [
        "lb = LabelEncoder()"
      ],
      "metadata": {
        "id": "0Yxz-1SH5iaH"
      },
      "execution_count": null,
      "outputs": []
    },
    {
      "cell_type": "markdown",
      "source": [
        "skip Loan_ID as it is not necessary encode all categorical data"
      ],
      "metadata": {
        "id": "YPPf-rJhQ33F"
      }
    },
    {
      "cell_type": "code",
      "source": [
        "for i in df:\n",
        "  if i != 'Loan_ID' and df[i].dtype in ['bool', 'object']:\n",
        "    print(f'{i}:\\n')\n",
        "    df[i] = lb.fit_transform(df[i])\n",
        "    print(df[i].value_counts())\n",
        "    print('\\n')"
      ],
      "metadata": {
        "colab": {
          "base_uri": "https://localhost:8080/"
        },
        "id": "SBf9mHdEOmdL",
        "outputId": "fa86a178-7ac7-4910-8b09-ee469b55bbfd"
      },
      "execution_count": null,
      "outputs": [
        {
          "output_type": "stream",
          "name": "stdout",
          "text": [
            "Gender:\n",
            "\n",
            "1    230\n",
            "0     59\n",
            "Name: Gender, dtype: int64\n",
            "\n",
            "\n",
            "Married:\n",
            "\n",
            "1    187\n",
            "0    102\n",
            "Name: Married, dtype: int64\n",
            "\n",
            "\n",
            "Dependents:\n",
            "\n",
            "0    167\n",
            "2     50\n",
            "1     42\n",
            "3     30\n",
            "Name: Dependents, dtype: int64\n",
            "\n",
            "\n",
            "Education:\n",
            "\n",
            "0    224\n",
            "1     65\n",
            "Name: Education, dtype: int64\n",
            "\n",
            "\n",
            "Self_Employed:\n",
            "\n",
            "0    257\n",
            "1     32\n",
            "Name: Self_Employed, dtype: int64\n",
            "\n",
            "\n",
            "Property_Area:\n",
            "\n",
            "2    113\n",
            "0     89\n",
            "1     87\n",
            "Name: Property_Area, dtype: int64\n",
            "\n",
            "\n"
          ]
        }
      ]
    },
    {
      "cell_type": "code",
      "source": [
        "df.head()"
      ],
      "metadata": {
        "colab": {
          "base_uri": "https://localhost:8080/"
        },
        "id": "bj4giesdQI7-",
        "outputId": "cfb2a0a5-56e0-473f-e783-fc83fe1607fe"
      },
      "execution_count": null,
      "outputs": [
        {
          "output_type": "execute_result",
          "data": {
            "text/plain": [
              "   Gender  Married  Dependents  Education  Self_Employed  ApplicantIncome  \\\n",
              "0       1        1           0          0              0             5720   \n",
              "1       1        1           1          0              0             3076   \n",
              "2       1        1           2          0              0             5000   \n",
              "4       1        0           0          1              0             3276   \n",
              "5       1        1           0          1              1             2165   \n",
              "\n",
              "   CoapplicantIncome  LoanAmount  Loan_Amount_Term  Credit_History  \\\n",
              "0                  0       110.0             360.0             1.0   \n",
              "1               1500       126.0             360.0             1.0   \n",
              "2               1800       208.0             360.0             1.0   \n",
              "4                  0        78.0             360.0             1.0   \n",
              "5               3422       152.0             360.0             1.0   \n",
              "\n",
              "   Property_Area  target  \n",
              "0              2       0  \n",
              "1              2       0  \n",
              "2              2       0  \n",
              "4              2       0  \n",
              "5              2       0  "
            ],
            "text/html": [
              "\n",
              "  <div id=\"df-7cc54350-7e88-469a-b499-013a47df1920\">\n",
              "    <div class=\"colab-df-container\">\n",
              "      <div>\n",
              "<style scoped>\n",
              "    .dataframe tbody tr th:only-of-type {\n",
              "        vertical-align: middle;\n",
              "    }\n",
              "\n",
              "    .dataframe tbody tr th {\n",
              "        vertical-align: top;\n",
              "    }\n",
              "\n",
              "    .dataframe thead th {\n",
              "        text-align: right;\n",
              "    }\n",
              "</style>\n",
              "<table border=\"1\" class=\"dataframe\">\n",
              "  <thead>\n",
              "    <tr style=\"text-align: right;\">\n",
              "      <th></th>\n",
              "      <th>Gender</th>\n",
              "      <th>Married</th>\n",
              "      <th>Dependents</th>\n",
              "      <th>Education</th>\n",
              "      <th>Self_Employed</th>\n",
              "      <th>ApplicantIncome</th>\n",
              "      <th>CoapplicantIncome</th>\n",
              "      <th>LoanAmount</th>\n",
              "      <th>Loan_Amount_Term</th>\n",
              "      <th>Credit_History</th>\n",
              "      <th>Property_Area</th>\n",
              "      <th>target</th>\n",
              "    </tr>\n",
              "  </thead>\n",
              "  <tbody>\n",
              "    <tr>\n",
              "      <th>0</th>\n",
              "      <td>1</td>\n",
              "      <td>1</td>\n",
              "      <td>0</td>\n",
              "      <td>0</td>\n",
              "      <td>0</td>\n",
              "      <td>5720</td>\n",
              "      <td>0</td>\n",
              "      <td>110.0</td>\n",
              "      <td>360.0</td>\n",
              "      <td>1.0</td>\n",
              "      <td>2</td>\n",
              "      <td>0</td>\n",
              "    </tr>\n",
              "    <tr>\n",
              "      <th>1</th>\n",
              "      <td>1</td>\n",
              "      <td>1</td>\n",
              "      <td>1</td>\n",
              "      <td>0</td>\n",
              "      <td>0</td>\n",
              "      <td>3076</td>\n",
              "      <td>1500</td>\n",
              "      <td>126.0</td>\n",
              "      <td>360.0</td>\n",
              "      <td>1.0</td>\n",
              "      <td>2</td>\n",
              "      <td>0</td>\n",
              "    </tr>\n",
              "    <tr>\n",
              "      <th>2</th>\n",
              "      <td>1</td>\n",
              "      <td>1</td>\n",
              "      <td>2</td>\n",
              "      <td>0</td>\n",
              "      <td>0</td>\n",
              "      <td>5000</td>\n",
              "      <td>1800</td>\n",
              "      <td>208.0</td>\n",
              "      <td>360.0</td>\n",
              "      <td>1.0</td>\n",
              "      <td>2</td>\n",
              "      <td>0</td>\n",
              "    </tr>\n",
              "    <tr>\n",
              "      <th>4</th>\n",
              "      <td>1</td>\n",
              "      <td>0</td>\n",
              "      <td>0</td>\n",
              "      <td>1</td>\n",
              "      <td>0</td>\n",
              "      <td>3276</td>\n",
              "      <td>0</td>\n",
              "      <td>78.0</td>\n",
              "      <td>360.0</td>\n",
              "      <td>1.0</td>\n",
              "      <td>2</td>\n",
              "      <td>0</td>\n",
              "    </tr>\n",
              "    <tr>\n",
              "      <th>5</th>\n",
              "      <td>1</td>\n",
              "      <td>1</td>\n",
              "      <td>0</td>\n",
              "      <td>1</td>\n",
              "      <td>1</td>\n",
              "      <td>2165</td>\n",
              "      <td>3422</td>\n",
              "      <td>152.0</td>\n",
              "      <td>360.0</td>\n",
              "      <td>1.0</td>\n",
              "      <td>2</td>\n",
              "      <td>0</td>\n",
              "    </tr>\n",
              "  </tbody>\n",
              "</table>\n",
              "</div>\n",
              "      <button class=\"colab-df-convert\" onclick=\"convertToInteractive('df-7cc54350-7e88-469a-b499-013a47df1920')\"\n",
              "              title=\"Convert this dataframe to an interactive table.\"\n",
              "              style=\"display:none;\">\n",
              "        \n",
              "  <svg xmlns=\"http://www.w3.org/2000/svg\" height=\"24px\"viewBox=\"0 0 24 24\"\n",
              "       width=\"24px\">\n",
              "    <path d=\"M0 0h24v24H0V0z\" fill=\"none\"/>\n",
              "    <path d=\"M18.56 5.44l.94 2.06.94-2.06 2.06-.94-2.06-.94-.94-2.06-.94 2.06-2.06.94zm-11 1L8.5 8.5l.94-2.06 2.06-.94-2.06-.94L8.5 2.5l-.94 2.06-2.06.94zm10 10l.94 2.06.94-2.06 2.06-.94-2.06-.94-.94-2.06-.94 2.06-2.06.94z\"/><path d=\"M17.41 7.96l-1.37-1.37c-.4-.4-.92-.59-1.43-.59-.52 0-1.04.2-1.43.59L10.3 9.45l-7.72 7.72c-.78.78-.78 2.05 0 2.83L4 21.41c.39.39.9.59 1.41.59.51 0 1.02-.2 1.41-.59l7.78-7.78 2.81-2.81c.8-.78.8-2.07 0-2.86zM5.41 20L4 18.59l7.72-7.72 1.47 1.35L5.41 20z\"/>\n",
              "  </svg>\n",
              "      </button>\n",
              "      \n",
              "  <style>\n",
              "    .colab-df-container {\n",
              "      display:flex;\n",
              "      flex-wrap:wrap;\n",
              "      gap: 12px;\n",
              "    }\n",
              "\n",
              "    .colab-df-convert {\n",
              "      background-color: #E8F0FE;\n",
              "      border: none;\n",
              "      border-radius: 50%;\n",
              "      cursor: pointer;\n",
              "      display: none;\n",
              "      fill: #1967D2;\n",
              "      height: 32px;\n",
              "      padding: 0 0 0 0;\n",
              "      width: 32px;\n",
              "    }\n",
              "\n",
              "    .colab-df-convert:hover {\n",
              "      background-color: #E2EBFA;\n",
              "      box-shadow: 0px 1px 2px rgba(60, 64, 67, 0.3), 0px 1px 3px 1px rgba(60, 64, 67, 0.15);\n",
              "      fill: #174EA6;\n",
              "    }\n",
              "\n",
              "    [theme=dark] .colab-df-convert {\n",
              "      background-color: #3B4455;\n",
              "      fill: #D2E3FC;\n",
              "    }\n",
              "\n",
              "    [theme=dark] .colab-df-convert:hover {\n",
              "      background-color: #434B5C;\n",
              "      box-shadow: 0px 1px 3px 1px rgba(0, 0, 0, 0.15);\n",
              "      filter: drop-shadow(0px 1px 2px rgba(0, 0, 0, 0.3));\n",
              "      fill: #FFFFFF;\n",
              "    }\n",
              "  </style>\n",
              "\n",
              "      <script>\n",
              "        const buttonEl =\n",
              "          document.querySelector('#df-7cc54350-7e88-469a-b499-013a47df1920 button.colab-df-convert');\n",
              "        buttonEl.style.display =\n",
              "          google.colab.kernel.accessAllowed ? 'block' : 'none';\n",
              "\n",
              "        async function convertToInteractive(key) {\n",
              "          const element = document.querySelector('#df-7cc54350-7e88-469a-b499-013a47df1920');\n",
              "          const dataTable =\n",
              "            await google.colab.kernel.invokeFunction('convertToInteractive',\n",
              "                                                     [key], {});\n",
              "          if (!dataTable) return;\n",
              "\n",
              "          const docLinkHtml = 'Like what you see? Visit the ' +\n",
              "            '<a target=\"_blank\" href=https://colab.research.google.com/notebooks/data_table.ipynb>data table notebook</a>'\n",
              "            + ' to learn more about interactive tables.';\n",
              "          element.innerHTML = '';\n",
              "          dataTable['output_type'] = 'display_data';\n",
              "          await google.colab.output.renderOutput(dataTable, element);\n",
              "          const docLink = document.createElement('div');\n",
              "          docLink.innerHTML = docLinkHtml;\n",
              "          element.appendChild(docLink);\n",
              "        }\n",
              "      </script>\n",
              "    </div>\n",
              "  </div>\n",
              "  "
            ]
          },
          "metadata": {},
          "execution_count": 57
        }
      ]
    },
    {
      "cell_type": "markdown",
      "source": [
        "## Remove Outlier"
      ],
      "metadata": {
        "id": "T50tANv5IxRA"
      }
    },
    {
      "cell_type": "code",
      "source": [
        "for i in df.loc[:, ['ApplicantIncome', 'CoapplicantIncome', 'LoanAmount']]:\n",
        "  print(f'\\n{i}:\\n')\n",
        "  sns.boxplot(df[i])\n",
        "  plt.show()"
      ],
      "metadata": {
        "colab": {
          "base_uri": "https://localhost:8080/"
        },
        "id": "DxAHu-DBJEiq",
        "outputId": "fce82a49-6cc3-413f-91cf-6efe83389e60"
      },
      "execution_count": null,
      "outputs": [
        {
          "output_type": "stream",
          "name": "stdout",
          "text": [
            "\n",
            "ApplicantIncome:\n",
            "\n"
          ]
        },
        {
          "output_type": "stream",
          "name": "stderr",
          "text": [
            "/usr/local/lib/python3.7/dist-packages/seaborn/_decorators.py:43: FutureWarning: Pass the following variable as a keyword arg: x. From version 0.12, the only valid positional argument will be `data`, and passing other arguments without an explicit keyword will result in an error or misinterpretation.\n",
            "  FutureWarning\n"
          ]
        },
        {
          "output_type": "display_data",
          "data": {
            "text/plain": [
              "<Figure size 432x288 with 1 Axes>"
            ],
            "image/png": "[encoded data removed]"
          },
          "metadata": {
            "needs_background": "light"
          }
        },
        {
          "output_type": "stream",
          "name": "stdout",
          "text": [
            "\n",
            "CoapplicantIncome:\n",
            "\n"
          ]
        },
        {
          "output_type": "stream",
          "name": "stderr",
          "text": [
            "/usr/local/lib/python3.7/dist-packages/seaborn/_decorators.py:43: FutureWarning: Pass the following variable as a keyword arg: x. From version 0.12, the only valid positional argument will be `data`, and passing other arguments without an explicit keyword will result in an error or misinterpretation.\n",
            "  FutureWarning\n"
          ]
        },
        {
          "output_type": "display_data",
          "data": {
            "text/plain": [
              "<Figure size 432x288 with 1 Axes>"
            ],
            "image/png": "[encoded data removed]"
          },
          "metadata": {
            "needs_background": "light"
          }
        },
        {
          "output_type": "stream",
          "name": "stdout",
          "text": [
            "\n",
            "LoanAmount:\n",
            "\n"
          ]
        },
        {
          "output_type": "stream",
          "name": "stderr",
          "text": [
            "/usr/local/lib/python3.7/dist-packages/seaborn/_decorators.py:43: FutureWarning: Pass the following variable as a keyword arg: x. From version 0.12, the only valid positional argument will be `data`, and passing other arguments without an explicit keyword will result in an error or misinterpretation.\n",
            "  FutureWarning\n"
          ]
        },
        {
          "output_type": "display_data",
          "data": {
            "text/plain": [
              "<Figure size 432x288 with 1 Axes>"
            ],
            "image/png": "[encoded data removed]"
          },
          "metadata": {
            "needs_background": "light"
          }
        }
      ]
    },
    {
      "cell_type": "code",
      "source": [
        "median = float(df['ApplicantIncome'].median())\n",
        "df[\"ApplicantIncome\"] = np.where(df[\"ApplicantIncome\"] >20000, median,df['ApplicantIncome'])"
      ],
      "metadata": {
        "id": "i0KNxBqLJ8rs"
      },
      "execution_count": null,
      "outputs": []
    },
    {
      "cell_type": "code",
      "source": [
        "median = float(df['CoapplicantIncome'].median())\n",
        "df[\"CoapplicantIncome\"] = np.where(df[\"CoapplicantIncome\"] >10000, median,df['CoapplicantIncome'])"
      ],
      "metadata": {
        "id": "2htdrHDoKQwl"
      },
      "execution_count": null,
      "outputs": []
    },
    {
      "cell_type": "code",
      "source": [
        "median = float(df['LoanAmount'].median())\n",
        "df[\"LoanAmount\"] = np.where(df[\"LoanAmount\"] >300, median,df['LoanAmount'])"
      ],
      "metadata": {
        "id": "qV7Zd1MTK38j"
      },
      "execution_count": null,
      "outputs": []
    },
    {
      "cell_type": "markdown",
      "source": [
        "Replaced outliers with median value"
      ],
      "metadata": {
        "id": "SYthVqPcNi5l"
      }
    },
    {
      "cell_type": "code",
      "source": [
        "df.head()"
      ],
      "metadata": {
        "colab": {
          "base_uri": "https://localhost:8080/"
        },
        "id": "bsGlnQ-oLBFe",
        "outputId": "199c3c7a-8c50-49ce-ce02-8c21e39d6e4b"
      },
      "execution_count": null,
      "outputs": [
        {
          "output_type": "execute_result",
          "data": {
            "text/plain": [
              "   Gender  Married  Dependents  Education  Self_Employed  ApplicantIncome  \\\n",
              "0       1        1           0          0              0           5720.0   \n",
              "1       1        1           1          0              0           3076.0   \n",
              "2       1        1           2          0              0           5000.0   \n",
              "4       1        0           0          1              0           3276.0   \n",
              "5       1        1           0          1              1           2165.0   \n",
              "\n",
              "   CoapplicantIncome  LoanAmount  Loan_Amount_Term  Credit_History  \\\n",
              "0                0.0       110.0             360.0             1.0   \n",
              "1             1500.0       126.0             360.0             1.0   \n",
              "2             1800.0       208.0             360.0             1.0   \n",
              "4                0.0        78.0             360.0             1.0   \n",
              "5             3422.0       152.0             360.0             1.0   \n",
              "\n",
              "   Property_Area  target  \n",
              "0              2       0  \n",
              "1              2       0  \n",
              "2              2       0  \n",
              "4              2       0  \n",
              "5              2       0  "
            ],
            "text/html": [
              "\n",
              "  <div id=\"df-5fcb4d9f-080c-41a0-bd3c-44e7d19e5c5d\">\n",
              "    <div class=\"colab-df-container\">\n",
              "      <div>\n",
              "<style scoped>\n",
              "    .dataframe tbody tr th:only-of-type {\n",
              "        vertical-align: middle;\n",
              "    }\n",
              "\n",
              "    .dataframe tbody tr th {\n",
              "        vertical-align: top;\n",
              "    }\n",
              "\n",
              "    .dataframe thead th {\n",
              "        text-align: right;\n",
              "    }\n",
              "</style>\n",
              "<table border=\"1\" class=\"dataframe\">\n",
              "  <thead>\n",
              "    <tr style=\"text-align: right;\">\n",
              "      <th></th>\n",
              "      <th>Gender</th>\n",
              "      <th>Married</th>\n",
              "      <th>Dependents</th>\n",
              "      <th>Education</th>\n",
              "      <th>Self_Employed</th>\n",
              "      <th>ApplicantIncome</th>\n",
              "      <th>CoapplicantIncome</th>\n",
              "      <th>LoanAmount</th>\n",
              "      <th>Loan_Amount_Term</th>\n",
              "      <th>Credit_History</th>\n",
              "      <th>Property_Area</th>\n",
              "      <th>target</th>\n",
              "    </tr>\n",
              "  </thead>\n",
              "  <tbody>\n",
              "    <tr>\n",
              "      <th>0</th>\n",
              "      <td>1</td>\n",
              "      <td>1</td>\n",
              "      <td>0</td>\n",
              "      <td>0</td>\n",
              "      <td>0</td>\n",
              "      <td>5720.0</td>\n",
              "      <td>0.0</td>\n",
              "      <td>110.0</td>\n",
              "      <td>360.0</td>\n",
              "      <td>1.0</td>\n",
              "      <td>2</td>\n",
              "      <td>0</td>\n",
              "    </tr>\n",
              "    <tr>\n",
              "      <th>1</th>\n",
              "      <td>1</td>\n",
              "      <td>1</td>\n",
              "      <td>1</td>\n",
              "      <td>0</td>\n",
              "      <td>0</td>\n",
              "      <td>3076.0</td>\n",
              "      <td>1500.0</td>\n",
              "      <td>126.0</td>\n",
              "      <td>360.0</td>\n",
              "      <td>1.0</td>\n",
              "      <td>2</td>\n",
              "      <td>0</td>\n",
              "    </tr>\n",
              "    <tr>\n",
              "      <th>2</th>\n",
              "      <td>1</td>\n",
              "      <td>1</td>\n",
              "      <td>2</td>\n",
              "      <td>0</td>\n",
              "      <td>0</td>\n",
              "      <td>5000.0</td>\n",
              "      <td>1800.0</td>\n",
              "      <td>208.0</td>\n",
              "      <td>360.0</td>\n",
              "      <td>1.0</td>\n",
              "      <td>2</td>\n",
              "      <td>0</td>\n",
              "    </tr>\n",
              "    <tr>\n",
              "      <th>4</th>\n",
              "      <td>1</td>\n",
              "      <td>0</td>\n",
              "      <td>0</td>\n",
              "      <td>1</td>\n",
              "      <td>0</td>\n",
              "      <td>3276.0</td>\n",
              "      <td>0.0</td>\n",
              "      <td>78.0</td>\n",
              "      <td>360.0</td>\n",
              "      <td>1.0</td>\n",
              "      <td>2</td>\n",
              "      <td>0</td>\n",
              "    </tr>\n",
              "    <tr>\n",
              "      <th>5</th>\n",
              "      <td>1</td>\n",
              "      <td>1</td>\n",
              "      <td>0</td>\n",
              "      <td>1</td>\n",
              "      <td>1</td>\n",
              "      <td>2165.0</td>\n",
              "      <td>3422.0</td>\n",
              "      <td>152.0</td>\n",
              "      <td>360.0</td>\n",
              "      <td>1.0</td>\n",
              "      <td>2</td>\n",
              "      <td>0</td>\n",
              "    </tr>\n",
              "  </tbody>\n",
              "</table>\n",
              "</div>\n",
              "      <button class=\"colab-df-convert\" onclick=\"convertToInteractive('df-5fcb4d9f-080c-41a0-bd3c-44e7d19e5c5d')\"\n",
              "              title=\"Convert this dataframe to an interactive table.\"\n",
              "              style=\"display:none;\">\n",
              "        \n",
              "  <svg xmlns=\"http://www.w3.org/2000/svg\" height=\"24px\"viewBox=\"0 0 24 24\"\n",
              "       width=\"24px\">\n",
              "    <path d=\"M0 0h24v24H0V0z\" fill=\"none\"/>\n",
              "    <path d=\"M18.56 5.44l.94 2.06.94-2.06 2.06-.94-2.06-.94-.94-2.06-.94 2.06-2.06.94zm-11 1L8.5 8.5l.94-2.06 2.06-.94-2.06-.94L8.5 2.5l-.94 2.06-2.06.94zm10 10l.94 2.06.94-2.06 2.06-.94-2.06-.94-.94-2.06-.94 2.06-2.06.94z\"/><path d=\"M17.41 7.96l-1.37-1.37c-.4-.4-.92-.59-1.43-.59-.52 0-1.04.2-1.43.59L10.3 9.45l-7.72 7.72c-.78.78-.78 2.05 0 2.83L4 21.41c.39.39.9.59 1.41.59.51 0 1.02-.2 1.41-.59l7.78-7.78 2.81-2.81c.8-.78.8-2.07 0-2.86zM5.41 20L4 18.59l7.72-7.72 1.47 1.35L5.41 20z\"/>\n",
              "  </svg>\n",
              "      </button>\n",
              "      \n",
              "  <style>\n",
              "    .colab-df-container {\n",
              "      display:flex;\n",
              "      flex-wrap:wrap;\n",
              "      gap: 12px;\n",
              "    }\n",
              "\n",
              "    .colab-df-convert {\n",
              "      background-color: #E8F0FE;\n",
              "      border: none;\n",
              "      border-radius: 50%;\n",
              "      cursor: pointer;\n",
              "      display: none;\n",
              "      fill: #1967D2;\n",
              "      height: 32px;\n",
              "      padding: 0 0 0 0;\n",
              "      width: 32px;\n",
              "    }\n",
              "\n",
              "    .colab-df-convert:hover {\n",
              "      background-color: #E2EBFA;\n",
              "      box-shadow: 0px 1px 2px rgba(60, 64, 67, 0.3), 0px 1px 3px 1px rgba(60, 64, 67, 0.15);\n",
              "      fill: #174EA6;\n",
              "    }\n",
              "\n",
              "    [theme=dark] .colab-df-convert {\n",
              "      background-color: #3B4455;\n",
              "      fill: #D2E3FC;\n",
              "    }\n",
              "\n",
              "    [theme=dark] .colab-df-convert:hover {\n",
              "      background-color: #434B5C;\n",
              "      box-shadow: 0px 1px 3px 1px rgba(0, 0, 0, 0.15);\n",
              "      filter: drop-shadow(0px 1px 2px rgba(0, 0, 0, 0.3));\n",
              "      fill: #FFFFFF;\n",
              "    }\n",
              "  </style>\n",
              "\n",
              "      <script>\n",
              "        const buttonEl =\n",
              "          document.querySelector('#df-5fcb4d9f-080c-41a0-bd3c-44e7d19e5c5d button.colab-df-convert');\n",
              "        buttonEl.style.display =\n",
              "          google.colab.kernel.accessAllowed ? 'block' : 'none';\n",
              "\n",
              "        async function convertToInteractive(key) {\n",
              "          const element = document.querySelector('#df-5fcb4d9f-080c-41a0-bd3c-44e7d19e5c5d');\n",
              "          const dataTable =\n",
              "            await google.colab.kernel.invokeFunction('convertToInteractive',\n",
              "                                                     [key], {});\n",
              "          if (!dataTable) return;\n",
              "\n",
              "          const docLinkHtml = 'Like what you see? Visit the ' +\n",
              "            '<a target=\"_blank\" href=https://colab.research.google.com/notebooks/data_table.ipynb>data table notebook</a>'\n",
              "            + ' to learn more about interactive tables.';\n",
              "          element.innerHTML = '';\n",
              "          dataTable['output_type'] = 'display_data';\n",
              "          await google.colab.output.renderOutput(dataTable, element);\n",
              "          const docLink = document.createElement('div');\n",
              "          docLink.innerHTML = docLinkHtml;\n",
              "          element.appendChild(docLink);\n",
              "        }\n",
              "      </script>\n",
              "    </div>\n",
              "  </div>\n",
              "  "
            ]
          },
          "metadata": {},
          "execution_count": 62
        }
      ]
    },
    {
      "cell_type": "code",
      "source": [
        "df.describe()"
      ],
      "metadata": {
        "colab": {
          "base_uri": "https://localhost:8080/"
        },
        "id": "JaRuFU_GNxp_",
        "outputId": "718d5a31-f08f-4481-ad02-144a109a9e9e"
      },
      "execution_count": null,
      "outputs": [
        {
          "output_type": "execute_result",
          "data": {
            "text/plain": [
              "           Gender     Married  Dependents   Education  Self_Employed  \\\n",
              "count  289.000000  289.000000  289.000000  289.000000     289.000000   \n",
              "mean     0.795848    0.647059    0.802768    0.224913       0.110727   \n",
              "std      0.403780    0.478714    1.063533    0.418250       0.314338   \n",
              "min      0.000000    0.000000    0.000000    0.000000       0.000000   \n",
              "25%      1.000000    0.000000    0.000000    0.000000       0.000000   \n",
              "50%      1.000000    1.000000    0.000000    0.000000       0.000000   \n",
              "75%      1.000000    1.000000    2.000000    0.000000       0.000000   \n",
              "max      1.000000    1.000000    3.000000    1.000000       1.000000   \n",
              "\n",
              "       ApplicantIncome  CoapplicantIncome  LoanAmount  Loan_Amount_Term  \\\n",
              "count       289.000000         289.000000  289.000000        289.000000   \n",
              "mean       4327.110727        1318.435986  132.197232        342.671280   \n",
              "std        2333.019679        1543.016480   48.844345         65.655503   \n",
              "min           0.000000           0.000000   28.000000          6.000000   \n",
              "25%        2875.000000           0.000000  102.000000        360.000000   \n",
              "50%        3833.000000         879.000000  126.000000        360.000000   \n",
              "75%        5000.000000        2367.000000  152.000000        360.000000   \n",
              "max       18840.000000        8000.000000  300.000000        480.000000   \n",
              "\n",
              "       Credit_History  Property_Area      target  \n",
              "count      289.000000     289.000000  289.000000  \n",
              "mean         0.840830       1.083045    0.079585  \n",
              "std          0.366469       0.833348    0.271119  \n",
              "min          0.000000       0.000000    0.000000  \n",
              "25%          1.000000       0.000000    0.000000  \n",
              "50%          1.000000       1.000000    0.000000  \n",
              "75%          1.000000       2.000000    0.000000  \n",
              "max          1.000000       2.000000    1.000000  "
            ],
            "text/html": [
              "\n",
              "  <div id=\"df-e6c86123-60b0-4999-b598-60a87845e7df\">\n",
              "    <div class=\"colab-df-container\">\n",
              "      <div>\n",
              "<style scoped>\n",
              "    .dataframe tbody tr th:only-of-type {\n",
              "        vertical-align: middle;\n",
              "    }\n",
              "\n",
              "    .dataframe tbody tr th {\n",
              "        vertical-align: top;\n",
              "    }\n",
              "\n",
              "    .dataframe thead th {\n",
              "        text-align: right;\n",
              "    }\n",
              "</style>\n",
              "<table border=\"1\" class=\"dataframe\">\n",
              "  <thead>\n",
              "    <tr style=\"text-align: right;\">\n",
              "      <th></th>\n",
              "      <th>Gender</th>\n",
              "      <th>Married</th>\n",
              "      <th>Dependents</th>\n",
              "      <th>Education</th>\n",
              "      <th>Self_Employed</th>\n",
              "      <th>ApplicantIncome</th>\n",
              "      <th>CoapplicantIncome</th>\n",
              "      <th>LoanAmount</th>\n",
              "      <th>Loan_Amount_Term</th>\n",
              "      <th>Credit_History</th>\n",
              "      <th>Property_Area</th>\n",
              "      <th>target</th>\n",
              "    </tr>\n",
              "  </thead>\n",
              "  <tbody>\n",
              "    <tr>\n",
              "      <th>count</th>\n",
              "      <td>289.000000</td>\n",
              "      <td>289.000000</td>\n",
              "      <td>289.000000</td>\n",
              "      <td>289.000000</td>\n",
              "      <td>289.000000</td>\n",
              "      <td>289.000000</td>\n",
              "      <td>289.000000</td>\n",
              "      <td>289.000000</td>\n",
              "      <td>289.000000</td>\n",
              "      <td>289.000000</td>\n",
              "      <td>289.000000</td>\n",
              "      <td>289.000000</td>\n",
              "    </tr>\n",
              "    <tr>\n",
              "      <th>mean</th>\n",
              "      <td>0.795848</td>\n",
              "      <td>0.647059</td>\n",
              "      <td>0.802768</td>\n",
              "      <td>0.224913</td>\n",
              "      <td>0.110727</td>\n",
              "      <td>4327.110727</td>\n",
              "      <td>1318.435986</td>\n",
              "      <td>132.197232</td>\n",
              "      <td>342.671280</td>\n",
              "      <td>0.840830</td>\n",
              "      <td>1.083045</td>\n",
              "      <td>0.079585</td>\n",
              "    </tr>\n",
              "    <tr>\n",
              "      <th>std</th>\n",
              "      <td>0.403780</td>\n",
              "      <td>0.478714</td>\n",
              "      <td>1.063533</td>\n",
              "      <td>0.418250</td>\n",
              "      <td>0.314338</td>\n",
              "      <td>2333.019679</td>\n",
              "      <td>1543.016480</td>\n",
              "      <td>48.844345</td>\n",
              "      <td>65.655503</td>\n",
              "      <td>0.366469</td>\n",
              "      <td>0.833348</td>\n",
              "      <td>0.271119</td>\n",
              "    </tr>\n",
              "    <tr>\n",
              "      <th>min</th>\n",
              "      <td>0.000000</td>\n",
              "      <td>0.000000</td>\n",
              "      <td>0.000000</td>\n",
              "      <td>0.000000</td>\n",
              "      <td>0.000000</td>\n",
              "      <td>0.000000</td>\n",
              "      <td>0.000000</td>\n",
              "      <td>28.000000</td>\n",
              "      <td>6.000000</td>\n",
              "      <td>0.000000</td>\n",
              "      <td>0.000000</td>\n",
              "      <td>0.000000</td>\n",
              "    </tr>\n",
              "    <tr>\n",
              "      <th>25%</th>\n",
              "      <td>1.000000</td>\n",
              "      <td>0.000000</td>\n",
              "      <td>0.000000</td>\n",
              "      <td>0.000000</td>\n",
              "      <td>0.000000</td>\n",
              "      <td>2875.000000</td>\n",
              "      <td>0.000000</td>\n",
              "      <td>102.000000</td>\n",
              "      <td>360.000000</td>\n",
              "      <td>1.000000</td>\n",
              "      <td>0.000000</td>\n",
              "      <td>0.000000</td>\n",
              "    </tr>\n",
              "    <tr>\n",
              "      <th>50%</th>\n",
              "      <td>1.000000</td>\n",
              "      <td>1.000000</td>\n",
              "      <td>0.000000</td>\n",
              "      <td>0.000000</td>\n",
              "      <td>0.000000</td>\n",
              "      <td>3833.000000</td>\n",
              "      <td>879.000000</td>\n",
              "      <td>126.000000</td>\n",
              "      <td>360.000000</td>\n",
              "      <td>1.000000</td>\n",
              "      <td>1.000000</td>\n",
              "      <td>0.000000</td>\n",
              "    </tr>\n",
              "    <tr>\n",
              "      <th>75%</th>\n",
              "      <td>1.000000</td>\n",
              "      <td>1.000000</td>\n",
              "      <td>2.000000</td>\n",
              "      <td>0.000000</td>\n",
              "      <td>0.000000</td>\n",
              "      <td>5000.000000</td>\n",
              "      <td>2367.000000</td>\n",
              "      <td>152.000000</td>\n",
              "      <td>360.000000</td>\n",
              "      <td>1.000000</td>\n",
              "      <td>2.000000</td>\n",
              "      <td>0.000000</td>\n",
              "    </tr>\n",
              "    <tr>\n",
              "      <th>max</th>\n",
              "      <td>1.000000</td>\n",
              "      <td>1.000000</td>\n",
              "      <td>3.000000</td>\n",
              "      <td>1.000000</td>\n",
              "      <td>1.000000</td>\n",
              "      <td>18840.000000</td>\n",
              "      <td>8000.000000</td>\n",
              "      <td>300.000000</td>\n",
              "      <td>480.000000</td>\n",
              "      <td>1.000000</td>\n",
              "      <td>2.000000</td>\n",
              "      <td>1.000000</td>\n",
              "    </tr>\n",
              "  </tbody>\n",
              "</table>\n",
              "</div>\n",
              "      <button class=\"colab-df-convert\" onclick=\"convertToInteractive('df-e6c86123-60b0-4999-b598-60a87845e7df')\"\n",
              "              title=\"Convert this dataframe to an interactive table.\"\n",
              "              style=\"display:none;\">\n",
              "        \n",
              "  <svg xmlns=\"http://www.w3.org/2000/svg\" height=\"24px\"viewBox=\"0 0 24 24\"\n",
              "       width=\"24px\">\n",
              "    <path d=\"M0 0h24v24H0V0z\" fill=\"none\"/>\n",
              "    <path d=\"M18.56 5.44l.94 2.06.94-2.06 2.06-.94-2.06-.94-.94-2.06-.94 2.06-2.06.94zm-11 1L8.5 8.5l.94-2.06 2.06-.94-2.06-.94L8.5 2.5l-.94 2.06-2.06.94zm10 10l.94 2.06.94-2.06 2.06-.94-2.06-.94-.94-2.06-.94 2.06-2.06.94z\"/><path d=\"M17.41 7.96l-1.37-1.37c-.4-.4-.92-.59-1.43-.59-.52 0-1.04.2-1.43.59L10.3 9.45l-7.72 7.72c-.78.78-.78 2.05 0 2.83L4 21.41c.39.39.9.59 1.41.59.51 0 1.02-.2 1.41-.59l7.78-7.78 2.81-2.81c.8-.78.8-2.07 0-2.86zM5.41 20L4 18.59l7.72-7.72 1.47 1.35L5.41 20z\"/>\n",
              "  </svg>\n",
              "      </button>\n",
              "      \n",
              "  <style>\n",
              "    .colab-df-container {\n",
              "      display:flex;\n",
              "      flex-wrap:wrap;\n",
              "      gap: 12px;\n",
              "    }\n",
              "\n",
              "    .colab-df-convert {\n",
              "      background-color: #E8F0FE;\n",
              "      border: none;\n",
              "      border-radius: 50%;\n",
              "      cursor: pointer;\n",
              "      display: none;\n",
              "      fill: #1967D2;\n",
              "      height: 32px;\n",
              "      padding: 0 0 0 0;\n",
              "      width: 32px;\n",
              "    }\n",
              "\n",
              "    .colab-df-convert:hover {\n",
              "      background-color: #E2EBFA;\n",
              "      box-shadow: 0px 1px 2px rgba(60, 64, 67, 0.3), 0px 1px 3px 1px rgba(60, 64, 67, 0.15);\n",
              "      fill: #174EA6;\n",
              "    }\n",
              "\n",
              "    [theme=dark] .colab-df-convert {\n",
              "      background-color: #3B4455;\n",
              "      fill: #D2E3FC;\n",
              "    }\n",
              "\n",
              "    [theme=dark] .colab-df-convert:hover {\n",
              "      background-color: #434B5C;\n",
              "      box-shadow: 0px 1px 3px 1px rgba(0, 0, 0, 0.15);\n",
              "      filter: drop-shadow(0px 1px 2px rgba(0, 0, 0, 0.3));\n",
              "      fill: #FFFFFF;\n",
              "    }\n",
              "  </style>\n",
              "\n",
              "      <script>\n",
              "        const buttonEl =\n",
              "          document.querySelector('#df-e6c86123-60b0-4999-b598-60a87845e7df button.colab-df-convert');\n",
              "        buttonEl.style.display =\n",
              "          google.colab.kernel.accessAllowed ? 'block' : 'none';\n",
              "\n",
              "        async function convertToInteractive(key) {\n",
              "          const element = document.querySelector('#df-e6c86123-60b0-4999-b598-60a87845e7df');\n",
              "          const dataTable =\n",
              "            await google.colab.kernel.invokeFunction('convertToInteractive',\n",
              "                                                     [key], {});\n",
              "          if (!dataTable) return;\n",
              "\n",
              "          const docLinkHtml = 'Like what you see? Visit the ' +\n",
              "            '<a target=\"_blank\" href=https://colab.research.google.com/notebooks/data_table.ipynb>data table notebook</a>'\n",
              "            + ' to learn more about interactive tables.';\n",
              "          element.innerHTML = '';\n",
              "          dataTable['output_type'] = 'display_data';\n",
              "          await google.colab.output.renderOutput(dataTable, element);\n",
              "          const docLink = document.createElement('div');\n",
              "          docLink.innerHTML = docLinkHtml;\n",
              "          element.appendChild(docLink);\n",
              "        }\n",
              "      </script>\n",
              "    </div>\n",
              "  </div>\n",
              "  "
            ]
          },
          "metadata": {},
          "execution_count": 63
        }
      ]
    },
    {
      "cell_type": "code",
      "source": [
        ""
      ],
      "metadata": {
        "id": "EplEb0n6P_8P"
      },
      "execution_count": null,
      "outputs": []
    },
    {
      "cell_type": "markdown",
      "source": [
        "## Balance data\n",
        "SMOTE"
      ],
      "metadata": {
        "id": "82gyyP5CUpGg"
      }
    },
    {
      "cell_type": "code",
      "source": [
        "X = df.iloc[:,:-1]\n",
        "y = df.target"
      ],
      "metadata": {
        "id": "FOv7_DftU5zP"
      },
      "execution_count": null,
      "outputs": []
    },
    {
      "cell_type": "code",
      "source": [
        "oversample = SMOTE()\n",
        "X_bal, y_bal = oversample.fit_resample(X, y)"
      ],
      "metadata": {
        "id": "xHoRqng_UoLn"
      },
      "execution_count": null,
      "outputs": []
    },
    {
      "cell_type": "markdown",
      "source": [
        "used SMOTE technique to balance dataset"
      ],
      "metadata": {
        "id": "VwaBATHKW3hr"
      }
    },
    {
      "cell_type": "code",
      "source": [
        "X_bal.shape"
      ],
      "metadata": {
        "colab": {
          "base_uri": "https://localhost:8080/"
        },
        "id": "HV3RSMmAV_Mg",
        "outputId": "bad47a7f-01e9-4dec-d111-c513ccfcfe72"
      },
      "execution_count": null,
      "outputs": [
        {
          "output_type": "execute_result",
          "data": {
            "text/plain": [
              "(532, 11)"
            ]
          },
          "metadata": {},
          "execution_count": 68
        }
      ]
    },
    {
      "cell_type": "code",
      "source": [
        "X_bal.head(2)"
      ],
      "metadata": {
        "colab": {
          "base_uri": "https://localhost:8080/"
        },
        "id": "DHok-82k5zZL",
        "outputId": "1f3408f6-9b3e-4f99-f0a8-fec59d41e743"
      },
      "execution_count": null,
      "outputs": [
        {
          "output_type": "execute_result",
          "data": {
            "text/plain": [
              "   Gender  Married  Dependents  Education  Self_Employed  ApplicantIncome  \\\n",
              "0       1        1           0          0              0           5720.0   \n",
              "1       1        1           1          0              0           3076.0   \n",
              "\n",
              "   CoapplicantIncome  LoanAmount  Loan_Amount_Term  Credit_History  \\\n",
              "0                0.0       110.0             360.0             1.0   \n",
              "1             1500.0       126.0             360.0             1.0   \n",
              "\n",
              "   Property_Area  \n",
              "0              2  \n",
              "1              2  "
            ],
            "text/html": [
              "\n",
              "  <div id=\"df-8060ac08-ba6b-45d9-8a0c-3d5ff17c6917\">\n",
              "    <div class=\"colab-df-container\">\n",
              "      <div>\n",
              "<style scoped>\n",
              "    .dataframe tbody tr th:only-of-type {\n",
              "        vertical-align: middle;\n",
              "    }\n",
              "\n",
              "    .dataframe tbody tr th {\n",
              "        vertical-align: top;\n",
              "    }\n",
              "\n",
              "    .dataframe thead th {\n",
              "        text-align: right;\n",
              "    }\n",
              "</style>\n",
              "<table border=\"1\" class=\"dataframe\">\n",
              "  <thead>\n",
              "    <tr style=\"text-align: right;\">\n",
              "      <th></th>\n",
              "      <th>Gender</th>\n",
              "      <th>Married</th>\n",
              "      <th>Dependents</th>\n",
              "      <th>Education</th>\n",
              "      <th>Self_Employed</th>\n",
              "      <th>ApplicantIncome</th>\n",
              "      <th>CoapplicantIncome</th>\n",
              "      <th>LoanAmount</th>\n",
              "      <th>Loan_Amount_Term</th>\n",
              "      <th>Credit_History</th>\n",
              "      <th>Property_Area</th>\n",
              "    </tr>\n",
              "  </thead>\n",
              "  <tbody>\n",
              "    <tr>\n",
              "      <th>0</th>\n",
              "      <td>1</td>\n",
              "      <td>1</td>\n",
              "      <td>0</td>\n",
              "      <td>0</td>\n",
              "      <td>0</td>\n",
              "      <td>5720.0</td>\n",
              "      <td>0.0</td>\n",
              "      <td>110.0</td>\n",
              "      <td>360.0</td>\n",
              "      <td>1.0</td>\n",
              "      <td>2</td>\n",
              "    </tr>\n",
              "    <tr>\n",
              "      <th>1</th>\n",
              "      <td>1</td>\n",
              "      <td>1</td>\n",
              "      <td>1</td>\n",
              "      <td>0</td>\n",
              "      <td>0</td>\n",
              "      <td>3076.0</td>\n",
              "      <td>1500.0</td>\n",
              "      <td>126.0</td>\n",
              "      <td>360.0</td>\n",
              "      <td>1.0</td>\n",
              "      <td>2</td>\n",
              "    </tr>\n",
              "  </tbody>\n",
              "</table>\n",
              "</div>\n",
              "      <button class=\"colab-df-convert\" onclick=\"convertToInteractive('df-8060ac08-ba6b-45d9-8a0c-3d5ff17c6917')\"\n",
              "              title=\"Convert this dataframe to an interactive table.\"\n",
              "              style=\"display:none;\">\n",
              "        \n",
              "  <svg xmlns=\"http://www.w3.org/2000/svg\" height=\"24px\"viewBox=\"0 0 24 24\"\n",
              "       width=\"24px\">\n",
              "    <path d=\"M0 0h24v24H0V0z\" fill=\"none\"/>\n",
              "    <path d=\"M18.56 5.44l.94 2.06.94-2.06 2.06-.94-2.06-.94-.94-2.06-.94 2.06-2.06.94zm-11 1L8.5 8.5l.94-2.06 2.06-.94-2.06-.94L8.5 2.5l-.94 2.06-2.06.94zm10 10l.94 2.06.94-2.06 2.06-.94-2.06-.94-.94-2.06-.94 2.06-2.06.94z\"/><path d=\"M17.41 7.96l-1.37-1.37c-.4-.4-.92-.59-1.43-.59-.52 0-1.04.2-1.43.59L10.3 9.45l-7.72 7.72c-.78.78-.78 2.05 0 2.83L4 21.41c.39.39.9.59 1.41.59.51 0 1.02-.2 1.41-.59l7.78-7.78 2.81-2.81c.8-.78.8-2.07 0-2.86zM5.41 20L4 18.59l7.72-7.72 1.47 1.35L5.41 20z\"/>\n",
              "  </svg>\n",
              "      </button>\n",
              "      \n",
              "  <style>\n",
              "    .colab-df-container {\n",
              "      display:flex;\n",
              "      flex-wrap:wrap;\n",
              "      gap: 12px;\n",
              "    }\n",
              "\n",
              "    .colab-df-convert {\n",
              "      background-color: #E8F0FE;\n",
              "      border: none;\n",
              "      border-radius: 50%;\n",
              "      cursor: pointer;\n",
              "      display: none;\n",
              "      fill: #1967D2;\n",
              "      height: 32px;\n",
              "      padding: 0 0 0 0;\n",
              "      width: 32px;\n",
              "    }\n",
              "\n",
              "    .colab-df-convert:hover {\n",
              "      background-color: #E2EBFA;\n",
              "      box-shadow: 0px 1px 2px rgba(60, 64, 67, 0.3), 0px 1px 3px 1px rgba(60, 64, 67, 0.15);\n",
              "      fill: #174EA6;\n",
              "    }\n",
              "\n",
              "    [theme=dark] .colab-df-convert {\n",
              "      background-color: #3B4455;\n",
              "      fill: #D2E3FC;\n",
              "    }\n",
              "\n",
              "    [theme=dark] .colab-df-convert:hover {\n",
              "      background-color: #434B5C;\n",
              "      box-shadow: 0px 1px 3px 1px rgba(0, 0, 0, 0.15);\n",
              "      filter: drop-shadow(0px 1px 2px rgba(0, 0, 0, 0.3));\n",
              "      fill: #FFFFFF;\n",
              "    }\n",
              "  </style>\n",
              "\n",
              "      <script>\n",
              "        const buttonEl =\n",
              "          document.querySelector('#df-8060ac08-ba6b-45d9-8a0c-3d5ff17c6917 button.colab-df-convert');\n",
              "        buttonEl.style.display =\n",
              "          google.colab.kernel.accessAllowed ? 'block' : 'none';\n",
              "\n",
              "        async function convertToInteractive(key) {\n",
              "          const element = document.querySelector('#df-8060ac08-ba6b-45d9-8a0c-3d5ff17c6917');\n",
              "          const dataTable =\n",
              "            await google.colab.kernel.invokeFunction('convertToInteractive',\n",
              "                                                     [key], {});\n",
              "          if (!dataTable) return;\n",
              "\n",
              "          const docLinkHtml = 'Like what you see? Visit the ' +\n",
              "            '<a target=\"_blank\" href=https://colab.research.google.com/notebooks/data_table.ipynb>data table notebook</a>'\n",
              "            + ' to learn more about interactive tables.';\n",
              "          element.innerHTML = '';\n",
              "          dataTable['output_type'] = 'display_data';\n",
              "          await google.colab.output.renderOutput(dataTable, element);\n",
              "          const docLink = document.createElement('div');\n",
              "          docLink.innerHTML = docLinkHtml;\n",
              "          element.appendChild(docLink);\n",
              "        }\n",
              "      </script>\n",
              "    </div>\n",
              "  </div>\n",
              "  "
            ]
          },
          "metadata": {},
          "execution_count": 69
        }
      ]
    },
    {
      "cell_type": "code",
      "source": [
        "X_bal.describe()"
      ],
      "metadata": {
        "colab": {
          "base_uri": "https://localhost:8080/"
        },
        "id": "NgUI_RWo6Og2",
        "outputId": "5cd04684-7bb8-459d-fd40-8757dcc1c344"
      },
      "execution_count": null,
      "outputs": [
        {
          "output_type": "execute_result",
          "data": {
            "text/plain": [
              "           Gender     Married  Dependents   Education  Self_Employed  \\\n",
              "count  532.000000  532.000000  532.000000  532.000000     532.000000   \n",
              "mean     0.699248    0.618421    0.678571    0.150376       0.065789   \n",
              "std      0.459017    0.486231    0.940845    0.357776       0.248147   \n",
              "min      0.000000    0.000000    0.000000    0.000000       0.000000   \n",
              "25%      0.000000    0.000000    0.000000    0.000000       0.000000   \n",
              "50%      1.000000    1.000000    0.000000    0.000000       0.000000   \n",
              "75%      1.000000    1.000000    1.000000    0.000000       0.000000   \n",
              "max      1.000000    1.000000    3.000000    1.000000       1.000000   \n",
              "\n",
              "       ApplicantIncome  CoapplicantIncome  LoanAmount  Loan_Amount_Term  \\\n",
              "count       532.000000         532.000000  532.000000        532.000000   \n",
              "mean       4376.035945        1330.052039  139.066475        343.871608   \n",
              "std        2141.378914        1478.945115   44.854895         63.902215   \n",
              "min           0.000000           0.000000   28.000000          6.000000   \n",
              "25%        2985.857765           0.000000  110.000000        360.000000   \n",
              "50%        3705.263577         760.457419  135.000000        360.000000   \n",
              "75%        5083.561798        2529.814026  169.131285        360.000000   \n",
              "max       18840.000000        8000.000000  300.000000        480.000000   \n",
              "\n",
              "       Credit_History  Property_Area  \n",
              "count      532.000000     532.000000  \n",
              "mean         0.826853       0.939850  \n",
              "std          0.346894       0.761695  \n",
              "min          0.000000       0.000000  \n",
              "25%          1.000000       0.000000  \n",
              "50%          1.000000       1.000000  \n",
              "75%          1.000000       2.000000  \n",
              "max          1.000000       2.000000  "
            ],
            "text/html": [
              "\n",
              "  <div id=\"df-806f7f2f-427d-4b36-9629-034da760a9f2\">\n",
              "    <div class=\"colab-df-container\">\n",
              "      <div>\n",
              "<style scoped>\n",
              "    .dataframe tbody tr th:only-of-type {\n",
              "        vertical-align: middle;\n",
              "    }\n",
              "\n",
              "    .dataframe tbody tr th {\n",
              "        vertical-align: top;\n",
              "    }\n",
              "\n",
              "    .dataframe thead th {\n",
              "        text-align: right;\n",
              "    }\n",
              "</style>\n",
              "<table border=\"1\" class=\"dataframe\">\n",
              "  <thead>\n",
              "    <tr style=\"text-align: right;\">\n",
              "      <th></th>\n",
              "      <th>Gender</th>\n",
              "      <th>Married</th>\n",
              "      <th>Dependents</th>\n",
              "      <th>Education</th>\n",
              "      <th>Self_Employed</th>\n",
              "      <th>ApplicantIncome</th>\n",
              "      <th>CoapplicantIncome</th>\n",
              "      <th>LoanAmount</th>\n",
              "      <th>Loan_Amount_Term</th>\n",
              "      <th>Credit_History</th>\n",
              "      <th>Property_Area</th>\n",
              "    </tr>\n",
              "  </thead>\n",
              "  <tbody>\n",
              "    <tr>\n",
              "      <th>count</th>\n",
              "      <td>532.000000</td>\n",
              "      <td>532.000000</td>\n",
              "      <td>532.000000</td>\n",
              "      <td>532.000000</td>\n",
              "      <td>532.000000</td>\n",
              "      <td>532.000000</td>\n",
              "      <td>532.000000</td>\n",
              "      <td>532.000000</td>\n",
              "      <td>532.000000</td>\n",
              "      <td>532.000000</td>\n",
              "      <td>532.000000</td>\n",
              "    </tr>\n",
              "    <tr>\n",
              "      <th>mean</th>\n",
              "      <td>0.699248</td>\n",
              "      <td>0.618421</td>\n",
              "      <td>0.678571</td>\n",
              "      <td>0.150376</td>\n",
              "      <td>0.065789</td>\n",
              "      <td>4376.035945</td>\n",
              "      <td>1330.052039</td>\n",
              "      <td>139.066475</td>\n",
              "      <td>343.871608</td>\n",
              "      <td>0.826853</td>\n",
              "      <td>0.939850</td>\n",
              "    </tr>\n",
              "    <tr>\n",
              "      <th>std</th>\n",
              "      <td>0.459017</td>\n",
              "      <td>0.486231</td>\n",
              "      <td>0.940845</td>\n",
              "      <td>0.357776</td>\n",
              "      <td>0.248147</td>\n",
              "      <td>2141.378914</td>\n",
              "      <td>1478.945115</td>\n",
              "      <td>44.854895</td>\n",
              "      <td>63.902215</td>\n",
              "      <td>0.346894</td>\n",
              "      <td>0.761695</td>\n",
              "    </tr>\n",
              "    <tr>\n",
              "      <th>min</th>\n",
              "      <td>0.000000</td>\n",
              "      <td>0.000000</td>\n",
              "      <td>0.000000</td>\n",
              "      <td>0.000000</td>\n",
              "      <td>0.000000</td>\n",
              "      <td>0.000000</td>\n",
              "      <td>0.000000</td>\n",
              "      <td>28.000000</td>\n",
              "      <td>6.000000</td>\n",
              "      <td>0.000000</td>\n",
              "      <td>0.000000</td>\n",
              "    </tr>\n",
              "    <tr>\n",
              "      <th>25%</th>\n",
              "      <td>0.000000</td>\n",
              "      <td>0.000000</td>\n",
              "      <td>0.000000</td>\n",
              "      <td>0.000000</td>\n",
              "      <td>0.000000</td>\n",
              "      <td>2985.857765</td>\n",
              "      <td>0.000000</td>\n",
              "      <td>110.000000</td>\n",
              "      <td>360.000000</td>\n",
              "      <td>1.000000</td>\n",
              "      <td>0.000000</td>\n",
              "    </tr>\n",
              "    <tr>\n",
              "      <th>50%</th>\n",
              "      <td>1.000000</td>\n",
              "      <td>1.000000</td>\n",
              "      <td>0.000000</td>\n",
              "      <td>0.000000</td>\n",
              "      <td>0.000000</td>\n",
              "      <td>3705.263577</td>\n",
              "      <td>760.457419</td>\n",
              "      <td>135.000000</td>\n",
              "      <td>360.000000</td>\n",
              "      <td>1.000000</td>\n",
              "      <td>1.000000</td>\n",
              "    </tr>\n",
              "    <tr>\n",
              "      <th>75%</th>\n",
              "      <td>1.000000</td>\n",
              "      <td>1.000000</td>\n",
              "      <td>1.000000</td>\n",
              "      <td>0.000000</td>\n",
              "      <td>0.000000</td>\n",
              "      <td>5083.561798</td>\n",
              "      <td>2529.814026</td>\n",
              "      <td>169.131285</td>\n",
              "      <td>360.000000</td>\n",
              "      <td>1.000000</td>\n",
              "      <td>2.000000</td>\n",
              "    </tr>\n",
              "    <tr>\n",
              "      <th>max</th>\n",
              "      <td>1.000000</td>\n",
              "      <td>1.000000</td>\n",
              "      <td>3.000000</td>\n",
              "      <td>1.000000</td>\n",
              "      <td>1.000000</td>\n",
              "      <td>18840.000000</td>\n",
              "      <td>8000.000000</td>\n",
              "      <td>300.000000</td>\n",
              "      <td>480.000000</td>\n",
              "      <td>1.000000</td>\n",
              "      <td>2.000000</td>\n",
              "    </tr>\n",
              "  </tbody>\n",
              "</table>\n",
              "</div>\n",
              "      <button class=\"colab-df-convert\" onclick=\"convertToInteractive('df-806f7f2f-427d-4b36-9629-034da760a9f2')\"\n",
              "              title=\"Convert this dataframe to an interactive table.\"\n",
              "              style=\"display:none;\">\n",
              "        \n",
              "  <svg xmlns=\"http://www.w3.org/2000/svg\" height=\"24px\"viewBox=\"0 0 24 24\"\n",
              "       width=\"24px\">\n",
              "    <path d=\"M0 0h24v24H0V0z\" fill=\"none\"/>\n",
              "    <path d=\"M18.56 5.44l.94 2.06.94-2.06 2.06-.94-2.06-.94-.94-2.06-.94 2.06-2.06.94zm-11 1L8.5 8.5l.94-2.06 2.06-.94-2.06-.94L8.5 2.5l-.94 2.06-2.06.94zm10 10l.94 2.06.94-2.06 2.06-.94-2.06-.94-.94-2.06-.94 2.06-2.06.94z\"/><path d=\"M17.41 7.96l-1.37-1.37c-.4-.4-.92-.59-1.43-.59-.52 0-1.04.2-1.43.59L10.3 9.45l-7.72 7.72c-.78.78-.78 2.05 0 2.83L4 21.41c.39.39.9.59 1.41.59.51 0 1.02-.2 1.41-.59l7.78-7.78 2.81-2.81c.8-.78.8-2.07 0-2.86zM5.41 20L4 18.59l7.72-7.72 1.47 1.35L5.41 20z\"/>\n",
              "  </svg>\n",
              "      </button>\n",
              "      \n",
              "  <style>\n",
              "    .colab-df-container {\n",
              "      display:flex;\n",
              "      flex-wrap:wrap;\n",
              "      gap: 12px;\n",
              "    }\n",
              "\n",
              "    .colab-df-convert {\n",
              "      background-color: #E8F0FE;\n",
              "      border: none;\n",
              "      border-radius: 50%;\n",
              "      cursor: pointer;\n",
              "      display: none;\n",
              "      fill: #1967D2;\n",
              "      height: 32px;\n",
              "      padding: 0 0 0 0;\n",
              "      width: 32px;\n",
              "    }\n",
              "\n",
              "    .colab-df-convert:hover {\n",
              "      background-color: #E2EBFA;\n",
              "      box-shadow: 0px 1px 2px rgba(60, 64, 67, 0.3), 0px 1px 3px 1px rgba(60, 64, 67, 0.15);\n",
              "      fill: #174EA6;\n",
              "    }\n",
              "\n",
              "    [theme=dark] .colab-df-convert {\n",
              "      background-color: #3B4455;\n",
              "      fill: #D2E3FC;\n",
              "    }\n",
              "\n",
              "    [theme=dark] .colab-df-convert:hover {\n",
              "      background-color: #434B5C;\n",
              "      box-shadow: 0px 1px 3px 1px rgba(0, 0, 0, 0.15);\n",
              "      filter: drop-shadow(0px 1px 2px rgba(0, 0, 0, 0.3));\n",
              "      fill: #FFFFFF;\n",
              "    }\n",
              "  </style>\n",
              "\n",
              "      <script>\n",
              "        const buttonEl =\n",
              "          document.querySelector('#df-806f7f2f-427d-4b36-9629-034da760a9f2 button.colab-df-convert');\n",
              "        buttonEl.style.display =\n",
              "          google.colab.kernel.accessAllowed ? 'block' : 'none';\n",
              "\n",
              "        async function convertToInteractive(key) {\n",
              "          const element = document.querySelector('#df-806f7f2f-427d-4b36-9629-034da760a9f2');\n",
              "          const dataTable =\n",
              "            await google.colab.kernel.invokeFunction('convertToInteractive',\n",
              "                                                     [key], {});\n",
              "          if (!dataTable) return;\n",
              "\n",
              "          const docLinkHtml = 'Like what you see? Visit the ' +\n",
              "            '<a target=\"_blank\" href=https://colab.research.google.com/notebooks/data_table.ipynb>data table notebook</a>'\n",
              "            + ' to learn more about interactive tables.';\n",
              "          element.innerHTML = '';\n",
              "          dataTable['output_type'] = 'display_data';\n",
              "          await google.colab.output.renderOutput(dataTable, element);\n",
              "          const docLink = document.createElement('div');\n",
              "          docLink.innerHTML = docLinkHtml;\n",
              "          element.appendChild(docLink);\n",
              "        }\n",
              "      </script>\n",
              "    </div>\n",
              "  </div>\n",
              "  "
            ]
          },
          "metadata": {},
          "execution_count": 70
        }
      ]
    },
    {
      "cell_type": "markdown",
      "source": [
        "## Feature Scaling"
      ],
      "metadata": {
        "id": "rbH9LJHU-jj1"
      }
    },
    {
      "cell_type": "markdown",
      "source": [
        "Min Max scale\n",
        "\n",
        "scale down data 0 to 1"
      ],
      "metadata": {
        "id": "LDkXbafdmxqG"
      }
    },
    {
      "cell_type": "code",
      "source": [
        "minmax_scaler = MinMaxScaler()\n",
        "minmax_scaler.fit(X_bal)"
      ],
      "metadata": {
        "colab": {
          "base_uri": "https://localhost:8080/"
        },
        "id": "IZFdTpyrm4dw",
        "outputId": "c3074dec-9613-4d19-bd33-137056a6008e"
      },
      "execution_count": null,
      "outputs": [
        {
          "output_type": "execute_result",
          "data": {
            "text/plain": [
              "MinMaxScaler()"
            ]
          },
          "metadata": {},
          "execution_count": 72
        }
      ]
    },
    {
      "cell_type": "code",
      "source": [
        "features = pd.DataFrame(minmax_scaler.transform(X_bal), columns = X_bal.columns)"
      ],
      "metadata": {
        "id": "BDNwFYyom4Sr"
      },
      "execution_count": null,
      "outputs": []
    },
    {
      "cell_type": "code",
      "source": [
        "features.head(2)"
      ],
      "metadata": {
        "colab": {
          "base_uri": "https://localhost:8080/"
        },
        "id": "8tPlceG9m4JI",
        "outputId": "4c9ccdd1-1913-4c8a-c8fa-1da1ed5ddc16"
      },
      "execution_count": null,
      "outputs": [
        {
          "output_type": "execute_result",
          "data": {
            "text/plain": [
              "   Gender  Married  Dependents  Education  Self_Employed  ApplicantIncome  \\\n",
              "0     1.0      1.0    0.000000        0.0            0.0         0.303609   \n",
              "1     1.0      1.0    0.333333        0.0            0.0         0.163270   \n",
              "\n",
              "   CoapplicantIncome  LoanAmount  Loan_Amount_Term  Credit_History  \\\n",
              "0             0.0000    0.301471          0.746835             1.0   \n",
              "1             0.1875    0.360294          0.746835             1.0   \n",
              "\n",
              "   Property_Area  \n",
              "0            1.0  \n",
              "1            1.0  "
            ],
            "text/html": [
              "\n",
              "  <div id=\"df-18bdb9ca-7682-4e97-8fe4-10365d06686e\">\n",
              "    <div class=\"colab-df-container\">\n",
              "      <div>\n",
              "<style scoped>\n",
              "    .dataframe tbody tr th:only-of-type {\n",
              "        vertical-align: middle;\n",
              "    }\n",
              "\n",
              "    .dataframe tbody tr th {\n",
              "        vertical-align: top;\n",
              "    }\n",
              "\n",
              "    .dataframe thead th {\n",
              "        text-align: right;\n",
              "    }\n",
              "</style>\n",
              "<table border=\"1\" class=\"dataframe\">\n",
              "  <thead>\n",
              "    <tr style=\"text-align: right;\">\n",
              "      <th></th>\n",
              "      <th>Gender</th>\n",
              "      <th>Married</th>\n",
              "      <th>Dependents</th>\n",
              "      <th>Education</th>\n",
              "      <th>Self_Employed</th>\n",
              "      <th>ApplicantIncome</th>\n",
              "      <th>CoapplicantIncome</th>\n",
              "      <th>LoanAmount</th>\n",
              "      <th>Loan_Amount_Term</th>\n",
              "      <th>Credit_History</th>\n",
              "      <th>Property_Area</th>\n",
              "    </tr>\n",
              "  </thead>\n",
              "  <tbody>\n",
              "    <tr>\n",
              "      <th>0</th>\n",
              "      <td>1.0</td>\n",
              "      <td>1.0</td>\n",
              "      <td>0.000000</td>\n",
              "      <td>0.0</td>\n",
              "      <td>0.0</td>\n",
              "      <td>0.303609</td>\n",
              "      <td>0.0000</td>\n",
              "      <td>0.301471</td>\n",
              "      <td>0.746835</td>\n",
              "      <td>1.0</td>\n",
              "      <td>1.0</td>\n",
              "    </tr>\n",
              "    <tr>\n",
              "      <th>1</th>\n",
              "      <td>1.0</td>\n",
              "      <td>1.0</td>\n",
              "      <td>0.333333</td>\n",
              "      <td>0.0</td>\n",
              "      <td>0.0</td>\n",
              "      <td>0.163270</td>\n",
              "      <td>0.1875</td>\n",
              "      <td>0.360294</td>\n",
              "      <td>0.746835</td>\n",
              "      <td>1.0</td>\n",
              "      <td>1.0</td>\n",
              "    </tr>\n",
              "  </tbody>\n",
              "</table>\n",
              "</div>\n",
              "      <button class=\"colab-df-convert\" onclick=\"convertToInteractive('df-18bdb9ca-7682-4e97-8fe4-10365d06686e')\"\n",
              "              title=\"Convert this dataframe to an interactive table.\"\n",
              "              style=\"display:none;\">\n",
              "        \n",
              "  <svg xmlns=\"http://www.w3.org/2000/svg\" height=\"24px\"viewBox=\"0 0 24 24\"\n",
              "       width=\"24px\">\n",
              "    <path d=\"M0 0h24v24H0V0z\" fill=\"none\"/>\n",
              "    <path d=\"M18.56 5.44l.94 2.06.94-2.06 2.06-.94-2.06-.94-.94-2.06-.94 2.06-2.06.94zm-11 1L8.5 8.5l.94-2.06 2.06-.94-2.06-.94L8.5 2.5l-.94 2.06-2.06.94zm10 10l.94 2.06.94-2.06 2.06-.94-2.06-.94-.94-2.06-.94 2.06-2.06.94z\"/><path d=\"M17.41 7.96l-1.37-1.37c-.4-.4-.92-.59-1.43-.59-.52 0-1.04.2-1.43.59L10.3 9.45l-7.72 7.72c-.78.78-.78 2.05 0 2.83L4 21.41c.39.39.9.59 1.41.59.51 0 1.02-.2 1.41-.59l7.78-7.78 2.81-2.81c.8-.78.8-2.07 0-2.86zM5.41 20L4 18.59l7.72-7.72 1.47 1.35L5.41 20z\"/>\n",
              "  </svg>\n",
              "      </button>\n",
              "      \n",
              "  <style>\n",
              "    .colab-df-container {\n",
              "      display:flex;\n",
              "      flex-wrap:wrap;\n",
              "      gap: 12px;\n",
              "    }\n",
              "\n",
              "    .colab-df-convert {\n",
              "      background-color: #E8F0FE;\n",
              "      border: none;\n",
              "      border-radius: 50%;\n",
              "      cursor: pointer;\n",
              "      display: none;\n",
              "      fill: #1967D2;\n",
              "      height: 32px;\n",
              "      padding: 0 0 0 0;\n",
              "      width: 32px;\n",
              "    }\n",
              "\n",
              "    .colab-df-convert:hover {\n",
              "      background-color: #E2EBFA;\n",
              "      box-shadow: 0px 1px 2px rgba(60, 64, 67, 0.3), 0px 1px 3px 1px rgba(60, 64, 67, 0.15);\n",
              "      fill: #174EA6;\n",
              "    }\n",
              "\n",
              "    [theme=dark] .colab-df-convert {\n",
              "      background-color: #3B4455;\n",
              "      fill: #D2E3FC;\n",
              "    }\n",
              "\n",
              "    [theme=dark] .colab-df-convert:hover {\n",
              "      background-color: #434B5C;\n",
              "      box-shadow: 0px 1px 3px 1px rgba(0, 0, 0, 0.15);\n",
              "      filter: drop-shadow(0px 1px 2px rgba(0, 0, 0, 0.3));\n",
              "      fill: #FFFFFF;\n",
              "    }\n",
              "  </style>\n",
              "\n",
              "      <script>\n",
              "        const buttonEl =\n",
              "          document.querySelector('#df-18bdb9ca-7682-4e97-8fe4-10365d06686e button.colab-df-convert');\n",
              "        buttonEl.style.display =\n",
              "          google.colab.kernel.accessAllowed ? 'block' : 'none';\n",
              "\n",
              "        async function convertToInteractive(key) {\n",
              "          const element = document.querySelector('#df-18bdb9ca-7682-4e97-8fe4-10365d06686e');\n",
              "          const dataTable =\n",
              "            await google.colab.kernel.invokeFunction('convertToInteractive',\n",
              "                                                     [key], {});\n",
              "          if (!dataTable) return;\n",
              "\n",
              "          const docLinkHtml = 'Like what you see? Visit the ' +\n",
              "            '<a target=\"_blank\" href=https://colab.research.google.com/notebooks/data_table.ipynb>data table notebook</a>'\n",
              "            + ' to learn more about interactive tables.';\n",
              "          element.innerHTML = '';\n",
              "          dataTable['output_type'] = 'display_data';\n",
              "          await google.colab.output.renderOutput(dataTable, element);\n",
              "          const docLink = document.createElement('div');\n",
              "          docLink.innerHTML = docLinkHtml;\n",
              "          element.appendChild(docLink);\n",
              "        }\n",
              "      </script>\n",
              "    </div>\n",
              "  </div>\n",
              "  "
            ]
          },
          "metadata": {},
          "execution_count": 77
        }
      ]
    },
    {
      "cell_type": "code",
      "source": [
        "features.describe()"
      ],
      "metadata": {
        "colab": {
          "base_uri": "https://localhost:8080/"
        },
        "id": "92YX7pHQYQxO",
        "outputId": "913f7bf4-151a-4d9e-d89e-30b457fc2707"
      },
      "execution_count": null,
      "outputs": [
        {
          "output_type": "execute_result",
          "data": {
            "text/plain": [
              "           Gender     Married  Dependents   Education  Self_Employed  \\\n",
              "count  532.000000  532.000000  532.000000  532.000000     532.000000   \n",
              "mean     0.699248    0.618421    0.226190    0.150376       0.065789   \n",
              "std      0.459017    0.486231    0.313615    0.357776       0.248147   \n",
              "min      0.000000    0.000000    0.000000    0.000000       0.000000   \n",
              "25%      0.000000    0.000000    0.000000    0.000000       0.000000   \n",
              "50%      1.000000    1.000000    0.000000    0.000000       0.000000   \n",
              "75%      1.000000    1.000000    0.333333    0.000000       0.000000   \n",
              "max      1.000000    1.000000    1.000000    1.000000       1.000000   \n",
              "\n",
              "       ApplicantIncome  CoapplicantIncome  LoanAmount  Loan_Amount_Term  \\\n",
              "count       532.000000         532.000000  532.000000        532.000000   \n",
              "mean          0.232274           0.166257    0.408333          0.712809   \n",
              "std           0.113661           0.184868    0.164908          0.134815   \n",
              "min           0.000000           0.000000    0.000000          0.000000   \n",
              "25%           0.158485           0.000000    0.301471          0.746835   \n",
              "50%           0.196670           0.095057    0.393382          0.746835   \n",
              "75%           0.269828           0.316227    0.518865          0.746835   \n",
              "max           1.000000           1.000000    1.000000          1.000000   \n",
              "\n",
              "       Credit_History  Property_Area  \n",
              "count      532.000000     532.000000  \n",
              "mean         0.826853       0.469925  \n",
              "std          0.346894       0.380847  \n",
              "min          0.000000       0.000000  \n",
              "25%          1.000000       0.000000  \n",
              "50%          1.000000       0.500000  \n",
              "75%          1.000000       1.000000  \n",
              "max          1.000000       1.000000  "
            ],
            "text/html": [
              "\n",
              "  <div id=\"df-9fa7ba5c-13c2-42dc-b41a-b2c26ac3593f\">\n",
              "    <div class=\"colab-df-container\">\n",
              "      <div>\n",
              "<style scoped>\n",
              "    .dataframe tbody tr th:only-of-type {\n",
              "        vertical-align: middle;\n",
              "    }\n",
              "\n",
              "    .dataframe tbody tr th {\n",
              "        vertical-align: top;\n",
              "    }\n",
              "\n",
              "    .dataframe thead th {\n",
              "        text-align: right;\n",
              "    }\n",
              "</style>\n",
              "<table border=\"1\" class=\"dataframe\">\n",
              "  <thead>\n",
              "    <tr style=\"text-align: right;\">\n",
              "      <th></th>\n",
              "      <th>Gender</th>\n",
              "      <th>Married</th>\n",
              "      <th>Dependents</th>\n",
              "      <th>Education</th>\n",
              "      <th>Self_Employed</th>\n",
              "      <th>ApplicantIncome</th>\n",
              "      <th>CoapplicantIncome</th>\n",
              "      <th>LoanAmount</th>\n",
              "      <th>Loan_Amount_Term</th>\n",
              "      <th>Credit_History</th>\n",
              "      <th>Property_Area</th>\n",
              "    </tr>\n",
              "  </thead>\n",
              "  <tbody>\n",
              "    <tr>\n",
              "      <th>count</th>\n",
              "      <td>532.000000</td>\n",
              "      <td>532.000000</td>\n",
              "      <td>532.000000</td>\n",
              "      <td>532.000000</td>\n",
              "      <td>532.000000</td>\n",
              "      <td>532.000000</td>\n",
              "      <td>532.000000</td>\n",
              "      <td>532.000000</td>\n",
              "      <td>532.000000</td>\n",
              "      <td>532.000000</td>\n",
              "      <td>532.000000</td>\n",
              "    </tr>\n",
              "    <tr>\n",
              "      <th>mean</th>\n",
              "      <td>0.699248</td>\n",
              "      <td>0.618421</td>\n",
              "      <td>0.226190</td>\n",
              "      <td>0.150376</td>\n",
              "      <td>0.065789</td>\n",
              "      <td>0.232274</td>\n",
              "      <td>0.166257</td>\n",
              "      <td>0.408333</td>\n",
              "      <td>0.712809</td>\n",
              "      <td>0.826853</td>\n",
              "      <td>0.469925</td>\n",
              "    </tr>\n",
              "    <tr>\n",
              "      <th>std</th>\n",
              "      <td>0.459017</td>\n",
              "      <td>0.486231</td>\n",
              "      <td>0.313615</td>\n",
              "      <td>0.357776</td>\n",
              "      <td>0.248147</td>\n",
              "      <td>0.113661</td>\n",
              "      <td>0.184868</td>\n",
              "      <td>0.164908</td>\n",
              "      <td>0.134815</td>\n",
              "      <td>0.346894</td>\n",
              "      <td>0.380847</td>\n",
              "    </tr>\n",
              "    <tr>\n",
              "      <th>min</th>\n",
              "      <td>0.000000</td>\n",
              "      <td>0.000000</td>\n",
              "      <td>0.000000</td>\n",
              "      <td>0.000000</td>\n",
              "      <td>0.000000</td>\n",
              "      <td>0.000000</td>\n",
              "      <td>0.000000</td>\n",
              "      <td>0.000000</td>\n",
              "      <td>0.000000</td>\n",
              "      <td>0.000000</td>\n",
              "      <td>0.000000</td>\n",
              "    </tr>\n",
              "    <tr>\n",
              "      <th>25%</th>\n",
              "      <td>0.000000</td>\n",
              "      <td>0.000000</td>\n",
              "      <td>0.000000</td>\n",
              "      <td>0.000000</td>\n",
              "      <td>0.000000</td>\n",
              "      <td>0.158485</td>\n",
              "      <td>0.000000</td>\n",
              "      <td>0.301471</td>\n",
              "      <td>0.746835</td>\n",
              "      <td>1.000000</td>\n",
              "      <td>0.000000</td>\n",
              "    </tr>\n",
              "    <tr>\n",
              "      <th>50%</th>\n",
              "      <td>1.000000</td>\n",
              "      <td>1.000000</td>\n",
              "      <td>0.000000</td>\n",
              "      <td>0.000000</td>\n",
              "      <td>0.000000</td>\n",
              "      <td>0.196670</td>\n",
              "      <td>0.095057</td>\n",
              "      <td>0.393382</td>\n",
              "      <td>0.746835</td>\n",
              "      <td>1.000000</td>\n",
              "      <td>0.500000</td>\n",
              "    </tr>\n",
              "    <tr>\n",
              "      <th>75%</th>\n",
              "      <td>1.000000</td>\n",
              "      <td>1.000000</td>\n",
              "      <td>0.333333</td>\n",
              "      <td>0.000000</td>\n",
              "      <td>0.000000</td>\n",
              "      <td>0.269828</td>\n",
              "      <td>0.316227</td>\n",
              "      <td>0.518865</td>\n",
              "      <td>0.746835</td>\n",
              "      <td>1.000000</td>\n",
              "      <td>1.000000</td>\n",
              "    </tr>\n",
              "    <tr>\n",
              "      <th>max</th>\n",
              "      <td>1.000000</td>\n",
              "      <td>1.000000</td>\n",
              "      <td>1.000000</td>\n",
              "      <td>1.000000</td>\n",
              "      <td>1.000000</td>\n",
              "      <td>1.000000</td>\n",
              "      <td>1.000000</td>\n",
              "      <td>1.000000</td>\n",
              "      <td>1.000000</td>\n",
              "      <td>1.000000</td>\n",
              "      <td>1.000000</td>\n",
              "    </tr>\n",
              "  </tbody>\n",
              "</table>\n",
              "</div>\n",
              "      <button class=\"colab-df-convert\" onclick=\"convertToInteractive('df-9fa7ba5c-13c2-42dc-b41a-b2c26ac3593f')\"\n",
              "              title=\"Convert this dataframe to an interactive table.\"\n",
              "              style=\"display:none;\">\n",
              "        \n",
              "  <svg xmlns=\"http://www.w3.org/2000/svg\" height=\"24px\"viewBox=\"0 0 24 24\"\n",
              "       width=\"24px\">\n",
              "    <path d=\"M0 0h24v24H0V0z\" fill=\"none\"/>\n",
              "    <path d=\"M18.56 5.44l.94 2.06.94-2.06 2.06-.94-2.06-.94-.94-2.06-.94 2.06-2.06.94zm-11 1L8.5 8.5l.94-2.06 2.06-.94-2.06-.94L8.5 2.5l-.94 2.06-2.06.94zm10 10l.94 2.06.94-2.06 2.06-.94-2.06-.94-.94-2.06-.94 2.06-2.06.94z\"/><path d=\"M17.41 7.96l-1.37-1.37c-.4-.4-.92-.59-1.43-.59-.52 0-1.04.2-1.43.59L10.3 9.45l-7.72 7.72c-.78.78-.78 2.05 0 2.83L4 21.41c.39.39.9.59 1.41.59.51 0 1.02-.2 1.41-.59l7.78-7.78 2.81-2.81c.8-.78.8-2.07 0-2.86zM5.41 20L4 18.59l7.72-7.72 1.47 1.35L5.41 20z\"/>\n",
              "  </svg>\n",
              "      </button>\n",
              "      \n",
              "  <style>\n",
              "    .colab-df-container {\n",
              "      display:flex;\n",
              "      flex-wrap:wrap;\n",
              "      gap: 12px;\n",
              "    }\n",
              "\n",
              "    .colab-df-convert {\n",
              "      background-color: #E8F0FE;\n",
              "      border: none;\n",
              "      border-radius: 50%;\n",
              "      cursor: pointer;\n",
              "      display: none;\n",
              "      fill: #1967D2;\n",
              "      height: 32px;\n",
              "      padding: 0 0 0 0;\n",
              "      width: 32px;\n",
              "    }\n",
              "\n",
              "    .colab-df-convert:hover {\n",
              "      background-color: #E2EBFA;\n",
              "      box-shadow: 0px 1px 2px rgba(60, 64, 67, 0.3), 0px 1px 3px 1px rgba(60, 64, 67, 0.15);\n",
              "      fill: #174EA6;\n",
              "    }\n",
              "\n",
              "    [theme=dark] .colab-df-convert {\n",
              "      background-color: #3B4455;\n",
              "      fill: #D2E3FC;\n",
              "    }\n",
              "\n",
              "    [theme=dark] .colab-df-convert:hover {\n",
              "      background-color: #434B5C;\n",
              "      box-shadow: 0px 1px 3px 1px rgba(0, 0, 0, 0.15);\n",
              "      filter: drop-shadow(0px 1px 2px rgba(0, 0, 0, 0.3));\n",
              "      fill: #FFFFFF;\n",
              "    }\n",
              "  </style>\n",
              "\n",
              "      <script>\n",
              "        const buttonEl =\n",
              "          document.querySelector('#df-9fa7ba5c-13c2-42dc-b41a-b2c26ac3593f button.colab-df-convert');\n",
              "        buttonEl.style.display =\n",
              "          google.colab.kernel.accessAllowed ? 'block' : 'none';\n",
              "\n",
              "        async function convertToInteractive(key) {\n",
              "          const element = document.querySelector('#df-9fa7ba5c-13c2-42dc-b41a-b2c26ac3593f');\n",
              "          const dataTable =\n",
              "            await google.colab.kernel.invokeFunction('convertToInteractive',\n",
              "                                                     [key], {});\n",
              "          if (!dataTable) return;\n",
              "\n",
              "          const docLinkHtml = 'Like what you see? Visit the ' +\n",
              "            '<a target=\"_blank\" href=https://colab.research.google.com/notebooks/data_table.ipynb>data table notebook</a>'\n",
              "            + ' to learn more about interactive tables.';\n",
              "          element.innerHTML = '';\n",
              "          dataTable['output_type'] = 'display_data';\n",
              "          await google.colab.output.renderOutput(dataTable, element);\n",
              "          const docLink = document.createElement('div');\n",
              "          docLink.innerHTML = docLinkHtml;\n",
              "          element.appendChild(docLink);\n",
              "        }\n",
              "      </script>\n",
              "    </div>\n",
              "  </div>\n",
              "  "
            ]
          },
          "metadata": {},
          "execution_count": 78
        }
      ]
    },
    {
      "cell_type": "markdown",
      "source": [
        "# Train test split"
      ],
      "metadata": {
        "id": "qmlPJbQCY1Ax"
      }
    },
    {
      "cell_type": "code",
      "source": [
        "features.shape"
      ],
      "metadata": {
        "colab": {
          "base_uri": "https://localhost:8080/"
        },
        "id": "v1xL7xvMwjlA",
        "outputId": "a70067b8-a17f-4f51-c54b-5b8105a0fe3f"
      },
      "execution_count": null,
      "outputs": [
        {
          "output_type": "execute_result",
          "data": {
            "text/plain": [
              "(532, 11)"
            ]
          },
          "metadata": {},
          "execution_count": 79
        }
      ]
    },
    {
      "cell_type": "code",
      "source": [
        "y_bal.value_counts()"
      ],
      "metadata": {
        "colab": {
          "base_uri": "https://localhost:8080/"
        },
        "id": "4FA4MfHjwqhO",
        "outputId": "658bb816-f21b-4c32-b43c-824f5a9fb0e9"
      },
      "execution_count": null,
      "outputs": [
        {
          "output_type": "execute_result",
          "data": {
            "text/plain": [
              "0    266\n",
              "1    266\n",
              "Name: target, dtype: int64"
            ]
          },
          "metadata": {},
          "execution_count": 80
        }
      ]
    },
    {
      "cell_type": "code",
      "source": [
        "# split train, validation and test 70, 15 and 15 respectively\n",
        "X_train, X_test, y_train, y_test = train_test_split(features, y_bal, test_size=0.15, random_state=0)\n",
        "X_train, X_val, y_train, y_val = train_test_split(X_train, y_train, test_size=0.1275, random_state=0)"
      ],
      "metadata": {
        "id": "vGkmp87yoLqU"
      },
      "execution_count": null,
      "outputs": []
    },
    {
      "cell_type": "markdown",
      "source": [
        "# Model Train"
      ],
      "metadata": {
        "id": "Ib-yze90fZuH"
      }
    },
    {
      "cell_type": "markdown",
      "source": [
        "## Random Forest"
      ],
      "metadata": {
        "id": "pvDk9YPE-T-Z"
      }
    },
    {
      "cell_type": "code",
      "source": [
        "rf = RandomForestClassifier(random_state=0, n_estimators=1000, min_samples_leaf=6)\n",
        "rf.fit(X_train, y_train)\n",
        "\n",
        "y_predict_rf = rf.predict(X_val)\n",
        "y_predict_train_rf = rf.predict(X_train)\n",
        "y_predict_test_rf = rf.predict(X_test)\n",
        "\n",
        "print('\\n==================------------ Random Forest ------------==================')\n",
        "\n",
        "print('train accuracy:', accuracy_score(y_train, y_predict_train_rf))\n",
        "print('validation accuracy:', accuracy_score(y_val, y_predict_rf))\n",
        "print('test accuracy:', accuracy_score(y_test, y_predict_test_rf))\n",
        "\n",
        "print('\\n--- validation ---\\n')\n",
        "print(pd.crosstab(y_val, y_predict_rf))\n",
        "print()\n",
        "print(classification_report(y_val, y_predict_rf))\n",
        "\n",
        "print('\\n--- test ---\\n')\n",
        "print(pd.crosstab(y_test, y_predict_test_rf))\n",
        "print()\n",
        "print(classification_report(y_test, y_predict_test_rf))"
      ],
      "metadata": {
        "colab": {
          "base_uri": "https://localhost:8080/"
        },
        "id": "gg6j8STHoSeS",
        "outputId": "ff9d6eae-503d-494b-b405-19d5e71328d8"
      },
      "execution_count": null,
      "outputs": [
        {
          "output_type": "stream",
          "name": "stdout",
          "text": [
            "\n",
            "==================------------ Random Forest ------------==================\n",
            "train accuracy: 0.9441624365482234\n",
            "validation accuracy: 0.8793103448275862\n",
            "test accuracy: 0.9\n",
            "\n",
            "--- validation ---\n",
            "\n",
            "col_0    0   1\n",
            "target        \n",
            "0       28   3\n",
            "1        4  23\n",
            "\n",
            "              precision    recall  f1-score   support\n",
            "\n",
            "           0       0.88      0.90      0.89        31\n",
            "           1       0.88      0.85      0.87        27\n",
            "\n",
            "    accuracy                           0.88        58\n",
            "   macro avg       0.88      0.88      0.88        58\n",
            "weighted avg       0.88      0.88      0.88        58\n",
            "\n",
            "\n",
            "--- test ---\n",
            "\n",
            "col_0    0   1\n",
            "target        \n",
            "0       35   1\n",
            "1        7  37\n",
            "\n",
            "              precision    recall  f1-score   support\n",
            "\n",
            "           0       0.83      0.97      0.90        36\n",
            "           1       0.97      0.84      0.90        44\n",
            "\n",
            "    accuracy                           0.90        80\n",
            "   macro avg       0.90      0.91      0.90        80\n",
            "weighted avg       0.91      0.90      0.90        80\n",
            "\n"
          ]
        }
      ]
    },
    {
      "cell_type": "code",
      "source": [
        "plot_confusion_matrix(rf, X_val, y_val, cmap='gray')\n",
        "plt.title('Confusion matrix')\n",
        "plt.show()"
      ],
      "metadata": {
        "colab": {
          "base_uri": "https://localhost:8080/",
          "height": 350
        },
        "id": "RWna1iq32LWh",
        "outputId": "f16fd612-085e-43e8-e4d4-69be65733d19"
      },
      "execution_count": null,
      "outputs": [
        {
          "output_type": "stream",
          "name": "stderr",
          "text": [
            "/usr/local/lib/python3.7/dist-packages/sklearn/utils/deprecation.py:87: FutureWarning: Function plot_confusion_matrix is deprecated; Function `plot_confusion_matrix` is deprecated in 1.0 and will be removed in 1.2. Use one of the class methods: ConfusionMatrixDisplay.from_predictions or ConfusionMatrixDisplay.from_estimator.\n",
            "  warnings.warn(msg, category=FutureWarning)\n"
          ]
        },
        {
          "output_type": "display_data",
          "data": {
            "text/plain": [
              "<Figure size 432x288 with 2 Axes>"
            ],
            "image/png": "[encoded data removed]"
          },
          "metadata": {
            "needs_background": "light"
          }
        }
      ]
    },
    {
      "cell_type": "markdown",
      "source": [
        "on validation"
      ],
      "metadata": {
        "id": "NAnQvWpX2P6V"
      }
    },
    {
      "cell_type": "code",
      "source": [
        "plot_confusion_matrix(rf, X_test, y_test, cmap='gray')\n",
        "plt.title('Confusion matrix')\n",
        "plt.show()"
      ],
      "metadata": {
        "colab": {
          "base_uri": "https://localhost:8080/",
          "height": 350
        },
        "id": "KTo721qfwxOQ",
        "outputId": "d834afe2-99ce-4c60-ee0b-8001820eab51"
      },
      "execution_count": null,
      "outputs": [
        {
          "output_type": "stream",
          "name": "stderr",
          "text": [
            "/usr/local/lib/python3.7/dist-packages/sklearn/utils/deprecation.py:87: FutureWarning: Function plot_confusion_matrix is deprecated; Function `plot_confusion_matrix` is deprecated in 1.0 and will be removed in 1.2. Use one of the class methods: ConfusionMatrixDisplay.from_predictions or ConfusionMatrixDisplay.from_estimator.\n",
            "  warnings.warn(msg, category=FutureWarning)\n"
          ]
        },
        {
          "output_type": "display_data",
          "data": {
            "text/plain": [
              "<Figure size 432x288 with 2 Axes>"
            ],
            "image/png": "[encoded data removed]"
          },
          "metadata": {
            "needs_background": "light"
          }
        }
      ]
    },
    {
      "cell_type": "markdown",
      "source": [
        "on test"
      ],
      "metadata": {
        "id": "9pF_1jmv2SwM"
      }
    },
    {
      "cell_type": "markdown",
      "source": [
        "We can observe the result almost balanced for both class"
      ],
      "metadata": {
        "id": "W8xLjOGGbigO"
      }
    },
    {
      "cell_type": "markdown",
      "source": [
        "## KNN"
      ],
      "metadata": {
        "id": "xzY0wtm5b2MZ"
      }
    },
    {
      "cell_type": "code",
      "source": [
        "print('\\n==================------------ K-Nearest Neighbour ------------==================')\n",
        "\n",
        "for i in range(2, 10, 2):\n",
        "  # fit model with KNN\n",
        "  m = KNeighborsClassifier(n_neighbors=i)\n",
        "  m.fit(X_train, y_train)\n",
        "\n",
        "  # predict on train, validation and test data\n",
        "  y_pred_test = m.predict(X_test)\n",
        "  y_pred_val = m.predict(X_val)\n",
        "  y_pred_train = m.predict(X_train)\n",
        "\n",
        "  # accuracy on train, validation and test\n",
        "  test_acc = accuracy_score(y_test, y_pred_test)\n",
        "  val_acc = accuracy_score(y_val, y_pred_val)\n",
        "  train_acc = accuracy_score(y_train, y_pred_train)\n",
        "  \n",
        "  print(f'\\n====================== K:{i} ======================')\n",
        "\n",
        "  print('Training accuracy:', train_acc)\n",
        "  print('Validation accuracy:', val_acc)\n",
        "  print('Test accuracy:', test_acc)\n",
        "\n",
        "  print('=====================')\n",
        "\n",
        "  print('\\n--- validation ---\\n')\n",
        "  print(pd.crosstab(y_val, y_pred_val))\n",
        "  print()\n",
        "  print(classification_report(y_val, y_pred_val))\n",
        "\n",
        "  print('\\n--- test ---\\n')\n",
        "  print(pd.crosstab(y_test, y_pred_test))\n",
        "  print()\n",
        "  print(classification_report(y_test, y_pred_test))\n",
        "  print('\\n------------------------------------------------------------------------------')"
      ],
      "metadata": {
        "colab": {
          "base_uri": "https://localhost:8080/"
        },
        "id": "ugKLEpqpZSBw",
        "outputId": "627b0d4a-41e4-46ac-dbac-af80edce369a"
      },
      "execution_count": null,
      "outputs": [
        {
          "output_type": "stream",
          "name": "stdout",
          "text": [
            "\n",
            "==================------------ K-Nearest Neighbour ------------==================\n",
            "\n",
            "====================== K:2 ======================\n",
            "Training accuracy: 0.9644670050761421\n",
            "Validation accuracy: 0.8793103448275862\n",
            "Test accuracy: 0.8875\n",
            "=====================\n",
            "\n",
            "--- validation ---\n",
            "\n",
            "col_0    0   1\n",
            "target        \n",
            "0       27   4\n",
            "1        3  24\n",
            "\n",
            "              precision    recall  f1-score   support\n",
            "\n",
            "           0       0.90      0.87      0.89        31\n",
            "           1       0.86      0.89      0.87        27\n",
            "\n",
            "    accuracy                           0.88        58\n",
            "   macro avg       0.88      0.88      0.88        58\n",
            "weighted avg       0.88      0.88      0.88        58\n",
            "\n",
            "\n",
            "--- test ---\n",
            "\n",
            "col_0    0   1\n",
            "target        \n",
            "0       31   5\n",
            "1        4  40\n",
            "\n",
            "              precision    recall  f1-score   support\n",
            "\n",
            "           0       0.89      0.86      0.87        36\n",
            "           1       0.89      0.91      0.90        44\n",
            "\n",
            "    accuracy                           0.89        80\n",
            "   macro avg       0.89      0.89      0.89        80\n",
            "weighted avg       0.89      0.89      0.89        80\n",
            "\n",
            "\n",
            "------------------------------------------------------------------------------\n",
            "\n",
            "====================== K:4 ======================\n",
            "Training accuracy: 0.9086294416243654\n",
            "Validation accuracy: 0.7758620689655172\n",
            "Test accuracy: 0.7875\n",
            "=====================\n",
            "\n",
            "--- validation ---\n",
            "\n",
            "col_0    0   1\n",
            "target        \n",
            "0       23   8\n",
            "1        5  22\n",
            "\n",
            "              precision    recall  f1-score   support\n",
            "\n",
            "           0       0.82      0.74      0.78        31\n",
            "           1       0.73      0.81      0.77        27\n",
            "\n",
            "    accuracy                           0.78        58\n",
            "   macro avg       0.78      0.78      0.78        58\n",
            "weighted avg       0.78      0.78      0.78        58\n",
            "\n",
            "\n",
            "--- test ---\n",
            "\n",
            "col_0    0   1\n",
            "target        \n",
            "0       29   7\n",
            "1       10  34\n",
            "\n",
            "              precision    recall  f1-score   support\n",
            "\n",
            "           0       0.74      0.81      0.77        36\n",
            "           1       0.83      0.77      0.80        44\n",
            "\n",
            "    accuracy                           0.79        80\n",
            "   macro avg       0.79      0.79      0.79        80\n",
            "weighted avg       0.79      0.79      0.79        80\n",
            "\n",
            "\n",
            "------------------------------------------------------------------------------\n",
            "\n",
            "====================== K:6 ======================\n",
            "Training accuracy: 0.868020304568528\n",
            "Validation accuracy: 0.7758620689655172\n",
            "Test accuracy: 0.825\n",
            "=====================\n",
            "\n",
            "--- validation ---\n",
            "\n",
            "col_0    0   1\n",
            "target        \n",
            "0       22   9\n",
            "1        4  23\n",
            "\n",
            "              precision    recall  f1-score   support\n",
            "\n",
            "           0       0.85      0.71      0.77        31\n",
            "           1       0.72      0.85      0.78        27\n",
            "\n",
            "    accuracy                           0.78        58\n",
            "   macro avg       0.78      0.78      0.78        58\n",
            "weighted avg       0.79      0.78      0.78        58\n",
            "\n",
            "\n",
            "--- test ---\n",
            "\n",
            "col_0    0   1\n",
            "target        \n",
            "0       29   7\n",
            "1        7  37\n",
            "\n",
            "              precision    recall  f1-score   support\n",
            "\n",
            "           0       0.81      0.81      0.81        36\n",
            "           1       0.84      0.84      0.84        44\n",
            "\n",
            "    accuracy                           0.82        80\n",
            "   macro avg       0.82      0.82      0.82        80\n",
            "weighted avg       0.82      0.82      0.82        80\n",
            "\n",
            "\n",
            "------------------------------------------------------------------------------\n",
            "\n",
            "====================== K:8 ======================\n",
            "Training accuracy: 0.8604060913705583\n",
            "Validation accuracy: 0.7586206896551724\n",
            "Test accuracy: 0.7875\n",
            "=====================\n",
            "\n",
            "--- validation ---\n",
            "\n",
            "col_0    0   1\n",
            "target        \n",
            "0       20  11\n",
            "1        3  24\n",
            "\n",
            "              precision    recall  f1-score   support\n",
            "\n",
            "           0       0.87      0.65      0.74        31\n",
            "           1       0.69      0.89      0.77        27\n",
            "\n",
            "    accuracy                           0.76        58\n",
            "   macro avg       0.78      0.77      0.76        58\n",
            "weighted avg       0.78      0.76      0.76        58\n",
            "\n",
            "\n",
            "--- test ---\n",
            "\n",
            "col_0    0   1\n",
            "target        \n",
            "0       26  10\n",
            "1        7  37\n",
            "\n",
            "              precision    recall  f1-score   support\n",
            "\n",
            "           0       0.79      0.72      0.75        36\n",
            "           1       0.79      0.84      0.81        44\n",
            "\n",
            "    accuracy                           0.79        80\n",
            "   macro avg       0.79      0.78      0.78        80\n",
            "weighted avg       0.79      0.79      0.79        80\n",
            "\n",
            "\n",
            "------------------------------------------------------------------------------\n"
          ]
        }
      ]
    },
    {
      "cell_type": "markdown",
      "source": [
        "Model trained using KNN with different k values and we can observe using k=2 does better classification compare to other k values"
      ],
      "metadata": {
        "id": "X7zDy7qnc05t"
      }
    },
    {
      "cell_type": "code",
      "source": [
        "knn = KNeighborsClassifier(n_neighbors=2)\n",
        "knn.fit(X_train, y_train)\n",
        "\n",
        "y_predict_knn = knn.predict(X_val)\n",
        "y_predict_train_knn = knn.predict(X_train)\n",
        "y_predict_test_knn = knn.predict(X_test)\n",
        "\n",
        "print('\\n==================------------ K Nearest Neighbor ------------==================')\n",
        "\n",
        "print('train accuracy:', accuracy_score(y_train, y_predict_train_knn))\n",
        "print('validation accuracy:', accuracy_score(y_val, y_predict_knn))\n",
        "print('test accuracy:', accuracy_score(y_test, y_predict_test_knn))\n",
        "\n",
        "print('\\n--- validation ---\\n')\n",
        "print(pd.crosstab(y_val, y_predict_knn))\n",
        "print()\n",
        "print(classification_report(y_val, y_predict_knn))\n",
        "\n",
        "print('\\n--- test ---\\n')\n",
        "print(pd.crosstab(y_test, y_predict_test_knn))\n",
        "print()\n",
        "print(classification_report(y_test, y_predict_test_knn))"
      ],
      "metadata": {
        "colab": {
          "base_uri": "https://localhost:8080/"
        },
        "id": "RQ27XzwlyWzw",
        "outputId": "a7710025-5400-4d0a-9ffb-6755a71ee70b"
      },
      "execution_count": null,
      "outputs": [
        {
          "output_type": "stream",
          "name": "stdout",
          "text": [
            "\n",
            "==================------------ K Nearest Neighbor ------------==================\n",
            "train accuracy: 0.9644670050761421\n",
            "validation accuracy: 0.8793103448275862\n",
            "test accuracy: 0.8875\n",
            "\n",
            "--- validation ---\n",
            "\n",
            "col_0    0   1\n",
            "target        \n",
            "0       27   4\n",
            "1        3  24\n",
            "\n",
            "              precision    recall  f1-score   support\n",
            "\n",
            "           0       0.90      0.87      0.89        31\n",
            "           1       0.86      0.89      0.87        27\n",
            "\n",
            "    accuracy                           0.88        58\n",
            "   macro avg       0.88      0.88      0.88        58\n",
            "weighted avg       0.88      0.88      0.88        58\n",
            "\n",
            "\n",
            "--- test ---\n",
            "\n",
            "col_0    0   1\n",
            "target        \n",
            "0       31   5\n",
            "1        4  40\n",
            "\n",
            "              precision    recall  f1-score   support\n",
            "\n",
            "           0       0.89      0.86      0.87        36\n",
            "           1       0.89      0.91      0.90        44\n",
            "\n",
            "    accuracy                           0.89        80\n",
            "   macro avg       0.89      0.89      0.89        80\n",
            "weighted avg       0.89      0.89      0.89        80\n",
            "\n"
          ]
        }
      ]
    },
    {
      "cell_type": "code",
      "source": [
        "plot_confusion_matrix(knn, X_test, y_test, cmap='gray')\n",
        "plt.title('Confusion matrix')\n",
        "plt.show()"
      ],
      "metadata": {
        "colab": {
          "base_uri": "https://localhost:8080/",
          "height": 350
        },
        "id": "Ilt7iVSyxhzY",
        "outputId": "5b1ef888-6026-4bbc-c84b-b44371fbbfab"
      },
      "execution_count": null,
      "outputs": [
        {
          "output_type": "stream",
          "name": "stderr",
          "text": [
            "/usr/local/lib/python3.7/dist-packages/sklearn/utils/deprecation.py:87: FutureWarning: Function plot_confusion_matrix is deprecated; Function `plot_confusion_matrix` is deprecated in 1.0 and will be removed in 1.2. Use one of the class methods: ConfusionMatrixDisplay.from_predictions or ConfusionMatrixDisplay.from_estimator.\n",
            "  warnings.warn(msg, category=FutureWarning)\n"
          ]
        },
        {
          "output_type": "display_data",
          "data": {
            "text/plain": [
              "<Figure size 432x288 with 2 Axes>"
            ],
            "image/png": "[encoded data removed]"
          },
          "metadata": {
            "needs_background": "light"
          }
        }
      ]
    },
    {
      "cell_type": "code",
      "source": [
        "train_sizes1, train_scores1, test_scores1 = learning_curve(m, X_train, y_train, cv=10, \n",
        "               scoring='accuracy', n_jobs=-1, \n",
        "               train_sizes=np.linspace(0.01, 1, 100), \n",
        "               verbose=1)"
      ],
      "metadata": {
        "colab": {
          "base_uri": "https://localhost:8080/"
        },
        "id": "9GMkUP7vnR63",
        "outputId": "6808bba7-02a7-4122-b140-4d7c0567451e"
      },
      "execution_count": null,
      "outputs": [
        {
          "output_type": "stream",
          "name": "stdout",
          "text": [
            "[learning_curve] Training set sizes: [  3   7  10  14  17  21  24  28  31  35  38  42  46  49  53  56  60  63\n",
            "  67  70  74  77  81  84  88  92  95  99 102 106 109 113 116 120 123 127\n",
            " 130 134 138 141 145 148 152 155 159 162 166 169 173 177 180 184 187 191\n",
            " 194 198 201 205 208 212 215 219 223 226 230 233 237 240 244 247 251 254\n",
            " 258 261 265 269 272 276 279 283 286 290 293 297 300 304 307 311 315 318\n",
            " 322 325 329 332 336 339 343 346 350 354]\n"
          ]
        },
        {
          "output_type": "stream",
          "name": "stderr",
          "text": [
            "[Parallel(n_jobs=-1)]: Using backend LokyBackend with 2 concurrent workers.\n",
            "[Parallel(n_jobs=-1)]: Done 1000 out of 1000 | elapsed:   18.6s finished\n"
          ]
        }
      ]
    },
    {
      "cell_type": "code",
      "source": [
        "train_mean1 = np.mean(train_scores1, axis=1)\n",
        "train_std1 = np.std(train_scores1, axis=1)\n",
        "test_mean1 = np.mean(test_scores1, axis=1)\n",
        "test_std1 = np.std(test_scores1, axis=1)"
      ],
      "metadata": {
        "id": "-3KZ3o5losZb"
      },
      "execution_count": null,
      "outputs": []
    },
    {
      "cell_type": "code",
      "source": [
        "plt.figure(figsize=(9, 5))\n",
        "plt.plot(train_sizes1, train_mean1, marker='8', linestyle='dashed', linewidth=2, markersize=6, label='Training Score')\n",
        "plt.plot(train_sizes1, test_mean1, marker='8', linestyle='dashed', linewidth=2, markersize=6, label='Test Score')\n",
        "\n",
        "plt.fill_between(train_sizes1, train_mean1-train_std1, train_mean1+train_std1, color='#DDDDDD')\n",
        "plt.fill_between(train_sizes1, test_mean1-test_std1, test_mean1+test_std1, color='#DDDDDD')\n",
        "\n",
        "plt.title('Learning Curve')\n",
        "plt.xlabel('Training Size')\n",
        "plt.ylabel('Accuracy Score')\n",
        "plt.legend(loc = 'best')\n",
        "plt.show()"
      ],
      "metadata": {
        "colab": {
          "base_uri": "https://localhost:8080/",
          "height": 350
        },
        "id": "Uj3tjylwomYo",
        "outputId": "ed6b25b7-a89b-4562-f0a9-c20b84c1d786"
      },
      "execution_count": null,
      "outputs": [
        {
          "output_type": "display_data",
          "data": {
            "text/plain": [
              "<Figure size 648x360 with 1 Axes>"
            ],
            "image/png": "[encoded data removed]"
          },
          "metadata": {
            "needs_background": "light"
          }
        }
      ]
    },
    {
      "cell_type": "markdown",
      "source": [
        "## SVM"
      ],
      "metadata": {
        "id": "mdTJjYLl4WdN"
      }
    },
    {
      "cell_type": "markdown",
      "source": [
        "### Grid Search CV"
      ],
      "metadata": {
        "id": "2dtyatLlfGAU"
      }
    },
    {
      "cell_type": "code",
      "source": [
        "params = {\n",
        "    'kernel': ['rbf', 'linear'],\n",
        "    'C': [0.1, 1.0, 10.0, 25.0, 50.0, 100.0],\n",
        "    'gamma': [0.01, 0.1, 10.0]\n",
        "}"
      ],
      "metadata": {
        "id": "K_a4oV-odoSm"
      },
      "execution_count": null,
      "outputs": []
    },
    {
      "cell_type": "code",
      "source": [
        "gscv = GridSearchCV(SVC(), param_grid=params, verbose=2)\n",
        "gscv.fit(X_train, y_train)"
      ],
      "metadata": {
        "colab": {
          "base_uri": "https://localhost:8080/"
        },
        "id": "vvDj-KQEfLsS",
        "outputId": "273d0113-b2db-4693-c125-1d68fa5f7a71"
      },
      "execution_count": null,
      "outputs": [
        {
          "output_type": "stream",
          "name": "stdout",
          "text": [
            "Fitting 5 folds for each of 36 candidates, totalling 180 fits\n",
            "[CV] END ......................C=0.1, gamma=0.01, kernel=rbf; total time=   0.0s\n",
            "[CV] END ......................C=0.1, gamma=0.01, kernel=rbf; total time=   0.0s\n",
            "[CV] END ......................C=0.1, gamma=0.01, kernel=rbf; total time=   0.0s\n",
            "[CV] END ......................C=0.1, gamma=0.01, kernel=rbf; total time=   0.0s\n",
            "[CV] END ......................C=0.1, gamma=0.01, kernel=rbf; total time=   0.0s\n",
            "[CV] END ...................C=0.1, gamma=0.01, kernel=linear; total time=   0.0s\n",
            "[CV] END ...................C=0.1, gamma=0.01, kernel=linear; total time=   0.0s\n",
            "[CV] END ...................C=0.1, gamma=0.01, kernel=linear; total time=   0.0s\n",
            "[CV] END ...................C=0.1, gamma=0.01, kernel=linear; total time=   0.0s\n",
            "[CV] END ...................C=0.1, gamma=0.01, kernel=linear; total time=   0.0s\n",
            "[CV] END .......................C=0.1, gamma=0.1, kernel=rbf; total time=   0.0s\n",
            "[CV] END .......................C=0.1, gamma=0.1, kernel=rbf; total time=   0.0s\n",
            "[CV] END .......................C=0.1, gamma=0.1, kernel=rbf; total time=   0.0s\n",
            "[CV] END .......................C=0.1, gamma=0.1, kernel=rbf; total time=   0.0s\n",
            "[CV] END .......................C=0.1, gamma=0.1, kernel=rbf; total time=   0.0s\n",
            "[CV] END ....................C=0.1, gamma=0.1, kernel=linear; total time=   0.0s\n",
            "[CV] END ....................C=0.1, gamma=0.1, kernel=linear; total time=   0.0s\n",
            "[CV] END ....................C=0.1, gamma=0.1, kernel=linear; total time=   0.0s\n",
            "[CV] END ....................C=0.1, gamma=0.1, kernel=linear; total time=   0.0s\n",
            "[CV] END ....................C=0.1, gamma=0.1, kernel=linear; total time=   0.0s\n",
            "[CV] END ......................C=0.1, gamma=10.0, kernel=rbf; total time=   0.0s\n",
            "[CV] END ......................C=0.1, gamma=10.0, kernel=rbf; total time=   0.0s\n",
            "[CV] END ......................C=0.1, gamma=10.0, kernel=rbf; total time=   0.0s\n",
            "[CV] END ......................C=0.1, gamma=10.0, kernel=rbf; total time=   0.0s\n",
            "[CV] END ......................C=0.1, gamma=10.0, kernel=rbf; total time=   0.0s\n",
            "[CV] END ...................C=0.1, gamma=10.0, kernel=linear; total time=   0.0s\n",
            "[CV] END ...................C=0.1, gamma=10.0, kernel=linear; total time=   0.0s\n",
            "[CV] END ...................C=0.1, gamma=10.0, kernel=linear; total time=   0.0s\n",
            "[CV] END ...................C=0.1, gamma=10.0, kernel=linear; total time=   0.0s\n",
            "[CV] END ...................C=0.1, gamma=10.0, kernel=linear; total time=   0.0s\n",
            "[CV] END ......................C=1.0, gamma=0.01, kernel=rbf; total time=   0.0s\n",
            "[CV] END ......................C=1.0, gamma=0.01, kernel=rbf; total time=   0.0s\n",
            "[CV] END ......................C=1.0, gamma=0.01, kernel=rbf; total time=   0.0s\n",
            "[CV] END ......................C=1.0, gamma=0.01, kernel=rbf; total time=   0.0s\n",
            "[CV] END ......................C=1.0, gamma=0.01, kernel=rbf; total time=   0.0s\n",
            "[CV] END ...................C=1.0, gamma=0.01, kernel=linear; total time=   0.0s\n",
            "[CV] END ...................C=1.0, gamma=0.01, kernel=linear; total time=   0.0s\n",
            "[CV] END ...................C=1.0, gamma=0.01, kernel=linear; total time=   0.0s\n",
            "[CV] END ...................C=1.0, gamma=0.01, kernel=linear; total time=   0.0s\n",
            "[CV] END ...................C=1.0, gamma=0.01, kernel=linear; total time=   0.0s\n",
            "[CV] END .......................C=1.0, gamma=0.1, kernel=rbf; total time=   0.0s\n",
            "[CV] END .......................C=1.0, gamma=0.1, kernel=rbf; total time=   0.0s\n",
            "[CV] END .......................C=1.0, gamma=0.1, kernel=rbf; total time=   0.0s\n",
            "[CV] END .......................C=1.0, gamma=0.1, kernel=rbf; total time=   0.0s\n",
            "[CV] END .......................C=1.0, gamma=0.1, kernel=rbf; total time=   0.0s\n",
            "[CV] END ....................C=1.0, gamma=0.1, kernel=linear; total time=   0.0s\n",
            "[CV] END ....................C=1.0, gamma=0.1, kernel=linear; total time=   0.0s\n",
            "[CV] END ....................C=1.0, gamma=0.1, kernel=linear; total time=   0.0s\n",
            "[CV] END ....................C=1.0, gamma=0.1, kernel=linear; total time=   0.0s\n",
            "[CV] END ....................C=1.0, gamma=0.1, kernel=linear; total time=   0.0s\n",
            "[CV] END ......................C=1.0, gamma=10.0, kernel=rbf; total time=   0.0s\n",
            "[CV] END ......................C=1.0, gamma=10.0, kernel=rbf; total time=   0.0s\n",
            "[CV] END ......................C=1.0, gamma=10.0, kernel=rbf; total time=   0.0s\n",
            "[CV] END ......................C=1.0, gamma=10.0, kernel=rbf; total time=   0.0s\n",
            "[CV] END ......................C=1.0, gamma=10.0, kernel=rbf; total time=   0.0s\n",
            "[CV] END ...................C=1.0, gamma=10.0, kernel=linear; total time=   0.0s\n",
            "[CV] END ...................C=1.0, gamma=10.0, kernel=linear; total time=   0.0s\n",
            "[CV] END ...................C=1.0, gamma=10.0, kernel=linear; total time=   0.0s\n",
            "[CV] END ...................C=1.0, gamma=10.0, kernel=linear; total time=   0.0s\n",
            "[CV] END ...................C=1.0, gamma=10.0, kernel=linear; total time=   0.0s\n",
            "[CV] END .....................C=10.0, gamma=0.01, kernel=rbf; total time=   0.0s\n",
            "[CV] END .....................C=10.0, gamma=0.01, kernel=rbf; total time=   0.0s\n",
            "[CV] END .....................C=10.0, gamma=0.01, kernel=rbf; total time=   0.0s\n",
            "[CV] END .....................C=10.0, gamma=0.01, kernel=rbf; total time=   0.0s\n",
            "[CV] END .....................C=10.0, gamma=0.01, kernel=rbf; total time=   0.0s\n",
            "[CV] END ..................C=10.0, gamma=0.01, kernel=linear; total time=   0.0s\n",
            "[CV] END ..................C=10.0, gamma=0.01, kernel=linear; total time=   0.0s\n",
            "[CV] END ..................C=10.0, gamma=0.01, kernel=linear; total time=   0.0s\n",
            "[CV] END ..................C=10.0, gamma=0.01, kernel=linear; total time=   0.0s\n",
            "[CV] END ..................C=10.0, gamma=0.01, kernel=linear; total time=   0.0s\n",
            "[CV] END ......................C=10.0, gamma=0.1, kernel=rbf; total time=   0.0s\n",
            "[CV] END ......................C=10.0, gamma=0.1, kernel=rbf; total time=   0.0s\n",
            "[CV] END ......................C=10.0, gamma=0.1, kernel=rbf; total time=   0.0s\n",
            "[CV] END ......................C=10.0, gamma=0.1, kernel=rbf; total time=   0.0s\n",
            "[CV] END ......................C=10.0, gamma=0.1, kernel=rbf; total time=   0.0s\n",
            "[CV] END ...................C=10.0, gamma=0.1, kernel=linear; total time=   0.0s\n",
            "[CV] END ...................C=10.0, gamma=0.1, kernel=linear; total time=   0.0s\n",
            "[CV] END ...................C=10.0, gamma=0.1, kernel=linear; total time=   0.0s\n",
            "[CV] END ...................C=10.0, gamma=0.1, kernel=linear; total time=   0.0s\n",
            "[CV] END ...................C=10.0, gamma=0.1, kernel=linear; total time=   0.0s\n",
            "[CV] END .....................C=10.0, gamma=10.0, kernel=rbf; total time=   0.0s\n",
            "[CV] END .....................C=10.0, gamma=10.0, kernel=rbf; total time=   0.0s\n",
            "[CV] END .....................C=10.0, gamma=10.0, kernel=rbf; total time=   0.0s\n",
            "[CV] END .....................C=10.0, gamma=10.0, kernel=rbf; total time=   0.0s\n",
            "[CV] END .....................C=10.0, gamma=10.0, kernel=rbf; total time=   0.0s\n",
            "[CV] END ..................C=10.0, gamma=10.0, kernel=linear; total time=   0.0s\n",
            "[CV] END ..................C=10.0, gamma=10.0, kernel=linear; total time=   0.0s\n",
            "[CV] END ..................C=10.0, gamma=10.0, kernel=linear; total time=   0.0s\n",
            "[CV] END ..................C=10.0, gamma=10.0, kernel=linear; total time=   0.0s\n",
            "[CV] END ..................C=10.0, gamma=10.0, kernel=linear; total time=   0.0s\n",
            "[CV] END .....................C=25.0, gamma=0.01, kernel=rbf; total time=   0.0s\n",
            "[CV] END .....................C=25.0, gamma=0.01, kernel=rbf; total time=   0.0s\n",
            "[CV] END .....................C=25.0, gamma=0.01, kernel=rbf; total time=   0.0s\n",
            "[CV] END .....................C=25.0, gamma=0.01, kernel=rbf; total time=   0.0s\n",
            "[CV] END .....................C=25.0, gamma=0.01, kernel=rbf; total time=   0.0s\n",
            "[CV] END ..................C=25.0, gamma=0.01, kernel=linear; total time=   0.0s\n",
            "[CV] END ..................C=25.0, gamma=0.01, kernel=linear; total time=   0.0s\n",
            "[CV] END ..................C=25.0, gamma=0.01, kernel=linear; total time=   0.0s\n",
            "[CV] END ..................C=25.0, gamma=0.01, kernel=linear; total time=   0.0s\n",
            "[CV] END ..................C=25.0, gamma=0.01, kernel=linear; total time=   0.0s\n",
            "[CV] END ......................C=25.0, gamma=0.1, kernel=rbf; total time=   0.0s\n",
            "[CV] END ......................C=25.0, gamma=0.1, kernel=rbf; total time=   0.0s\n",
            "[CV] END ......................C=25.0, gamma=0.1, kernel=rbf; total time=   0.0s\n",
            "[CV] END ......................C=25.0, gamma=0.1, kernel=rbf; total time=   0.0s\n",
            "[CV] END ......................C=25.0, gamma=0.1, kernel=rbf; total time=   0.0s\n",
            "[CV] END ...................C=25.0, gamma=0.1, kernel=linear; total time=   0.0s\n",
            "[CV] END ...................C=25.0, gamma=0.1, kernel=linear; total time=   0.0s\n",
            "[CV] END ...................C=25.0, gamma=0.1, kernel=linear; total time=   0.0s\n",
            "[CV] END ...................C=25.0, gamma=0.1, kernel=linear; total time=   0.0s\n",
            "[CV] END ...................C=25.0, gamma=0.1, kernel=linear; total time=   0.0s\n",
            "[CV] END .....................C=25.0, gamma=10.0, kernel=rbf; total time=   0.0s\n",
            "[CV] END .....................C=25.0, gamma=10.0, kernel=rbf; total time=   0.0s\n",
            "[CV] END .....................C=25.0, gamma=10.0, kernel=rbf; total time=   0.0s\n",
            "[CV] END .....................C=25.0, gamma=10.0, kernel=rbf; total time=   0.0s\n",
            "[CV] END .....................C=25.0, gamma=10.0, kernel=rbf; total time=   0.0s\n",
            "[CV] END ..................C=25.0, gamma=10.0, kernel=linear; total time=   0.0s\n",
            "[CV] END ..................C=25.0, gamma=10.0, kernel=linear; total time=   0.0s\n",
            "[CV] END ..................C=25.0, gamma=10.0, kernel=linear; total time=   0.0s\n",
            "[CV] END ..................C=25.0, gamma=10.0, kernel=linear; total time=   0.0s\n",
            "[CV] END ..................C=25.0, gamma=10.0, kernel=linear; total time=   0.0s\n",
            "[CV] END .....................C=50.0, gamma=0.01, kernel=rbf; total time=   0.0s\n",
            "[CV] END .....................C=50.0, gamma=0.01, kernel=rbf; total time=   0.0s\n",
            "[CV] END .....................C=50.0, gamma=0.01, kernel=rbf; total time=   0.0s\n",
            "[CV] END .....................C=50.0, gamma=0.01, kernel=rbf; total time=   0.0s\n",
            "[CV] END .....................C=50.0, gamma=0.01, kernel=rbf; total time=   0.0s\n",
            "[CV] END ..................C=50.0, gamma=0.01, kernel=linear; total time=   0.0s\n",
            "[CV] END ..................C=50.0, gamma=0.01, kernel=linear; total time=   0.0s\n",
            "[CV] END ..................C=50.0, gamma=0.01, kernel=linear; total time=   0.0s\n",
            "[CV] END ..................C=50.0, gamma=0.01, kernel=linear; total time=   0.0s\n",
            "[CV] END ..................C=50.0, gamma=0.01, kernel=linear; total time=   0.0s\n",
            "[CV] END ......................C=50.0, gamma=0.1, kernel=rbf; total time=   0.0s\n",
            "[CV] END ......................C=50.0, gamma=0.1, kernel=rbf; total time=   0.0s\n",
            "[CV] END ......................C=50.0, gamma=0.1, kernel=rbf; total time=   0.0s\n",
            "[CV] END ......................C=50.0, gamma=0.1, kernel=rbf; total time=   0.0s\n",
            "[CV] END ......................C=50.0, gamma=0.1, kernel=rbf; total time=   0.0s\n",
            "[CV] END ...................C=50.0, gamma=0.1, kernel=linear; total time=   0.0s\n",
            "[CV] END ...................C=50.0, gamma=0.1, kernel=linear; total time=   0.0s\n",
            "[CV] END ...................C=50.0, gamma=0.1, kernel=linear; total time=   0.0s\n",
            "[CV] END ...................C=50.0, gamma=0.1, kernel=linear; total time=   0.0s\n",
            "[CV] END ...................C=50.0, gamma=0.1, kernel=linear; total time=   0.0s\n",
            "[CV] END .....................C=50.0, gamma=10.0, kernel=rbf; total time=   0.0s\n",
            "[CV] END .....................C=50.0, gamma=10.0, kernel=rbf; total time=   0.0s\n",
            "[CV] END .....................C=50.0, gamma=10.0, kernel=rbf; total time=   0.0s\n",
            "[CV] END .....................C=50.0, gamma=10.0, kernel=rbf; total time=   0.0s\n",
            "[CV] END .....................C=50.0, gamma=10.0, kernel=rbf; total time=   0.0s\n",
            "[CV] END ..................C=50.0, gamma=10.0, kernel=linear; total time=   0.0s\n",
            "[CV] END ..................C=50.0, gamma=10.0, kernel=linear; total time=   0.0s\n",
            "[CV] END ..................C=50.0, gamma=10.0, kernel=linear; total time=   0.0s\n",
            "[CV] END ..................C=50.0, gamma=10.0, kernel=linear; total time=   0.0s\n",
            "[CV] END ..................C=50.0, gamma=10.0, kernel=linear; total time=   0.0s\n",
            "[CV] END ....................C=100.0, gamma=0.01, kernel=rbf; total time=   0.0s\n",
            "[CV] END ....................C=100.0, gamma=0.01, kernel=rbf; total time=   0.0s\n",
            "[CV] END ....................C=100.0, gamma=0.01, kernel=rbf; total time=   0.0s\n",
            "[CV] END ....................C=100.0, gamma=0.01, kernel=rbf; total time=   0.0s\n",
            "[CV] END ....................C=100.0, gamma=0.01, kernel=rbf; total time=   0.0s\n",
            "[CV] END .................C=100.0, gamma=0.01, kernel=linear; total time=   0.0s\n",
            "[CV] END .................C=100.0, gamma=0.01, kernel=linear; total time=   0.0s\n",
            "[CV] END .................C=100.0, gamma=0.01, kernel=linear; total time=   0.0s\n",
            "[CV] END .................C=100.0, gamma=0.01, kernel=linear; total time=   0.0s\n",
            "[CV] END .................C=100.0, gamma=0.01, kernel=linear; total time=   0.0s\n",
            "[CV] END .....................C=100.0, gamma=0.1, kernel=rbf; total time=   0.0s\n",
            "[CV] END .....................C=100.0, gamma=0.1, kernel=rbf; total time=   0.0s\n",
            "[CV] END .....................C=100.0, gamma=0.1, kernel=rbf; total time=   0.0s\n",
            "[CV] END .....................C=100.0, gamma=0.1, kernel=rbf; total time=   0.0s\n",
            "[CV] END .....................C=100.0, gamma=0.1, kernel=rbf; total time=   0.0s\n",
            "[CV] END ..................C=100.0, gamma=0.1, kernel=linear; total time=   0.0s\n",
            "[CV] END ..................C=100.0, gamma=0.1, kernel=linear; total time=   0.0s\n",
            "[CV] END ..................C=100.0, gamma=0.1, kernel=linear; total time=   0.0s\n",
            "[CV] END ..................C=100.0, gamma=0.1, kernel=linear; total time=   0.0s\n",
            "[CV] END ..................C=100.0, gamma=0.1, kernel=linear; total time=   0.0s\n",
            "[CV] END ....................C=100.0, gamma=10.0, kernel=rbf; total time=   0.0s\n",
            "[CV] END ....................C=100.0, gamma=10.0, kernel=rbf; total time=   0.0s\n",
            "[CV] END ....................C=100.0, gamma=10.0, kernel=rbf; total time=   0.0s\n",
            "[CV] END ....................C=100.0, gamma=10.0, kernel=rbf; total time=   0.0s\n",
            "[CV] END ....................C=100.0, gamma=10.0, kernel=rbf; total time=   0.0s\n",
            "[CV] END .................C=100.0, gamma=10.0, kernel=linear; total time=   0.0s\n",
            "[CV] END .................C=100.0, gamma=10.0, kernel=linear; total time=   0.1s\n",
            "[CV] END .................C=100.0, gamma=10.0, kernel=linear; total time=   0.0s\n",
            "[CV] END .................C=100.0, gamma=10.0, kernel=linear; total time=   0.0s\n",
            "[CV] END .................C=100.0, gamma=10.0, kernel=linear; total time=   0.0s\n"
          ]
        },
        {
          "output_type": "execute_result",
          "data": {
            "text/plain": [
              "GridSearchCV(estimator=SVC(),\n",
              "             param_grid={'C': [0.1, 1.0, 10.0, 25.0, 50.0, 100.0],\n",
              "                         'gamma': [0.01, 0.1, 10.0],\n",
              "                         'kernel': ['rbf', 'linear']},\n",
              "             verbose=2)"
            ]
          },
          "metadata": {},
          "execution_count": 109
        }
      ]
    },
    {
      "cell_type": "code",
      "source": [
        "gscv.best_params_"
      ],
      "metadata": {
        "colab": {
          "base_uri": "https://localhost:8080/"
        },
        "id": "gbUAiOj6fdZq",
        "outputId": "2a08d43e-47e5-4a87-c254-9bd925a94032"
      },
      "execution_count": null,
      "outputs": [
        {
          "output_type": "execute_result",
          "data": {
            "text/plain": [
              "{'C': 10.0, 'gamma': 10.0, 'kernel': 'rbf'}"
            ]
          },
          "metadata": {},
          "execution_count": 110
        }
      ]
    },
    {
      "cell_type": "markdown",
      "source": [
        "Got the hyperparameter which will work best compare to others"
      ],
      "metadata": {
        "id": "VP_9QDRThIe5"
      }
    },
    {
      "cell_type": "code",
      "source": [
        "gscv.best_score_"
      ],
      "metadata": {
        "colab": {
          "base_uri": "https://localhost:8080/"
        },
        "id": "2phtwD5fgPs7",
        "outputId": "82fa95e2-9b45-4ebf-fba4-b44beb399242"
      },
      "execution_count": null,
      "outputs": [
        {
          "output_type": "execute_result",
          "data": {
            "text/plain": [
              "0.8706913339824732"
            ]
          },
          "metadata": {},
          "execution_count": 111
        }
      ]
    },
    {
      "cell_type": "markdown",
      "source": [
        "### model train using these given parameter"
      ],
      "metadata": {
        "id": "LYix2XY9xsCf"
      }
    },
    {
      "cell_type": "code",
      "source": [
        "svm = SVC(kernel='rbf', C=10, gamma=10)\n",
        "svm.fit(X_train, y_train)\n",
        "\n",
        "y_predict_svm = svm.predict(X_val)\n",
        "y_predict_train_svm = svm.predict(X_train)\n",
        "y_predict_test_svm = svm.predict(X_test)\n",
        "\n",
        "print('\\n==================------------ Support Vector Classification ------------==================')\n",
        "\n",
        "print('train accuracy:', accuracy_score(y_train, y_predict_train_svm))\n",
        "print('validation accuracy:', accuracy_score(y_val, y_predict_svm))\n",
        "print('test accuracy:', accuracy_score(y_test, y_predict_test_svm))\n",
        "\n",
        "print('\\n--- validation ---\\n')\n",
        "print(pd.crosstab(y_val, y_predict_svm))\n",
        "print()\n",
        "print(classification_report(y_val, y_predict_svm))\n",
        "\n",
        "print('\\n--- test ---\\n')\n",
        "print(pd.crosstab(y_test, y_predict_test_svm))\n",
        "print()\n",
        "print(classification_report(y_test, y_predict_test_svm))"
      ],
      "metadata": {
        "colab": {
          "base_uri": "https://localhost:8080/"
        },
        "id": "sT-fjI0WgSEX",
        "outputId": "4019f0ef-6c49-4958-fa92-9c3aaf1b052c"
      },
      "execution_count": null,
      "outputs": [
        {
          "output_type": "stream",
          "name": "stdout",
          "text": [
            "\n",
            "==================------------ Support Vector Classification ------------==================\n",
            "train accuracy: 0.9720812182741116\n",
            "validation accuracy: 0.9310344827586207\n",
            "test accuracy: 0.8875\n",
            "\n",
            "--- validation ---\n",
            "\n",
            "col_0    0   1\n",
            "target        \n",
            "0       29   2\n",
            "1        2  25\n",
            "\n",
            "              precision    recall  f1-score   support\n",
            "\n",
            "           0       0.94      0.94      0.94        31\n",
            "           1       0.93      0.93      0.93        27\n",
            "\n",
            "    accuracy                           0.93        58\n",
            "   macro avg       0.93      0.93      0.93        58\n",
            "weighted avg       0.93      0.93      0.93        58\n",
            "\n",
            "\n",
            "--- test ---\n",
            "\n",
            "col_0    0   1\n",
            "target        \n",
            "0       29   7\n",
            "1        2  42\n",
            "\n",
            "              precision    recall  f1-score   support\n",
            "\n",
            "           0       0.94      0.81      0.87        36\n",
            "           1       0.86      0.95      0.90        44\n",
            "\n",
            "    accuracy                           0.89        80\n",
            "   macro avg       0.90      0.88      0.88        80\n",
            "weighted avg       0.89      0.89      0.89        80\n",
            "\n"
          ]
        }
      ]
    },
    {
      "cell_type": "code",
      "source": [
        "plot_confusion_matrix(svm, X_test, y_test, cmap='gray')\n",
        "plt.title('Confusion matrix')\n",
        "plt.show()"
      ],
      "metadata": {
        "colab": {
          "base_uri": "https://localhost:8080/"
        },
        "id": "j52g2F_px0MP",
        "outputId": "07940145-7693-4860-a5cf-6b020979cd67"
      },
      "execution_count": null,
      "outputs": [
        {
          "output_type": "stream",
          "name": "stderr",
          "text": [
            "/usr/local/lib/python3.7/dist-packages/sklearn/utils/deprecation.py:87: FutureWarning: Function plot_confusion_matrix is deprecated; Function `plot_confusion_matrix` is deprecated in 1.0 and will be removed in 1.2. Use one of the class methods: ConfusionMatrixDisplay.from_predictions or ConfusionMatrixDisplay.from_estimator.\n",
            "  warnings.warn(msg, category=FutureWarning)\n"
          ]
        },
        {
          "output_type": "display_data",
          "data": {
            "text/plain": [
              "<Figure size 432x288 with 2 Axes>"
            ],
            "image/png": "[encoded data removed]"
          },
          "metadata": {
            "needs_background": "light"
          }
        }
      ]
    },
    {
      "cell_type": "markdown",
      "source": [
        "we can observe,\n",
        "\n",
        "the prediction looks pretty much balanced"
      ],
      "metadata": {
        "id": "FKOgRZiGhZZe"
      }
    },
    {
      "cell_type": "markdown",
      "source": [
        "## MLP"
      ],
      "metadata": {
        "id": "p0p4_01ndcfG"
      }
    },
    {
      "cell_type": "code",
      "source": [
        "mlp = MLPClassifier(hidden_layer_sizes=(64, 64, 32, 20, 10), \n",
        "                    activation=\"relu\", max_iter=3000, \n",
        "                    validation_fraction=0.2, random_state=1)\n",
        "\n",
        "mlp.fit(X_train, y_train)\n",
        "\n",
        "y_predict_mlp = mlp.predict(X_val)\n",
        "y_predict_train_mlp = mlp.predict(X_train)\n",
        "y_predict_test_mlp = mlp.predict(X_test)\n",
        "\n",
        "print('\\n==================------------ Support Vector Classification ------------==================')\n",
        "\n",
        "print('train accuracy:', accuracy_score(y_train, y_predict_train_mlp))\n",
        "print('validation accuracy:', accuracy_score(y_val, y_predict_mlp))\n",
        "print('test accuracy:', accuracy_score(y_test, y_predict_test_mlp))\n",
        "\n",
        "print('\\n--- validation ---\\n')\n",
        "print(pd.crosstab(y_val, y_predict_mlp))\n",
        "print()\n",
        "print(classification_report(y_val, y_predict_mlp))\n",
        "\n",
        "print('\\n--- test ---\\n')\n",
        "print(pd.crosstab(y_test, y_predict_test_mlp))\n",
        "print()\n",
        "print(classification_report(y_test, y_predict_test_mlp))"
      ],
      "metadata": {
        "colab": {
          "base_uri": "https://localhost:8080/"
        },
        "id": "wmZUnGxt5pZc",
        "outputId": "50f6db95-7e92-4b9d-b5f5-db597ffc18a3"
      },
      "execution_count": null,
      "outputs": [
        {
          "output_type": "stream",
          "name": "stdout",
          "text": [
            "\n",
            "==================------------ Support Vector Classification ------------==================\n",
            "train accuracy: 0.9746192893401016\n",
            "validation accuracy: 0.8275862068965517\n",
            "test accuracy: 0.9\n",
            "\n",
            "--- validation ---\n",
            "\n",
            "col_0    0   1\n",
            "target        \n",
            "0       23   8\n",
            "1        2  25\n",
            "\n",
            "              precision    recall  f1-score   support\n",
            "\n",
            "           0       0.92      0.74      0.82        31\n",
            "           1       0.76      0.93      0.83        27\n",
            "\n",
            "    accuracy                           0.83        58\n",
            "   macro avg       0.84      0.83      0.83        58\n",
            "weighted avg       0.84      0.83      0.83        58\n",
            "\n",
            "\n",
            "--- test ---\n",
            "\n",
            "col_0    0   1\n",
            "target        \n",
            "0       32   4\n",
            "1        4  40\n",
            "\n",
            "              precision    recall  f1-score   support\n",
            "\n",
            "           0       0.89      0.89      0.89        36\n",
            "           1       0.91      0.91      0.91        44\n",
            "\n",
            "    accuracy                           0.90        80\n",
            "   macro avg       0.90      0.90      0.90        80\n",
            "weighted avg       0.90      0.90      0.90        80\n",
            "\n"
          ]
        }
      ]
    },
    {
      "cell_type": "code",
      "source": [
        "plot_confusion_matrix(mlp, X_test, y_test, cmap='gray')\n",
        "plt.title('Confusion matrix')\n",
        "plt.show()"
      ],
      "metadata": {
        "colab": {
          "base_uri": "https://localhost:8080/",
          "height": 350
        },
        "id": "eh7pLw5pyAtm",
        "outputId": "b4eb3396-450f-47a7-d352-b43a2bc01d38"
      },
      "execution_count": null,
      "outputs": [
        {
          "output_type": "stream",
          "name": "stderr",
          "text": [
            "/usr/local/lib/python3.7/dist-packages/sklearn/utils/deprecation.py:87: FutureWarning: Function plot_confusion_matrix is deprecated; Function `plot_confusion_matrix` is deprecated in 1.0 and will be removed in 1.2. Use one of the class methods: ConfusionMatrixDisplay.from_predictions or ConfusionMatrixDisplay.from_estimator.\n",
            "  warnings.warn(msg, category=FutureWarning)\n"
          ]
        },
        {
          "output_type": "display_data",
          "data": {
            "text/plain": [
              "<Figure size 432x288 with 2 Axes>"
            ],
            "image/png": "[encoded data removed]"
          },
          "metadata": {
            "needs_background": "light"
          }
        }
      ]
    },
    {
      "cell_type": "markdown",
      "source": [
        "### Loss curve"
      ],
      "metadata": {
        "id": "e1mMsEOCwTRs"
      }
    },
    {
      "cell_type": "code",
      "source": [
        "plt.plot(mlp.loss_curve_)\n",
        "plt.show()"
      ],
      "metadata": {
        "colab": {
          "base_uri": "https://localhost:8080/",
          "height": 265
        },
        "id": "VBHyoqlWqLnO",
        "outputId": "fc4c4d17-e74c-4249-80d3-496e1a5cdcc9"
      },
      "execution_count": null,
      "outputs": [
        {
          "output_type": "display_data",
          "data": {
            "text/plain": [
              "<Figure size 432x288 with 1 Axes>"
            ],
            "image/png": "[encoded data removed]"
          },
          "metadata": {
            "needs_background": "light"
          }
        }
      ]
    },
    {
      "cell_type": "markdown",
      "source": [
        "## Logistic Regression"
      ],
      "metadata": {
        "id": "Yda9VCnqdV0u"
      }
    },
    {
      "cell_type": "code",
      "source": [
        "lr = LogisticRegression(max_iter=2500)\n",
        "lr.fit(X_train, y_train)\n",
        "\n",
        "y_predict_lr = lr.predict(X_val)\n",
        "y_predict_train_lr = lr.predict(X_train)\n",
        "y_predict_test_lr = lr.predict(X_test)\n",
        "\n",
        "print('\\n==================------------ Support Vector Classification ------------==================')\n",
        "\n",
        "print('train accuracy:', accuracy_score(y_train, y_predict_train_lr))\n",
        "print('validation accuracy:', accuracy_score(y_val, y_predict_lr))\n",
        "print('test accuracy:', accuracy_score(y_test, y_predict_test_lr))\n",
        "\n",
        "print('\\n--- validation ---\\n')\n",
        "print(pd.crosstab(y_val, y_predict_lr))\n",
        "print()\n",
        "print(classification_report(y_val, y_predict_lr))\n",
        "\n",
        "print('\\n--- test ---\\n')\n",
        "print(pd.crosstab(y_test, y_predict_test_lr))\n",
        "print()\n",
        "print(classification_report(y_test, y_predict_test_lr))"
      ],
      "metadata": {
        "colab": {
          "base_uri": "https://localhost:8080/"
        },
        "id": "j_nz69l4jBei",
        "outputId": "72dbe511-6a23-425e-b7e5-5251b9246523"
      },
      "execution_count": null,
      "outputs": [
        {
          "output_type": "stream",
          "name": "stdout",
          "text": [
            "\n",
            "==================------------ Support Vector Classification ------------==================\n",
            "train accuracy: 0.6954314720812182\n",
            "validation accuracy: 0.6724137931034483\n",
            "test accuracy: 0.7125\n",
            "\n",
            "--- validation ---\n",
            "\n",
            "col_0    0   1\n",
            "target        \n",
            "0       20  11\n",
            "1        8  19\n",
            "\n",
            "              precision    recall  f1-score   support\n",
            "\n",
            "           0       0.71      0.65      0.68        31\n",
            "           1       0.63      0.70      0.67        27\n",
            "\n",
            "    accuracy                           0.67        58\n",
            "   macro avg       0.67      0.67      0.67        58\n",
            "weighted avg       0.68      0.67      0.67        58\n",
            "\n",
            "\n",
            "--- test ---\n",
            "\n",
            "col_0    0   1\n",
            "target        \n",
            "0       26  10\n",
            "1       13  31\n",
            "\n",
            "              precision    recall  f1-score   support\n",
            "\n",
            "           0       0.67      0.72      0.69        36\n",
            "           1       0.76      0.70      0.73        44\n",
            "\n",
            "    accuracy                           0.71        80\n",
            "   macro avg       0.71      0.71      0.71        80\n",
            "weighted avg       0.72      0.71      0.71        80\n",
            "\n"
          ]
        }
      ]
    },
    {
      "cell_type": "code",
      "source": [
        "plot_confusion_matrix(lr, X_test, y_test, cmap='gray')\n",
        "plt.title('Confusion matrix')\n",
        "plt.show()"
      ],
      "metadata": {
        "colab": {
          "base_uri": "https://localhost:8080/",
          "height": 350
        },
        "id": "8Td8IGptyHie",
        "outputId": "c33591e9-6194-411a-d081-2b0d6b4f9ef8"
      },
      "execution_count": null,
      "outputs": [
        {
          "output_type": "stream",
          "name": "stderr",
          "text": [
            "/usr/local/lib/python3.7/dist-packages/sklearn/utils/deprecation.py:87: FutureWarning: Function plot_confusion_matrix is deprecated; Function `plot_confusion_matrix` is deprecated in 1.0 and will be removed in 1.2. Use one of the class methods: ConfusionMatrixDisplay.from_predictions or ConfusionMatrixDisplay.from_estimator.\n",
            "  warnings.warn(msg, category=FutureWarning)\n"
          ]
        },
        {
          "output_type": "display_data",
          "data": {
            "text/plain": [
              "<Figure size 432x288 with 2 Axes>"
            ],
            "image/png": "[encoded data removed]"
          },
          "metadata": {
            "needs_background": "light"
          }
        }
      ]
    },
    {
      "cell_type": "markdown",
      "metadata": {
        "id": "8e87199e"
      },
      "source": [
        "## ROC curve"
      ]
    },
    {
      "cell_type": "markdown",
      "source": [
        "After observe all model, we can choose two model based on confusion matrix.\n",
        "\n",
        "1. Random Forest\n",
        "\n",
        "2. K Nearest Neighbor"
      ],
      "metadata": {
        "id": "fNOVpiPh1BOE"
      }
    },
    {
      "cell_type": "markdown",
      "source": [
        "AUC score for Random Forest"
      ],
      "metadata": {
        "id": "s1IzD_gf0pxG"
      }
    },
    {
      "cell_type": "code",
      "source": [
        "proba1 = rf.predict_proba(X_test)[:, 1:]\n",
        "proba2 = [0 for _ in range(len(y_test))]\n",
        "fpr1, tpr1, threshold1 = roc_curve(y_test, proba1)\n",
        "fpr2, tpr2, threshold2 = roc_curve(y_test, proba2)\n",
        "plt.figure(figsize=(9, 5))\n",
        "plt.plot(fpr1, tpr1, color='maroon', marker='o', linestyle='dashed', linewidth=2, markersize=7, label='ROC curve')\n",
        "plt.plot(fpr2, tpr2, linestyle='--', label='Random', )\n",
        "plt.title('ROC Curve')\n",
        "plt.xlabel('False Positive Rate')\n",
        "plt.ylabel('True Positive Rate')\n",
        "plt.legend()\n",
        "plt.show()"
      ],
      "metadata": {
        "id": "gwQPx_vBwiEv",
        "colab": {
          "base_uri": "https://localhost:8080/",
          "height": 350
        },
        "outputId": "b2bebab2-780e-4f00-f8a8-bc3761f176fd"
      },
      "execution_count": null,
      "outputs": [
        {
          "output_type": "display_data",
          "data": {
            "text/plain": [
              "<Figure size 648x360 with 1 Axes>"
            ],
            "image/png": "[encoded data removed]"
          },
          "metadata": {
            "needs_background": "light"
          }
        }
      ]
    },
    {
      "cell_type": "code",
      "metadata": {
        "id": "81b7b3ab",
        "outputId": "599b8c6f-9663-4ea0-c438-8e809b171a33",
        "colab": {
          "base_uri": "https://localhost:8080/"
        }
      },
      "source": [
        "roc_auc_score(y_test, proba1)"
      ],
      "execution_count": null,
      "outputs": [
        {
          "output_type": "execute_result",
          "data": {
            "text/plain": [
              "0.9602272727272728"
            ]
          },
          "metadata": {},
          "execution_count": 168
        }
      ]
    },
    {
      "cell_type": "markdown",
      "source": [
        "AUC score for KNN"
      ],
      "metadata": {
        "id": "CD04ybuz0orQ"
      }
    },
    {
      "cell_type": "code",
      "source": [
        "proba1 = knn.predict_proba(X_test)[:, 1:]\n",
        "proba2 = [0 for _ in range(len(y_test))]\n",
        "fpr1, tpr1, threshold1 = roc_curve(y_test, proba1)\n",
        "fpr2, tpr2, threshold2 = roc_curve(y_test, proba2)\n",
        "plt.figure(figsize=(9, 5))\n",
        "plt.plot(fpr1, tpr1, color='maroon', marker='o', linestyle='dashed', linewidth=2, markersize=7, label='ROC curve')\n",
        "plt.plot(fpr2, tpr2, linestyle='--', label='Random', )\n",
        "plt.title('ROC Curve')\n",
        "plt.xlabel('False Positive Rate')\n",
        "plt.ylabel('True Positive Rate')\n",
        "plt.legend()\n",
        "plt.show()"
      ],
      "metadata": {
        "colab": {
          "base_uri": "https://localhost:8080/",
          "height": 350
        },
        "id": "k2MdUxiG0mPd",
        "outputId": "0c594049-b8e5-4902-824f-efb95c65fca4"
      },
      "execution_count": null,
      "outputs": [
        {
          "output_type": "display_data",
          "data": {
            "text/plain": [
              "<Figure size 648x360 with 1 Axes>"
            ],
            "image/png": "[encoded data removed]"
          },
          "metadata": {
            "needs_background": "light"
          }
        }
      ]
    },
    {
      "cell_type": "code",
      "source": [
        "roc_auc_score(y_test, proba1)"
      ],
      "metadata": {
        "colab": {
          "base_uri": "https://localhost:8080/"
        },
        "id": "pwMHW-t-00w_",
        "outputId": "35f186bf-c29a-46e5-e4fc-c02b440a6635"
      },
      "execution_count": null,
      "outputs": [
        {
          "output_type": "execute_result",
          "data": {
            "text/plain": [
              "0.8970959595959596"
            ]
          },
          "metadata": {},
          "execution_count": 171
        }
      ]
    },
    {
      "cell_type": "markdown",
      "source": [
        "We observe,\n",
        "\n",
        "AUC score is greater for Random Forest. Where we can see the model is 96% confident on its prediction.\n",
        "Hence, we can choose Random Forest as final model."
      ],
      "metadata": {
        "id": "BNLa84dw1bnR"
      }
    },
    {
      "cell_type": "code",
      "source": [
        ""
      ],
      "metadata": {
        "id": "GpfvKQHK0-Ev"
      },
      "execution_count": null,
      "outputs": []
    }
  ]
}